{
 "cells": [
  {
   "cell_type": "markdown",
   "metadata": {},
   "source": [
    "# DBSCAN demo\n",
    "    -Density based spatial clustering of applications with noise\n",
    "    -Only two chunks of data at this moemnt for initial test \n",
    "\n"
   ]
  },
  {
   "cell_type": "markdown",
   "metadata": {},
   "source": [
    "# Prepare the features and data pipeline for general machine learning study:\n",
    "    Load the merged data into python pandas\n",
    "    Build up the data structurte for machine learning algorithms, clutering in this experimental\n",
    "    Apply DB Scan, Set Level Tree, etc"
   ]
  },
  {
   "cell_type": "code",
   "execution_count": 32,
   "metadata": {
    "collapsed": false
   },
   "outputs": [
    {
     "name": "stdout",
     "output_type": "stream",
     "text": [
      "['', '/opt/mapr/spark/spark-2.1.0/python', '/opt/mapr/spark/spark-2.1.0/python/lib/py4j-0.9-src.zip', '/mapr/datalake/optum/optuminsight/health_at_scale/python/lib/python3.5/site-packages', '/opt/mapr/tools/python/anaconda3/lib/python35.zip', '/opt/mapr/tools/python/anaconda3/lib/python3.5', '/opt/mapr/tools/python/anaconda3/lib/python3.5/plat-linux', '/opt/mapr/tools/python/anaconda3/lib/python3.5/lib-dynload', '/opt/mapr/tools/python/anaconda3/lib/python3.5/site-packages', '/opt/mapr/tools/python/anaconda3/lib/python3.5/site-packages/Sphinx-1.4.6-py3.5.egg', '/opt/mapr/tools/python/anaconda3/lib/python3.5/site-packages/setuptools-27.2.0-py3.5.egg', '/opt/mapr/tools/python/anaconda3/lib/python3.5/site-packages/IPython/extensions', '/home/hatscale/.ipython']\n"
     ]
    }
   ],
   "source": [
    "import pandas as pd\n",
    "import numpy as np\n",
    "import os\n",
    "import csv\n",
    "\n",
    "import numpy as np\n",
    "import seaborn as sns\n",
    "import matplotlib.pyplot as plt\n",
    "\n",
    "import sklearn\n",
    "\n",
    "sns.set(style=\"darkgrid\")\n",
    "\n",
    "import sys\n",
    "print (sys.path)"
   ]
  },
  {
   "cell_type": "code",
   "execution_count": 2,
   "metadata": {
    "collapsed": true
   },
   "outputs": [],
   "source": [
    "data_dir = '/mapr/datalake/uhclake/perf/Sqoop_RX/ymalcow/101_clustering_proj01/'\n",
    "path_csvs = 'prep01ML_all2_csv'\n",
    "\n",
    "path_mrgs = os.path.join(data_dir, path_csvs)"
   ]
  },
  {
   "cell_type": "code",
   "execution_count": 3,
   "metadata": {
    "collapsed": true
   },
   "outputs": [],
   "source": [
    "# mem_attrs: member attributes\n",
    "# mem_attrs: merged claim attributes with members\n",
    "mem_attrs = ['member_individual_identifier','src_cdb_xref_id','lgcy_src_id','social_security_number_hashed' , \\\n",
    "             'member_last_name','member_first_name' ,'member_middle_name','member_middle_initial_text', \\\n",
    "             'member_name_suffix', 'mem_dob_hashed', 'memeber_zip_code_of_residence','member_sex','addr_line_1',\\\n",
    "             'addr_line_2','city_name','state','zipcode','country']\n",
    "mrg_attrs = ['claim_identifier', 'claim_system_identifier', 'member_identifier', 'member_individual_identifier', \\\n",
    "             'member_division_identifier', 'admission_src_code', 'icd_version_number', 'procedure_code', \\\n",
    "             'diag_code_diag_type_present_on_admis_ind', 'provider_medicare_identifier', 'drg', 'first_service_date', \\\n",
    "             'last_service_date', 'charged_amount', 'paid_amount', 'network_type', 'revenue_code', 'admission_type_code', \\\n",
    "             'hospital_discharge_code', 'place_of_service_code', 'billing_npi_identifier', 'rendering_npi_identifier', \\\n",
    "             'attending_npi_identifier', 'referring_npi_identifier', 'provider_mpin_number', 'provider_tin_identifier', \\\n",
    "             'provider_name', 'provider_address_street_text', 'provider_city_name', 'provider_state_code', \\\n",
    "             'provider_zip_code', 'mth', 'member_last_name', 'member_first_name', 'member_middle_name', \\\n",
    "             'member_middle_initial_text', 'member_name_suffix', 'member_age', 'member_zip_code_of_residence', \\\n",
    "             'member_income', 'member_income_type', 'member_alive_ind', 'tops_relationship_code', 'tops_sequence_number', \\\n",
    "             'member_marital_status', 'member_sex', 'member_race', 'member_coverage_effective_date', \n",
    "             'member_coverage_end_date', 'member_cosmos_panel_number', 'government_program_type_description', \\\n",
    "             'employee_status_type_description']"
   ]
  },
  {
   "cell_type": "code",
   "execution_count": 4,
   "metadata": {
    "collapsed": false
   },
   "outputs": [
    {
     "data": {
      "text/plain": [
       "52"
      ]
     },
     "execution_count": 4,
     "metadata": {},
     "output_type": "execute_result"
    }
   ],
   "source": [
    "len(mrg_attrs)"
   ]
  },
  {
   "cell_type": "code",
   "execution_count": 4,
   "metadata": {
    "collapsed": false
   },
   "outputs": [
    {
     "data": {
      "text/plain": [
       "['.000029_0.crc',\n",
       " '000008_0',\n",
       " '000018_0',\n",
       " '000002_0',\n",
       " '.000013_0.crc',\n",
       " '.000005_0.crc',\n",
       " '000011_0',\n",
       " '000001_0',\n",
       " '.000019_0.crc',\n",
       " '.000043_0.crc',\n",
       " '.000042_0.crc',\n",
       " '.000048_0.crc',\n",
       " '.000000_0.crc',\n",
       " '.000026_0.crc',\n",
       " '.000028_0.crc',\n",
       " '000048_0',\n",
       " '.000014_0.crc',\n",
       " '.000015_0.crc',\n",
       " '000020_0',\n",
       " '000022_0',\n",
       " '000038_0',\n",
       " '000030_0',\n",
       " '.000017_0.crc',\n",
       " '000017_0',\n",
       " '000028_0',\n",
       " '000032_0',\n",
       " '.000007_0.crc',\n",
       " '.000022_0.crc',\n",
       " '000036_0',\n",
       " '.000044_0.crc',\n",
       " '.000020_0.crc',\n",
       " '.000006_0.crc',\n",
       " '000044_0',\n",
       " '000027_0',\n",
       " '000004_0',\n",
       " '000013_0',\n",
       " '000006_0',\n",
       " '000039_0',\n",
       " '000015_0',\n",
       " '000005_0',\n",
       " '000016_0',\n",
       " '000019_0',\n",
       " '.000024_0.crc',\n",
       " '.000025_0.crc',\n",
       " '.000009_0.crc',\n",
       " '000034_0',\n",
       " '000047_0',\n",
       " '000000_0',\n",
       " '000026_0',\n",
       " '000035_0',\n",
       " '.000012_0.crc',\n",
       " '000043_0',\n",
       " '.000038_0.crc',\n",
       " '000024_0',\n",
       " '.000002_0.crc',\n",
       " '.000030_0.crc',\n",
       " '000012_0',\n",
       " '.000036_0.crc',\n",
       " '.000047_0.crc',\n",
       " '.000034_0.crc',\n",
       " '.000039_0.crc',\n",
       " '.000046_0.crc',\n",
       " '.000041_0.crc',\n",
       " '000023_0',\n",
       " '.000001_0.crc',\n",
       " '000045_0',\n",
       " '.000032_0.crc',\n",
       " '000029_0',\n",
       " '.000037_0.crc',\n",
       " '.000016_0.crc',\n",
       " '000021_0',\n",
       " '000009_0',\n",
       " '.000045_0.crc',\n",
       " '.000003_0.crc',\n",
       " '000033_0',\n",
       " '.000008_0.crc',\n",
       " '000042_0',\n",
       " '000007_0',\n",
       " '.000040_0.crc',\n",
       " '000037_0',\n",
       " '000031_0',\n",
       " '.000018_0.crc',\n",
       " '.000033_0.crc',\n",
       " '000014_0',\n",
       " '000025_0',\n",
       " '000003_0',\n",
       " '000010_0',\n",
       " '.000021_0.crc',\n",
       " '.000010_0.crc',\n",
       " '000040_0',\n",
       " '000041_0',\n",
       " '.000031_0.crc',\n",
       " '.000004_0.crc',\n",
       " '000046_0',\n",
       " '.000035_0.crc',\n",
       " '.000027_0.crc',\n",
       " '.000023_0.crc',\n",
       " '.000011_0.crc']"
      ]
     },
     "execution_count": 4,
     "metadata": {},
     "output_type": "execute_result"
    }
   ],
   "source": [
    "# Define the list of attributes slected for machine learning study\n",
    "ML_F_set1 = ['network_type', 'place_of_service_code', 'mth', 'member_age', \\\n",
    "             'member_sex', 'government_program_type_description', 'employee_status_type_description', \n",
    "             'charged_amount', 'paid_amount', 'member_income']\n",
    "ML_F_set2 = ['network_type', 'mth', 'member_sex', 'government_program_type_description',\n",
    "             'employee_status_type_description', 'charged_amount', 'paid_amount', 'member_income']\n",
    "\n",
    "mrgs = os.listdir(path_mrgs)\n",
    "mrgs"
   ]
  },
  {
   "cell_type": "code",
   "execution_count": 9,
   "metadata": {
    "collapsed": false
   },
   "outputs": [
    {
     "name": "stderr",
     "output_type": "stream",
     "text": [
      "/opt/mapr/tools/python/anaconda3/lib/python3.5/site-packages/IPython/core/interactiveshell.py:2717: DtypeWarning: Columns (13,16,19,24,30,37,49) have mixed types. Specify dtype option on import or set low_memory=False.\n",
      "  interactivity=interactivity, compiler=compiler, result=result)\n"
     ]
    },
    {
     "name": "stdout",
     "output_type": "stream",
     "text": [
      "Chunk 1 contains 396521 records\n"
     ]
    }
   ],
   "source": [
    "# Read in the data chunk by chunk, select the slected features and concat the dataframe\n",
    "df_all = pd.DataFrame(columns = ML_F_set1)\n",
    "cnt = 0\n",
    "for chunk in mrgs:\n",
    "    if chunk[-3:] == 'crc':\n",
    "        continue\n",
    "    cnt += 1\n",
    "    if cnt > 1:\n",
    "        break\n",
    "    curr = pd.read_csv(os.path.join(path_mrgs, chunk), sep = ';', names = mrg_attrs, error_bad_lines=False)\n",
    "    curr_slt = curr[ML_F_set1]\n",
    "    print (\"Chunk {} contains {} records\".format(cnt, len(curr_slt.index)))\n",
    "    df_all = pd.concat([df_all, curr_slt])    "
   ]
  },
  {
   "cell_type": "code",
   "execution_count": 10,
   "metadata": {
    "collapsed": false
   },
   "outputs": [
    {
     "name": "stdout",
     "output_type": "stream",
     "text": [
      "396521 \n",
      " network_type                            object\n",
      "place_of_service_code                   object\n",
      "mth                                     object\n",
      "member_age                              object\n",
      "member_sex                              object\n",
      "government_program_type_description     object\n",
      "employee_status_type_description        object\n",
      "charged_amount                          object\n",
      "paid_amount                            float64\n",
      "member_income                          float64\n",
      "dtype: object\n"
     ]
    },
    {
     "data": {
      "text/html": [
       "<div>\n",
       "<style scoped>\n",
       "    .dataframe tbody tr th:only-of-type {\n",
       "        vertical-align: middle;\n",
       "    }\n",
       "\n",
       "    .dataframe tbody tr th {\n",
       "        vertical-align: top;\n",
       "    }\n",
       "\n",
       "    .dataframe thead th {\n",
       "        text-align: right;\n",
       "    }\n",
       "</style>\n",
       "<table border=\"1\" class=\"dataframe\">\n",
       "  <thead>\n",
       "    <tr style=\"text-align: right;\">\n",
       "      <th></th>\n",
       "      <th>network_type</th>\n",
       "      <th>place_of_service_code</th>\n",
       "      <th>mth</th>\n",
       "      <th>member_age</th>\n",
       "      <th>member_sex</th>\n",
       "      <th>government_program_type_description</th>\n",
       "      <th>employee_status_type_description</th>\n",
       "      <th>charged_amount</th>\n",
       "      <th>paid_amount</th>\n",
       "      <th>member_income</th>\n",
       "    </tr>\n",
       "  </thead>\n",
       "  <tbody>\n",
       "    <tr>\n",
       "      <th>0</th>\n",
       "      <td>IN</td>\n",
       "      <td>11</td>\n",
       "      <td>2018-02</td>\n",
       "      <td>76</td>\n",
       "      <td>FEMALE</td>\n",
       "      <td>MEDICARE</td>\n",
       "      <td>ACTIVE</td>\n",
       "      <td>0.01</td>\n",
       "      <td>0.0</td>\n",
       "      <td>0.0</td>\n",
       "    </tr>\n",
       "    <tr>\n",
       "      <th>1</th>\n",
       "      <td>IN</td>\n",
       "      <td>11</td>\n",
       "      <td>2018-02</td>\n",
       "      <td>76</td>\n",
       "      <td>FEMALE</td>\n",
       "      <td>MEDICARE</td>\n",
       "      <td>ACTIVE</td>\n",
       "      <td>0.05</td>\n",
       "      <td>0.0</td>\n",
       "      <td>0.0</td>\n",
       "    </tr>\n",
       "    <tr>\n",
       "      <th>2</th>\n",
       "      <td>IN</td>\n",
       "      <td>11</td>\n",
       "      <td>2018-02</td>\n",
       "      <td>76</td>\n",
       "      <td>FEMALE</td>\n",
       "      <td>MEDICARE</td>\n",
       "      <td>ACTIVE</td>\n",
       "      <td>0.02</td>\n",
       "      <td>0.0</td>\n",
       "      <td>0.0</td>\n",
       "    </tr>\n",
       "    <tr>\n",
       "      <th>3</th>\n",
       "      <td>IN</td>\n",
       "      <td>11</td>\n",
       "      <td>2018-02</td>\n",
       "      <td>76</td>\n",
       "      <td>FEMALE</td>\n",
       "      <td>MEDICARE</td>\n",
       "      <td>ACTIVE</td>\n",
       "      <td>130</td>\n",
       "      <td>0.0</td>\n",
       "      <td>0.0</td>\n",
       "    </tr>\n",
       "    <tr>\n",
       "      <th>4</th>\n",
       "      <td>IN</td>\n",
       "      <td>11</td>\n",
       "      <td>2018-01</td>\n",
       "      <td>57</td>\n",
       "      <td>MALE</td>\n",
       "      <td>MEDICARE</td>\n",
       "      <td>ACTIVE</td>\n",
       "      <td>205</td>\n",
       "      <td>0.0</td>\n",
       "      <td>0.0</td>\n",
       "    </tr>\n",
       "  </tbody>\n",
       "</table>\n",
       "</div>"
      ],
      "text/plain": [
       "  network_type place_of_service_code      mth member_age member_sex  \\\n",
       "0           IN                    11  2018-02         76     FEMALE   \n",
       "1           IN                    11  2018-02         76     FEMALE   \n",
       "2           IN                    11  2018-02         76     FEMALE   \n",
       "3           IN                    11  2018-02         76     FEMALE   \n",
       "4           IN                    11  2018-01         57       MALE   \n",
       "\n",
       "  government_program_type_description employee_status_type_description  \\\n",
       "0                            MEDICARE                           ACTIVE   \n",
       "1                            MEDICARE                           ACTIVE   \n",
       "2                            MEDICARE                           ACTIVE   \n",
       "3                            MEDICARE                           ACTIVE   \n",
       "4                            MEDICARE                           ACTIVE   \n",
       "\n",
       "  charged_amount  paid_amount  member_income  \n",
       "0           0.01          0.0            0.0  \n",
       "1           0.05          0.0            0.0  \n",
       "2           0.02          0.0            0.0  \n",
       "3            130          0.0            0.0  \n",
       "4            205          0.0            0.0  "
      ]
     },
     "execution_count": 10,
     "metadata": {},
     "output_type": "execute_result"
    }
   ],
   "source": [
    "print (len(df_all.index), '\\n', df_all.dtypes)\n",
    "df_all.head()"
   ]
  },
  {
   "cell_type": "markdown",
   "metadata": {
    "collapsed": false
   },
   "source": [
    "save the merged dataframe with selected effective attributes to csv file\n",
    "<br>\n",
    "out_ml = 'ml2018_set1.csv'\n",
    "path_out_ml = os.path.join(data_dir, out_ml)\n",
    "\n",
    "df_all.to_csv(path_out_ml, sep `= ';')"
   ]
  },
  {
   "cell_type": "markdown",
   "metadata": {
    "collapsed": false
   },
   "source": [
    "os.listdir(data_dir)"
   ]
  },
  {
   "cell_type": "code",
   "execution_count": 11,
   "metadata": {
    "collapsed": false
   },
   "outputs": [
    {
     "data": {
      "text/plain": [
       "array(['2018-02', '2018-01', '2018-03', '2018-04', '019151705'],\n",
       "      dtype=object)"
      ]
     },
     "execution_count": 11,
     "metadata": {},
     "output_type": "execute_result"
    }
   ],
   "source": [
    "df_all.mth.unique()"
   ]
  },
  {
   "cell_type": "code",
   "execution_count": 12,
   "metadata": {
    "collapsed": false
   },
   "outputs": [
    {
     "data": {
      "text/plain": [
       "network_type                           396521\n",
       "place_of_service_code                  396521\n",
       "mth                                    396521\n",
       "member_age                             396516\n",
       "member_sex                             396521\n",
       "government_program_type_description    396521\n",
       "employee_status_type_description       396521\n",
       "charged_amount                         396521\n",
       "paid_amount                            396521\n",
       "member_income                          396521\n",
       "dtype: int64"
      ]
     },
     "execution_count": 12,
     "metadata": {},
     "output_type": "execute_result"
    }
   ],
   "source": [
    "df_all.count()"
   ]
  },
  {
   "cell_type": "code",
   "execution_count": 13,
   "metadata": {
    "collapsed": false
   },
   "outputs": [
    {
     "data": {
      "text/html": [
       "<div>\n",
       "<style scoped>\n",
       "    .dataframe tbody tr th:only-of-type {\n",
       "        vertical-align: middle;\n",
       "    }\n",
       "\n",
       "    .dataframe tbody tr th {\n",
       "        vertical-align: top;\n",
       "    }\n",
       "\n",
       "    .dataframe thead th {\n",
       "        text-align: right;\n",
       "    }\n",
       "</style>\n",
       "<table border=\"1\" class=\"dataframe\">\n",
       "  <thead>\n",
       "    <tr style=\"text-align: right;\">\n",
       "      <th></th>\n",
       "      <th>network_type</th>\n",
       "      <th>place_of_service_code</th>\n",
       "      <th>mth</th>\n",
       "      <th>member_age</th>\n",
       "      <th>member_sex</th>\n",
       "      <th>government_program_type_description</th>\n",
       "      <th>employee_status_type_description</th>\n",
       "      <th>charged_amount</th>\n",
       "      <th>paid_amount</th>\n",
       "      <th>member_income</th>\n",
       "    </tr>\n",
       "  </thead>\n",
       "  <tbody>\n",
       "  </tbody>\n",
       "</table>\n",
       "</div>"
      ],
      "text/plain": [
       "Empty DataFrame\n",
       "Columns: [network_type, place_of_service_code, mth, member_age, member_sex, government_program_type_description, employee_status_type_description, charged_amount, paid_amount, member_income]\n",
       "Index: []"
      ]
     },
     "execution_count": 13,
     "metadata": {},
     "output_type": "execute_result"
    }
   ],
   "source": [
    "df_all[df_all.charged_amount == '2018-01-11']"
   ]
  },
  {
   "cell_type": "code",
   "execution_count": 14,
   "metadata": {
    "collapsed": false
   },
   "outputs": [
    {
     "data": {
      "text/plain": [
       "array(['FEMALE', 'MALE', '\\\\N'], dtype=object)"
      ]
     },
     "execution_count": 14,
     "metadata": {},
     "output_type": "execute_result"
    }
   ],
   "source": [
    "df_all.member_sex.unique()"
   ]
  },
  {
   "cell_type": "code",
   "execution_count": 15,
   "metadata": {
    "collapsed": false
   },
   "outputs": [
    {
     "data": {
      "text/plain": [
       "Index(['network_type', 'place_of_service_code', 'mth', 'member_age',\n",
       "       'member_sex', 'government_program_type_description',\n",
       "       'employee_status_type_description', 'charged_amount', 'paid_amount',\n",
       "       'member_income'],\n",
       "      dtype='object')"
      ]
     },
     "execution_count": 15,
     "metadata": {},
     "output_type": "execute_result"
    }
   ],
   "source": [
    "df_all = df_all.reindex(columns = ML_F_set1)\n",
    "df_all.columns"
   ]
  },
  {
   "cell_type": "code",
   "execution_count": 16,
   "metadata": {
    "collapsed": false
   },
   "outputs": [
    {
     "data": {
      "text/html": [
       "<div>\n",
       "<style scoped>\n",
       "    .dataframe tbody tr th:only-of-type {\n",
       "        vertical-align: middle;\n",
       "    }\n",
       "\n",
       "    .dataframe tbody tr th {\n",
       "        vertical-align: top;\n",
       "    }\n",
       "\n",
       "    .dataframe thead th {\n",
       "        text-align: right;\n",
       "    }\n",
       "</style>\n",
       "<table border=\"1\" class=\"dataframe\">\n",
       "  <thead>\n",
       "    <tr style=\"text-align: right;\">\n",
       "      <th></th>\n",
       "      <th>network_type</th>\n",
       "      <th>place_of_service_code</th>\n",
       "      <th>mth</th>\n",
       "      <th>member_age</th>\n",
       "      <th>member_sex</th>\n",
       "      <th>government_program_type_description</th>\n",
       "      <th>employee_status_type_description</th>\n",
       "      <th>charged_amount</th>\n",
       "      <th>paid_amount</th>\n",
       "      <th>member_income</th>\n",
       "    </tr>\n",
       "  </thead>\n",
       "  <tbody>\n",
       "    <tr>\n",
       "      <th>0</th>\n",
       "      <td>IN</td>\n",
       "      <td>11</td>\n",
       "      <td>2018-02</td>\n",
       "      <td>76</td>\n",
       "      <td>FEMALE</td>\n",
       "      <td>MEDICARE</td>\n",
       "      <td>ACTIVE</td>\n",
       "      <td>0.01</td>\n",
       "      <td>0.0</td>\n",
       "      <td>0.0</td>\n",
       "    </tr>\n",
       "    <tr>\n",
       "      <th>1</th>\n",
       "      <td>IN</td>\n",
       "      <td>11</td>\n",
       "      <td>2018-02</td>\n",
       "      <td>76</td>\n",
       "      <td>FEMALE</td>\n",
       "      <td>MEDICARE</td>\n",
       "      <td>ACTIVE</td>\n",
       "      <td>0.05</td>\n",
       "      <td>0.0</td>\n",
       "      <td>0.0</td>\n",
       "    </tr>\n",
       "    <tr>\n",
       "      <th>2</th>\n",
       "      <td>IN</td>\n",
       "      <td>11</td>\n",
       "      <td>2018-02</td>\n",
       "      <td>76</td>\n",
       "      <td>FEMALE</td>\n",
       "      <td>MEDICARE</td>\n",
       "      <td>ACTIVE</td>\n",
       "      <td>0.02</td>\n",
       "      <td>0.0</td>\n",
       "      <td>0.0</td>\n",
       "    </tr>\n",
       "    <tr>\n",
       "      <th>3</th>\n",
       "      <td>IN</td>\n",
       "      <td>11</td>\n",
       "      <td>2018-02</td>\n",
       "      <td>76</td>\n",
       "      <td>FEMALE</td>\n",
       "      <td>MEDICARE</td>\n",
       "      <td>ACTIVE</td>\n",
       "      <td>130</td>\n",
       "      <td>0.0</td>\n",
       "      <td>0.0</td>\n",
       "    </tr>\n",
       "    <tr>\n",
       "      <th>4</th>\n",
       "      <td>IN</td>\n",
       "      <td>11</td>\n",
       "      <td>2018-01</td>\n",
       "      <td>57</td>\n",
       "      <td>MALE</td>\n",
       "      <td>MEDICARE</td>\n",
       "      <td>ACTIVE</td>\n",
       "      <td>205</td>\n",
       "      <td>0.0</td>\n",
       "      <td>0.0</td>\n",
       "    </tr>\n",
       "  </tbody>\n",
       "</table>\n",
       "</div>"
      ],
      "text/plain": [
       "  network_type place_of_service_code      mth member_age member_sex  \\\n",
       "0           IN                    11  2018-02         76     FEMALE   \n",
       "1           IN                    11  2018-02         76     FEMALE   \n",
       "2           IN                    11  2018-02         76     FEMALE   \n",
       "3           IN                    11  2018-02         76     FEMALE   \n",
       "4           IN                    11  2018-01         57       MALE   \n",
       "\n",
       "  government_program_type_description employee_status_type_description  \\\n",
       "0                            MEDICARE                           ACTIVE   \n",
       "1                            MEDICARE                           ACTIVE   \n",
       "2                            MEDICARE                           ACTIVE   \n",
       "3                            MEDICARE                           ACTIVE   \n",
       "4                            MEDICARE                           ACTIVE   \n",
       "\n",
       "  charged_amount  paid_amount  member_income  \n",
       "0           0.01          0.0            0.0  \n",
       "1           0.05          0.0            0.0  \n",
       "2           0.02          0.0            0.0  \n",
       "3            130          0.0            0.0  \n",
       "4            205          0.0            0.0  "
      ]
     },
     "execution_count": 16,
     "metadata": {},
     "output_type": "execute_result"
    }
   ],
   "source": [
    "df_all.head()"
   ]
  },
  {
   "cell_type": "code",
   "execution_count": 17,
   "metadata": {
    "collapsed": false
   },
   "outputs": [
    {
     "name": "stdout",
     "output_type": "stream",
     "text": [
      "CPU times: user 600 ms, sys: 5 ms, total: 605 ms\n",
      "Wall time: 602 ms\n"
     ]
    }
   ],
   "source": [
    "%%time\n",
    "# clean data\n",
    "\n",
    "df_all['charged_amount'] = df_all['charged_amount'].astype(str)\n",
    "df_all['charged_amount'] = df_all.charged_amount.apply(lambda x : str(x) if pd.notnull(x) else '')"
   ]
  },
  {
   "cell_type": "code",
   "execution_count": 18,
   "metadata": {
    "collapsed": false
   },
   "outputs": [
    {
     "data": {
      "text/plain": [
       "network_type                            object\n",
       "place_of_service_code                   object\n",
       "mth                                     object\n",
       "member_age                              object\n",
       "member_sex                              object\n",
       "government_program_type_description     object\n",
       "employee_status_type_description        object\n",
       "charged_amount                          object\n",
       "paid_amount                            float64\n",
       "member_income                          float64\n",
       "dtype: object"
      ]
     },
     "execution_count": 18,
     "metadata": {},
     "output_type": "execute_result"
    }
   ],
   "source": [
    "df_all.dtypes"
   ]
  },
  {
   "cell_type": "code",
   "execution_count": 19,
   "metadata": {
    "collapsed": false
   },
   "outputs": [],
   "source": [
    "df_all = df_all[~df_all.charged_amount.str.contains('2018')]"
   ]
  },
  {
   "cell_type": "code",
   "execution_count": 20,
   "metadata": {
    "collapsed": false
   },
   "outputs": [
    {
     "data": {
      "text/plain": [
       "396511"
      ]
     },
     "execution_count": 20,
     "metadata": {},
     "output_type": "execute_result"
    }
   ],
   "source": [
    "len(df_all.index)"
   ]
  },
  {
   "cell_type": "code",
   "execution_count": 17,
   "metadata": {
    "collapsed": false
   },
   "outputs": [
    {
     "data": {
      "text/plain": [
       "0            0.01\n",
       "1            0.05\n",
       "2            0.02\n",
       "3          130.00\n",
       "4          205.00\n",
       "5           20.00\n",
       "6           60.00\n",
       "7         5121.00\n",
       "8          360.00\n",
       "9          360.00\n",
       "10         190.00\n",
       "11         257.00\n",
       "12         129.00\n",
       "13         219.00\n",
       "14         350.00\n",
       "15         170.00\n",
       "16         165.00\n",
       "17          90.00\n",
       "18        1635.90\n",
       "19         235.00\n",
       "20         293.04\n",
       "21         660.00\n",
       "22         235.20\n",
       "23         192.00\n",
       "24         843.29\n",
       "25         310.00\n",
       "26         859.00\n",
       "27         400.00\n",
       "28         260.00\n",
       "29         337.00\n",
       "           ...   \n",
       "388220     170.00\n",
       "388221     175.00\n",
       "388222      97.00\n",
       "388223     235.00\n",
       "388224     351.00\n",
       "388225      19.00\n",
       "388226     275.00\n",
       "388227     118.57\n",
       "388228     184.00\n",
       "388229      52.00\n",
       "388230     190.00\n",
       "388231     180.00\n",
       "388232     153.95\n",
       "388233     117.00\n",
       "388234     138.00\n",
       "388235      66.00\n",
       "388236      95.00\n",
       "388237     328.33\n",
       "388238     551.00\n",
       "388239     484.00\n",
       "388240     204.00\n",
       "388241     235.00\n",
       "388242     333.00\n",
       "388243     181.00\n",
       "388244     116.50\n",
       "388245     290.00\n",
       "388246     208.00\n",
       "388247      71.00\n",
       "388248     124.49\n",
       "388249     314.00\n",
       "Name: charged_amount, Length: 21185696, dtype: float64"
      ]
     },
     "execution_count": 17,
     "metadata": {},
     "output_type": "execute_result"
    }
   ],
   "source": [
    "# convert the data type\n",
    "df_all.charged_amount.astype(float)"
   ]
  },
  {
   "cell_type": "markdown",
   "metadata": {},
   "source": [
    "# One-hot encoder"
   ]
  },
  {
   "cell_type": "code",
   "execution_count": 21,
   "metadata": {
    "collapsed": true
   },
   "outputs": [],
   "source": [
    "#Import OneHotEncoder (and LabelEncoder as helper)\n",
    "from sklearn.preprocessing import LabelEncoder\n",
    "from sklearn.preprocessing import OneHotEncoder"
   ]
  },
  {
   "cell_type": "code",
   "execution_count": 22,
   "metadata": {
    "collapsed": false
   },
   "outputs": [],
   "source": [
    "# Category features\n",
    "CAT_F_set1 = ['network_type', 'place_of_service_code', 'mth', 'member_age', \\\n",
    "             'member_sex', 'government_program_type_description', 'employee_status_type_description']\n",
    "CAT_F_set2 = ['network_type', 'mth', 'member_sex', 'government_program_type_description', \\\n",
    "               'employee_status_type_description']"
   ]
  },
  {
   "cell_type": "code",
   "execution_count": 23,
   "metadata": {
    "collapsed": true
   },
   "outputs": [],
   "source": [
    "# Clean cat features\n",
    "for i in range(len(CAT_F_set1)):\n",
    "    df_all[CAT_F_set1[i]] = df_all[CAT_F_set1[i]].apply(lambda x: str(x) if pd.notnull(x) else \"\")"
   ]
  },
  {
   "cell_type": "code",
   "execution_count": 24,
   "metadata": {
    "collapsed": false
   },
   "outputs": [
    {
     "name": "stdout",
     "output_type": "stream",
     "text": [
      "the current unique values for network_type are:\n",
      " ['IN' 'ADJIN' 'OUT|ADJIN' 'OUT' 'IN|ADJIN' 'OUT|IN']\n",
      "the current unique values for place_of_service_code are:\n",
      " ['11' '21' '81' '23' '12' '22' '49' '65' '41' '31' '19' '24' '32' '2' '20'\n",
      " '53' '15' '61' '72' '60' '51' '52' '50' '54' '13' '17' '33' '71' '42'\n",
      " '14' '99' '3' '4' '62' '16' '18' '02' '01' '06' '56' '57' '34' '55' '26']\n",
      "the current unique values for mth are:\n",
      " ['2018-02' '2018-01' '2018-03' '2018-04']\n",
      "the current unique values for member_age are:\n",
      " ['76' '57' '71' '81' '74' '43' '62' '75' '73' '69' '77' '67' '63' '72'\n",
      " '29' '58' '82' '65' '70' '87' '66' '68' '90' '40' '41' '56' '28' '54'\n",
      " '86' '78' '52' '48' '59' '79' '83' '55' '84' '46' '61' '49' '64' '88'\n",
      " '85' '42' '53' '51' '94' '60' '80' '92' '39' '47' '50' '34' '22' '30'\n",
      " '44' '35' '95' '93' '96' '89' '45' '97' '36' '25' '24' '91' '37' '26'\n",
      " '33' '38' '31' '32' '98' '99' '18' '23' '21' '19' '27' '102' '100' '107'\n",
      " '16' '2' '15' '1' '3' '14' '8' '0' '5' '17' '20' '9' '7' '11' '4' '12'\n",
      " '13' '6' '103' '101' '105' '66.0' '80.0' '73.0' '71.0' '81.0' '75.0'\n",
      " '78.0' '74.0' '63.0' '79.0' '91.0' '96.0' '88.0' '84.0' '87.0' '68.0'\n",
      " '83.0' '86.0' '85.0' '82.0' '65.0' '72.0' '69.0' '70.0' '100.0' '76.0'\n",
      " '92.0' '56.0' '77.0' '93.0' '67.0' '95.0' '89.0' '97.0' '101.0' '90.0'\n",
      " '62.0' '52.0' '94.0' '55.0' '54.0' '49.0' '60.0' '14.0' '47.0' '61.0'\n",
      " '50.0' '45.0' '33.0' '53.0' '40.0' '51.0' '38.0' '59.0' '57.0' '64.0'\n",
      " '48.0' '44.0' '34.0' '42.0' '37.0' '27.0' '28.0' '10.0' '19.0' '98.0'\n",
      " '3.0' '58.0' '46.0' '24.0' '22.0' '43.0' '5.0' '1.0' '39.0' '21.0' '26.0'\n",
      " '16.0' '29.0' '36.0' '23.0' '4.0' '0.0' '2.0' '15.0' '41.0' '17.0' '31.0'\n",
      " '12.0' '32.0' '7.0' '6.0' '25.0' '30.0' '8.0' '18.0' '99.0' '20.0' '35.0'\n",
      " '13.0' '11.0' '105.0' '103.0' '9.0' '108.0' '10' '114' '104' '102.0'\n",
      " '117']\n",
      "the current unique values for member_sex are:\n",
      " ['FEMALE' 'MALE']\n",
      "the current unique values for government_program_type_description are:\n",
      " ['MEDICARE' 'MEDICAID' 'NON-GOVERNMENTAL' 'BOTH MEDICAID AND MEDICARE']\n",
      "the current unique values for employee_status_type_description are:\n",
      " ['ACTIVE' 'COBRA' 'DISABLED']\n"
     ]
    }
   ],
   "source": [
    "# For machine learning modeling/clustering we are going to work on numericl data;\n",
    "# So we need to ran one-hot encoding to convert attributes to binary vectors ([0,...,0,1,0,...0], \\\n",
    "# the 1 is corresponding to the value in the category)\n",
    "# LabelEncoder ---> OneHotEncoder\n",
    "\n",
    "labels = []\n",
    "\n",
    "for i in range(len(CAT_F_set1)):\n",
    "    UF = df_all[CAT_F_set1[i]].unique()\n",
    "    print (\"the current unique values for {} are:\\n {}\".format(CAT_F_set1[i], UF))\n",
    "    labels.append(list(UF))"
   ]
  },
  {
   "cell_type": "code",
   "execution_count": 25,
   "metadata": {
    "collapsed": false
   },
   "outputs": [
    {
     "name": "stdout",
     "output_type": "stream",
     "text": [
      "0\n",
      "1\n",
      "2\n",
      "3\n",
      "4\n",
      "5\n",
      "6\n"
     ]
    }
   ],
   "source": [
    "#One hot encode all categorical attributes\n",
    "cats = []\n",
    "for i in range(len(CAT_F_set1)):\n",
    "    #Label encode\n",
    "    print (i)\n",
    "    label_encoder = LabelEncoder()\n",
    "    label_encoder.fit(labels[i])\n",
    "    feature = label_encoder.transform(df_all.iloc[:,i])\n",
    "    feature = feature.reshape(df_all.shape[0], 1)\n",
    "    #One hot encode\n",
    "    onehot_encoder = OneHotEncoder(sparse=False,n_values=len(labels[i]))\n",
    "    feature = onehot_encoder.fit_transform(feature)\n",
    "    cats.append(feature)"
   ]
  },
  {
   "cell_type": "code",
   "execution_count": 35,
   "metadata": {
    "collapsed": false
   },
   "outputs": [],
   "source": [
    "# Make a 2D array from a list of 1D arrays\n",
    "encoded_cats = np.column_stack(cats)"
   ]
  },
  {
   "cell_type": "code",
   "execution_count": 33,
   "metadata": {
    "collapsed": false
   },
   "outputs": [
    {
     "data": {
      "text/plain": [
       "7"
      ]
     },
     "execution_count": 33,
     "metadata": {},
     "output_type": "execute_result"
    }
   ],
   "source": [
    "len(cats)"
   ]
  },
  {
   "cell_type": "code",
   "execution_count": 31,
   "metadata": {
    "collapsed": false
   },
   "outputs": [
    {
     "data": {
      "text/plain": [
       "215"
      ]
     },
     "execution_count": 31,
     "metadata": {},
     "output_type": "execute_result"
    }
   ],
   "source": [
    "len(cats[3][1])"
   ]
  },
  {
   "cell_type": "code",
   "execution_count": 40,
   "metadata": {
    "collapsed": false
   },
   "outputs": [
    {
     "name": "stdout",
     "output_type": "stream",
     "text": [
      "(396511, 278)\n"
     ]
    },
    {
     "data": {
      "text/plain": [
       "array([0., 1., 0., 0., 0., 0., 0., 0., 0., 1., 0., 0., 0., 0., 0., 0., 0.,\n",
       "       0., 0., 0., 0., 0., 0., 0., 0., 0., 0., 0., 0., 0., 0., 0., 0., 0.,\n",
       "       0., 0., 0., 0., 0., 0., 0., 0., 0., 0., 0., 0., 0., 0., 0., 0., 1.,\n",
       "       0., 0., 0., 0., 0., 0., 0., 0., 0., 0., 0., 0., 0., 0., 0., 0., 0.,\n",
       "       0., 0., 0., 0., 0., 0., 0., 0., 0., 0., 0., 0., 0., 0., 0., 0., 0.,\n",
       "       0., 0., 0., 0., 0., 0., 0., 0., 0., 0., 0., 0., 0., 0., 0., 0., 0.,\n",
       "       0., 0., 0., 0., 0., 0., 0., 0., 0., 0., 0., 0., 0., 0., 0., 0., 0.,\n",
       "       0., 0., 0., 0., 0., 0., 0., 0., 0., 0., 0., 0., 0., 0., 0., 0., 0.,\n",
       "       0., 0., 0., 0., 0., 0., 0., 0., 0., 0., 0., 0., 0., 0., 0., 0., 0.,\n",
       "       0., 0., 0., 0., 0., 0., 0., 0., 0., 0., 0., 0., 0., 0., 0., 0., 0.,\n",
       "       0., 0., 0., 0., 0., 0., 0., 0., 0., 0., 0., 0., 0., 0., 0., 0., 0.,\n",
       "       0., 0., 0., 0., 0., 0., 0., 0., 0., 0., 0., 0., 0., 0., 0., 0., 0.,\n",
       "       0., 0., 0., 0., 0., 0., 0., 0., 0., 0., 0., 0., 0., 0., 0., 0., 0.,\n",
       "       0., 0., 0., 0., 0., 0., 0., 0., 1., 0., 0., 0., 0., 0., 0., 0., 0.,\n",
       "       0., 0., 0., 0., 0., 0., 0., 0., 0., 0., 0., 0., 0., 0., 0., 0., 0.,\n",
       "       0., 0., 0., 0., 0., 0., 0., 0., 0., 0., 0., 0., 0., 0., 0., 1., 0.,\n",
       "       0., 1., 0., 1., 0., 0.])"
      ]
     },
     "execution_count": 40,
     "metadata": {},
     "output_type": "execute_result"
    }
   ],
   "source": [
    "print (encoded_cats.shape)\n",
    "encoded_cats[35]"
   ]
  },
  {
   "cell_type": "code",
   "execution_count": 41,
   "metadata": {
    "collapsed": false
   },
   "outputs": [
    {
     "name": "stdout",
     "output_type": "stream",
     "text": [
      "(396511, 281)\n"
     ]
    }
   ],
   "source": [
    "#Concatenate encoded attributes with continuous attributes\n",
    "split = 7\n",
    "dataset_encoded = np.concatenate((encoded_cats,df_all.iloc[:,split:].values),axis=1)\n",
    "\n",
    "del encoded_cats\n",
    "print(dataset_encoded.shape)"
   ]
  },
  {
   "cell_type": "code",
   "execution_count": 44,
   "metadata": {
    "collapsed": false
   },
   "outputs": [
    {
     "data": {
      "text/plain": [
       "array([0.0, 1.0, 0.0, 0.0, 0.0, 0.0, 0.0, 0.0, 0.0, 1.0, 0.0, 0.0, 0.0,\n",
       "       0.0, 0.0, 0.0, 0.0, 0.0, 0.0, 0.0, 0.0, 0.0, 0.0, 0.0, 0.0, 0.0,\n",
       "       0.0, 0.0, 0.0, 0.0, 0.0, 0.0, 0.0, 0.0, 0.0, 0.0, 0.0, 0.0, 0.0,\n",
       "       0.0, 0.0, 0.0, 0.0, 0.0, 0.0, 0.0, 0.0, 0.0, 0.0, 0.0, 0.0, 1.0,\n",
       "       0.0, 0.0, 0.0, 0.0, 0.0, 0.0, 0.0, 0.0, 0.0, 0.0, 0.0, 0.0, 0.0,\n",
       "       0.0, 0.0, 0.0, 0.0, 0.0, 0.0, 0.0, 0.0, 0.0, 0.0, 0.0, 0.0, 0.0,\n",
       "       0.0, 0.0, 0.0, 0.0, 0.0, 0.0, 0.0, 0.0, 0.0, 0.0, 0.0, 0.0, 0.0,\n",
       "       0.0, 0.0, 0.0, 0.0, 0.0, 0.0, 0.0, 0.0, 0.0, 0.0, 0.0, 0.0, 0.0,\n",
       "       0.0, 0.0, 0.0, 0.0, 0.0, 0.0, 0.0, 0.0, 0.0, 0.0, 0.0, 0.0, 0.0,\n",
       "       0.0, 0.0, 0.0, 0.0, 0.0, 0.0, 0.0, 0.0, 0.0, 0.0, 0.0, 0.0, 0.0,\n",
       "       0.0, 0.0, 0.0, 0.0, 0.0, 0.0, 0.0, 0.0, 0.0, 0.0, 0.0, 0.0, 0.0,\n",
       "       0.0, 0.0, 0.0, 0.0, 0.0, 0.0, 0.0, 0.0, 0.0, 0.0, 0.0, 0.0, 0.0,\n",
       "       0.0, 0.0, 0.0, 0.0, 0.0, 0.0, 0.0, 0.0, 0.0, 0.0, 0.0, 0.0, 0.0,\n",
       "       0.0, 0.0, 0.0, 0.0, 0.0, 0.0, 0.0, 0.0, 0.0, 0.0, 0.0, 0.0, 0.0,\n",
       "       0.0, 0.0, 0.0, 0.0, 0.0, 0.0, 0.0, 0.0, 0.0, 0.0, 0.0, 0.0, 0.0,\n",
       "       0.0, 0.0, 0.0, 0.0, 0.0, 0.0, 0.0, 0.0, 0.0, 0.0, 0.0, 0.0, 1.0,\n",
       "       0.0, 0.0, 0.0, 0.0, 0.0, 0.0, 0.0, 0.0, 0.0, 0.0, 0.0, 0.0, 0.0,\n",
       "       0.0, 0.0, 0.0, 0.0, 0.0, 0.0, 0.0, 0.0, 0.0, 0.0, 0.0, 0.0, 0.0,\n",
       "       0.0, 0.0, 0.0, 0.0, 0.0, 0.0, 0.0, 0.0, 0.0, 0.0, 0.0, 0.0, 0.0,\n",
       "       0.0, 0.0, 0.0, 0.0, 0.0, 0.0, 0.0, 0.0, 0.0, 0.0, 0.0, 0.0, 0.0,\n",
       "       0.0, 0.0, 0.0, 0.0, 0.0, 0.0, 0.0, 0.0, 0.0, 1.0, 0.0, 0.0, 0.0,\n",
       "       1.0, 0.0, 1.0, 0.0, 0.0, '310.0', 184.53, 0.0], dtype=object)"
      ]
     },
     "execution_count": 44,
     "metadata": {},
     "output_type": "execute_result"
    }
   ],
   "source": [
    "dataset_encoded[333]"
   ]
  },
  {
   "cell_type": "code",
   "execution_count": null,
   "metadata": {
    "collapsed": true
   },
   "outputs": [],
   "source": [
    "del cats\n",
    "del feature\n",
    "del dataset"
   ]
  },
  {
   "cell_type": "markdown",
   "metadata": {
    "collapsed": false
   },
   "source": [
    "# Remove the high-dimensional category attributes to avoid memory issue\n",
    "df_all2 = df_all[ML_F_set2]\n",
    "df_all2.head()"
   ]
  },
  {
   "cell_type": "markdown",
   "metadata": {
    "collapsed": false
   },
   "source": [
    "df_all2 = df_all2.iloc[0:1000000]\n",
    "df_all2.head()"
   ]
  },
  {
   "cell_type": "markdown",
   "metadata": {
    "collapsed": false
   },
   "source": [
    "# For machine learning modeling/clustering we are going to work on numericl data;\n",
    "# So we need to ran one-hot encoding to convert attributes to binary vectors ([0,...,0,1,0,...0], \\\n",
    "# the 1 is corresponding to the value in the category)\n",
    "# LabelEncoder ---> OneHotEncoder\n",
    "\n",
    "labels2 = []\n",
    "\n",
    "for i in range(len(CAT_F_set2)):\n",
    "    UF2 = df_all2[CAT_F_set2[i]].unique()\n",
    "    print (\"the current unique values for {} are:\\n {}\".format(CAT_F_set2[i], UF2))\n",
    "    labels2.append(list(UF2))"
   ]
  },
  {
   "cell_type": "markdown",
   "metadata": {
    "collapsed": false
   },
   "source": [
    "#One hot encode all categorical attributes\n",
    "cats2 = []\n",
    "for i in range(len(CAT_F_set2)):\n",
    "    #Label encode\n",
    "    print (i)\n",
    "    label_encoder2 = LabelEncoder()\n",
    "    label_encoder2.fit(labels2[i])\n",
    "    feature2 = label_encoder2.transform(df_all2.iloc[:,i])\n",
    "    feature2 = feature2.reshape(df_all2.shape[0], 1)\n",
    "    #One hot encode\n",
    "    onehot_encoder2 = OneHotEncoder(sparse=False,n_values=len(labels2[i]))\n",
    "    feature2 = onehot_encoder.fit_transform(feature2)\n",
    "    cats2.append(feature2)"
   ]
  },
  {
   "cell_type": "markdown",
   "metadata": {},
   "source": [
    "# Check memory\n"
   ]
  },
  {
   "cell_type": "code",
   "execution_count": 39,
   "metadata": {
    "collapsed": true
   },
   "outputs": [],
   "source": [
    "# These are the usual ipython objects, including this one you are creating\n",
    "ipython_vars = ['In', 'Out', 'exit', 'quit', 'get_ipython', 'ipython_vars']"
   ]
  },
  {
   "cell_type": "code",
   "execution_count": 42,
   "metadata": {
    "collapsed": false
   },
   "outputs": [
    {
     "data": {
      "text/plain": [
       "[('df_all', 11688851630),\n",
       " ('df_all2', 9155443252),\n",
       " ('curr', 1003005024),\n",
       " ('curr_slt', 161304782),\n",
       " ('OneHotEncoder', 1304),\n",
       " ('SparkContext', 1304),\n",
       " ('StorageLevel', 1304),\n",
       " ('LabelEncoder', 1016),\n",
       " ('SQLContext', 1016),\n",
       " ('SparkSession', 1016),\n",
       " ('mrgs', 912),\n",
       " ('mrg_attrs', 480),\n",
       " ('mem_attrs', 208),\n",
       " ('ML_F_set1', 144),\n",
       " ('UF', 136),\n",
       " ('UF2', 136),\n",
       " ('path_mrgs', 133),\n",
       " ('ML_F_set2', 128),\n",
       " ('labels', 128),\n",
       " ('labels2', 128),\n",
       " ('CAT_F_set1', 120),\n",
       " ('data_dir', 116),\n",
       " ('feature', 112),\n",
       " ('feature2', 112),\n",
       " ('CAT_F_set2', 104),\n",
       " ('cats', 96),\n",
       " ('np', 80),\n",
       " ('pd', 80),\n",
       " ('plt', 80),\n",
       " ('sns', 80),\n",
       " ('path_csvs', 66),\n",
       " ('cats2', 64),\n",
       " ('chunk', 62),\n",
       " ('label_encoder', 56),\n",
       " ('label_encoder2', 56),\n",
       " ('onehot_encoder', 56),\n",
       " ('onehot_encoder2', 56),\n",
       " ('cnt', 28),\n",
       " ('i', 24)]"
      ]
     },
     "execution_count": 42,
     "metadata": {},
     "output_type": "execute_result"
    }
   ],
   "source": [
    "# Get a sorted list of the objects and their sizes\n",
    "sorted([(x, sys.getsizeof(globals().get(x))) for x in dir() if not x.startswith('_') and \\\n",
    "        x not in sys.modules and x not in ipython_vars], key=lambda x: x[1], reverse=True)"
   ]
  },
  {
   "cell_type": "markdown",
   "metadata": {},
   "source": [
    "# Release unreferred memory\n",
    "import gc\n",
    "gc.collect()"
   ]
  },
  {
   "cell_type": "code",
   "execution_count": 45,
   "metadata": {
    "collapsed": true
   },
   "outputs": [],
   "source": [
    "# Delete inactive variables\n",
    "biglist = ['df_all', 'curr, curr_slt']\n",
    "# del biglist\n",
    "del df_all\n"
   ]
  },
  {
   "cell_type": "code",
   "execution_count": 47,
   "metadata": {
    "collapsed": true
   },
   "outputs": [],
   "source": [
    "del curr\n",
    "del curr_slt"
   ]
  },
  {
   "cell_type": "code",
   "execution_count": 57,
   "metadata": {
    "collapsed": false
   },
   "outputs": [
    {
     "data": {
      "text/plain": [
       "[('df_all2', 401808192),\n",
       " ('OneHotEncoder', 1304),\n",
       " ('SparkContext', 1304),\n",
       " ('StorageLevel', 1304),\n",
       " ('LabelEncoder', 1016),\n",
       " ('SQLContext', 1016),\n",
       " ('SparkSession', 1016),\n",
       " ('mrgs', 912),\n",
       " ('mrg_attrs', 480),\n",
       " ('mem_attrs', 208),\n",
       " ('ML_F_set1', 144),\n",
       " ('UF', 136),\n",
       " ('path_mrgs', 133),\n",
       " ('ML_F_set2', 128),\n",
       " ('UF2', 128),\n",
       " ('labels', 128),\n",
       " ('labels2', 128),\n",
       " ('CAT_F_set1', 120),\n",
       " ('data_dir', 116),\n",
       " ('feature', 112),\n",
       " ('feature2', 112),\n",
       " ('CAT_F_set2', 104),\n",
       " ('cats', 96),\n",
       " ('cats2', 96),\n",
       " ('biglist', 80),\n",
       " ('np', 80),\n",
       " ('pd', 80),\n",
       " ('plt', 80),\n",
       " ('sns', 80),\n",
       " ('path_csvs', 66),\n",
       " ('chunk', 62),\n",
       " ('label_encoder', 56),\n",
       " ('label_encoder2', 56),\n",
       " ('onehot_encoder', 56),\n",
       " ('onehot_encoder2', 56),\n",
       " ('cnt', 28),\n",
       " ('i', 28)]"
      ]
     },
     "execution_count": 57,
     "metadata": {},
     "output_type": "execute_result"
    }
   ],
   "source": [
    "# Get a sorted list of the objects and their sizes after some mem cleaning\n",
    "sorted([(x, sys.getsizeof(globals().get(x))) for x in dir() if not x.startswith('_') and \\\n",
    "        x not in sys.modules and x not in ipython_vars], key=lambda x: x[1], reverse=True)"
   ]
  },
  {
   "cell_type": "markdown",
   "metadata": {},
   "source": [
    "# Data exploration\n",
    "1. Numeric fetures - cross correlation table using seaborn"
   ]
  },
  {
   "cell_type": "code",
   "execution_count": 48,
   "metadata": {
    "collapsed": true
   },
   "outputs": [],
   "source": [
    "NUM_F = ['member_income', 'charged_amount', 'paid_amount']"
   ]
  },
  {
   "cell_type": "code",
   "execution_count": 49,
   "metadata": {
    "collapsed": true
   },
   "outputs": [],
   "source": [
    "g = sns.pairplot(df_all[NUM_F])"
   ]
  },
  {
   "cell_type": "code",
   "execution_count": null,
   "metadata": {
    "collapsed": true
   },
   "outputs": [],
   "source": [
    "plt.show()"
   ]
  },
  {
   "cell_type": "markdown",
   "metadata": {
    "collapsed": true
   },
   "source": [
    "# Pyspark MLLIB test"
   ]
  },
  {
   "cell_type": "code",
   "execution_count": 59,
   "metadata": {
    "collapsed": false
   },
   "outputs": [],
   "source": [
    "import pyspark.mllib"
   ]
  },
  {
   "cell_type": "code",
   "execution_count": 60,
   "metadata": {
    "collapsed": true
   },
   "outputs": [],
   "source": [
    "import pybrain"
   ]
  },
  {
   "cell_type": "code",
   "execution_count": null,
   "metadata": {
    "collapsed": true
   },
   "outputs": [],
   "source": []
  }
 ],
 "metadata": {
  "anaconda-cloud": {},
  "kernelspec": {
   "display_name": "PySpark3",
   "language": "python",
   "name": "pyspark3"
  },
  "language_info": {
   "codemirror_mode": {
    "name": "ipython",
    "version": 3
   },
   "file_extension": ".py",
   "mimetype": "text/x-python",
   "name": "python",
   "nbconvert_exporter": "python",
   "pygments_lexer": "ipython3",
   "version": "3.5.2"
  }
 },
 "nbformat": 4,
 "nbformat_minor": 1
}
