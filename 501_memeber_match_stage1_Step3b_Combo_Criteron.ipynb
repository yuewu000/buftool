{
 "cells": [
  {
   "cell_type": "markdown",
   "metadata": {},
   "source": [
    "# Member matching across tables: tops vs cosmos\n",
    "\n",
    "## Stage 1: Jaro-Winkler: 1 chunk of tops vs full cosmos\n",
    "\n",
    "Combo of criterions:\n",
    "1. Exact mathcing criterion \n",
    "<br>\n",
    "    zip code; dob_hashed; ssn_hashed; street number\n",
    "  \n",
    "2. Fuzzy match criterion\n",
    "<br>\n",
    "   Jaro_Winkle (Difflib: Retcliff/Obershelp?) member_first_name and member_last_name  \n",
    "<br>\n",
    "   (Please see the Appendix for background formula and initial demos for related algorithms)"
   ]
  },
  {
   "cell_type": "markdown",
   "metadata": {},
   "source": [
    "## Another approach for step 3, let us search a member from tops from cosmos member tables on combo criteron with fuzzy match"
   ]
  },
  {
   "cell_type": "markdown",
   "metadata": {},
   "source": [
    "## We decompose the task into several steps to allow the data to be loaded and processed with the currently available memory\n",
    "All the cosmos members and part of tops (25 out of 55 chunks) are loaded back from saved csv file\n",
    "<br>\n",
    "Merging the tables using pandas merge function on keys\n",
    "<br>\n",
    "Then we load back the data as pandas dataframe and merge the tops and cosmos tables on keywords\n",
    "<br>\n",
    "The merged table will be saved as csv file\n",
    "<br>\n",
    "Fuzzy match will be performed based on the merged table in step 3\n"
   ]
  },
  {
   "cell_type": "code",
   "execution_count": 1,
   "metadata": {
    "collapsed": true
   },
   "outputs": [],
   "source": [
    "import pandas as pd\n",
    "import os\n",
    "import csv\n",
    "import difflib\n",
    "import jellyfish as jf\n",
    "import itertools\n",
    "from functools import reduce\n",
    "\n",
    "from __future__ import division"
   ]
  },
  {
   "cell_type": "code",
   "execution_count": 2,
   "metadata": {
    "collapsed": false
   },
   "outputs": [],
   "source": [
    "# With modules imported defined, we start to work on the member tables\n",
    "# defin ethe paths for dat aloading\n",
    "\n",
    "data_dir = '/mapr/datalake/uhclake/perf/Sqoop_RX/ymalcow/501_mem_match_proj1/'\n",
    "\n",
    "file_tops = 'tops10_mrg01.csv'\n",
    "file_cosmos = 'cosmos_mrg01.csv'\n",
    "\n",
    "path_tops = os.path.join(data_dir, file_tops)\n",
    "path_cosmos = os.path.join(data_dir, file_cosmos)\n",
    "\n",
    "# Define column names-table schema, and selected columns for table merge and member matching\n",
    "mem_attrs = ['member_individual_identifier','src_cdb_xref_id','lgcy_src_id','social_security_number_hashed' , \\\n",
    "             'member_last_name','member_first_name' ,'member_middle_name','member_middle_initial_text', \\\n",
    "             'member_name_suffix' , 'mem_dob_hashed', 'memeber_zip_code_of_residence','member_sex','addr_line_1',\\\n",
    "             'addr_line_2','city_name','state','zipcode','country']\n",
    "slt_attrs = ['social_security_number_hashed', 'mem_dob_hashed', 'member_last_name', 'member_first_name', \\\n",
    "             'zipcode', 'addr_line_1']"
   ]
  },
  {
   "cell_type": "code",
   "execution_count": 3,
   "metadata": {
    "collapsed": false
   },
   "outputs": [],
   "source": [
    "cosmos_mrg01 = pd.read_csv(path_cosmos, sep = ';', \\\n",
    "            quoting=csv.QUOTE_NONE, encoding='utf-8', error_bad_lines=False)\n"
   ]
  },
  {
   "cell_type": "code",
   "execution_count": 4,
   "metadata": {
    "collapsed": false
   },
   "outputs": [
    {
     "data": {
      "text/html": [
       "<div>\n",
       "<style scoped>\n",
       "    .dataframe tbody tr th:only-of-type {\n",
       "        vertical-align: middle;\n",
       "    }\n",
       "\n",
       "    .dataframe tbody tr th {\n",
       "        vertical-align: top;\n",
       "    }\n",
       "\n",
       "    .dataframe thead th {\n",
       "        text-align: right;\n",
       "    }\n",
       "</style>\n",
       "<table border=\"1\" class=\"dataframe\">\n",
       "  <thead>\n",
       "    <tr style=\"text-align: right;\">\n",
       "      <th></th>\n",
       "      <th>Unnamed: 0</th>\n",
       "      <th>social_security_number_hashed</th>\n",
       "      <th>mem_dob_hashed</th>\n",
       "      <th>member_last_name</th>\n",
       "      <th>member_first_name</th>\n",
       "      <th>zipcode</th>\n",
       "      <th>addr_line_1</th>\n",
       "    </tr>\n",
       "  </thead>\n",
       "  <tbody>\n",
       "    <tr>\n",
       "      <th>0</th>\n",
       "      <td>0</td>\n",
       "      <td>e3b0c44298fc1c149afbf4c8996fb92427ae41e4649b93...</td>\n",
       "      <td>0411cc37aeec0bc88cfe76834320671932c40eeb0230e0...</td>\n",
       "      <td>RICHARDSON</td>\n",
       "      <td>DANNY</td>\n",
       "      <td>36617.0</td>\n",
       "      <td>760 mollie court</td>\n",
       "    </tr>\n",
       "    <tr>\n",
       "      <th>1</th>\n",
       "      <td>1</td>\n",
       "      <td>e3b0c44298fc1c149afbf4c8996fb92427ae41e4649b93...</td>\n",
       "      <td>8869b7bb249528e2ebb7ffc32563cf110661b44d01553f...</td>\n",
       "      <td>MCCLAIN</td>\n",
       "      <td>WILLIE</td>\n",
       "      <td>35208.0</td>\n",
       "      <td>1508 cullman ave</td>\n",
       "    </tr>\n",
       "    <tr>\n",
       "      <th>2</th>\n",
       "      <td>2</td>\n",
       "      <td>e3b0c44298fc1c149afbf4c8996fb92427ae41e4649b93...</td>\n",
       "      <td>51fdf6d951baba49c81a74d6e92deaaf2dba676c405dde...</td>\n",
       "      <td>ROPER</td>\n",
       "      <td>ALBERT</td>\n",
       "      <td>36067.0</td>\n",
       "      <td>1816 buckeye drive</td>\n",
       "    </tr>\n",
       "    <tr>\n",
       "      <th>3</th>\n",
       "      <td>3</td>\n",
       "      <td>e3b0c44298fc1c149afbf4c8996fb92427ae41e4649b93...</td>\n",
       "      <td>27de21fca3386878c880170adfb397069ea49f48d171ee...</td>\n",
       "      <td>SHAMBURGER</td>\n",
       "      <td>JOHN</td>\n",
       "      <td>36605.0</td>\n",
       "      <td>2056 height st</td>\n",
       "    </tr>\n",
       "    <tr>\n",
       "      <th>4</th>\n",
       "      <td>4</td>\n",
       "      <td>e3b0c44298fc1c149afbf4c8996fb92427ae41e4649b93...</td>\n",
       "      <td>6b5a8ce077e17664730b5e010b320387783271fabfb0a0...</td>\n",
       "      <td>BATES</td>\n",
       "      <td>CLIFTON</td>\n",
       "      <td>36693.0</td>\n",
       "      <td>3012 blue ridge drive west</td>\n",
       "    </tr>\n",
       "  </tbody>\n",
       "</table>\n",
       "</div>"
      ],
      "text/plain": [
       "   Unnamed: 0                      social_security_number_hashed  \\\n",
       "0           0  e3b0c44298fc1c149afbf4c8996fb92427ae41e4649b93...   \n",
       "1           1  e3b0c44298fc1c149afbf4c8996fb92427ae41e4649b93...   \n",
       "2           2  e3b0c44298fc1c149afbf4c8996fb92427ae41e4649b93...   \n",
       "3           3  e3b0c44298fc1c149afbf4c8996fb92427ae41e4649b93...   \n",
       "4           4  e3b0c44298fc1c149afbf4c8996fb92427ae41e4649b93...   \n",
       "\n",
       "                                      mem_dob_hashed member_last_name  \\\n",
       "0  0411cc37aeec0bc88cfe76834320671932c40eeb0230e0...       RICHARDSON   \n",
       "1  8869b7bb249528e2ebb7ffc32563cf110661b44d01553f...          MCCLAIN   \n",
       "2  51fdf6d951baba49c81a74d6e92deaaf2dba676c405dde...            ROPER   \n",
       "3  27de21fca3386878c880170adfb397069ea49f48d171ee...       SHAMBURGER   \n",
       "4  6b5a8ce077e17664730b5e010b320387783271fabfb0a0...            BATES   \n",
       "\n",
       "  member_first_name  zipcode                 addr_line_1  \n",
       "0             DANNY  36617.0            760 mollie court  \n",
       "1            WILLIE  35208.0            1508 cullman ave  \n",
       "2            ALBERT  36067.0          1816 buckeye drive  \n",
       "3              JOHN  36605.0              2056 height st  \n",
       "4           CLIFTON  36693.0  3012 blue ridge drive west  "
      ]
     },
     "execution_count": 4,
     "metadata": {},
     "output_type": "execute_result"
    }
   ],
   "source": [
    "cosmos_mrg01.head()"
   ]
  },
  {
   "cell_type": "code",
   "execution_count": 5,
   "metadata": {
    "collapsed": false
   },
   "outputs": [],
   "source": [
    "tops10_mrg01 = pd.read_csv(path_tops, sep = ';', \\\n",
    "            quoting=csv.QUOTE_NONE, encoding='utf-8', error_bad_lines=False)"
   ]
  },
  {
   "cell_type": "code",
   "execution_count": 6,
   "metadata": {
    "collapsed": false
   },
   "outputs": [
    {
     "data": {
      "text/html": [
       "<div>\n",
       "<style scoped>\n",
       "    .dataframe tbody tr th:only-of-type {\n",
       "        vertical-align: middle;\n",
       "    }\n",
       "\n",
       "    .dataframe tbody tr th {\n",
       "        vertical-align: top;\n",
       "    }\n",
       "\n",
       "    .dataframe thead th {\n",
       "        text-align: right;\n",
       "    }\n",
       "</style>\n",
       "<table border=\"1\" class=\"dataframe\">\n",
       "  <thead>\n",
       "    <tr style=\"text-align: right;\">\n",
       "      <th></th>\n",
       "      <th>Unnamed: 0</th>\n",
       "      <th>social_security_number_hashed</th>\n",
       "      <th>mem_dob_hashed</th>\n",
       "      <th>member_last_name</th>\n",
       "      <th>member_first_name</th>\n",
       "      <th>zipcode</th>\n",
       "      <th>addr_line_1</th>\n",
       "    </tr>\n",
       "  </thead>\n",
       "  <tbody>\n",
       "    <tr>\n",
       "      <th>0</th>\n",
       "      <td>0</td>\n",
       "      <td>552dc9e193e2982b016e0ada8321fa8b50c1923641836a...</td>\n",
       "      <td>32e2f6281b12f9fa438fffa47f6c3aca3fbb33b4019068...</td>\n",
       "      <td>BAIR</td>\n",
       "      <td>FORREST</td>\n",
       "      <td>21222</td>\n",
       "      <td>7629   old battle grove rd</td>\n",
       "    </tr>\n",
       "    <tr>\n",
       "      <th>1</th>\n",
       "      <td>1</td>\n",
       "      <td>f120bb5698d520c5691b6d603a00bfd662d13bf177a045...</td>\n",
       "      <td>ca4acbd7623f3b24850cc4738b4926cb9e98d884f6d611...</td>\n",
       "      <td>HULGAN</td>\n",
       "      <td>BRENDA</td>\n",
       "      <td>30281</td>\n",
       "      <td>55 caroline dr</td>\n",
       "    </tr>\n",
       "    <tr>\n",
       "      <th>2</th>\n",
       "      <td>2</td>\n",
       "      <td>223c210772e65dd2fb0c83e17b360246ee4ea9c99f9da6...</td>\n",
       "      <td>ad2ac68775efad36b871dc10daa7e31f5a7e9686f28c41...</td>\n",
       "      <td>BUSBY</td>\n",
       "      <td>SHIRLEY</td>\n",
       "      <td>39440</td>\n",
       "      <td>15 shady oak rd</td>\n",
       "    </tr>\n",
       "    <tr>\n",
       "      <th>3</th>\n",
       "      <td>3</td>\n",
       "      <td>aec3aff464c8fee20ebcbd3fb362acd88cc67bd2281a1e...</td>\n",
       "      <td>404356c321bcf2569b642b553ac25668648771068577f2...</td>\n",
       "      <td>BIRKENESS</td>\n",
       "      <td>RICHARD</td>\n",
       "      <td>64068</td>\n",
       "      <td>17803 n.e. 89th street</td>\n",
       "    </tr>\n",
       "    <tr>\n",
       "      <th>4</th>\n",
       "      <td>4</td>\n",
       "      <td>faa2f151591a8ceba7177092510f33488197aa9b16fe8d...</td>\n",
       "      <td>01611c51d8e9e36f35524403140115689b1e7dcd313092...</td>\n",
       "      <td>MCGEHAN</td>\n",
       "      <td>GREGORY</td>\n",
       "      <td>45066</td>\n",
       "      <td>420 thomas drive</td>\n",
       "    </tr>\n",
       "  </tbody>\n",
       "</table>\n",
       "</div>"
      ],
      "text/plain": [
       "   Unnamed: 0                      social_security_number_hashed  \\\n",
       "0           0  552dc9e193e2982b016e0ada8321fa8b50c1923641836a...   \n",
       "1           1  f120bb5698d520c5691b6d603a00bfd662d13bf177a045...   \n",
       "2           2  223c210772e65dd2fb0c83e17b360246ee4ea9c99f9da6...   \n",
       "3           3  aec3aff464c8fee20ebcbd3fb362acd88cc67bd2281a1e...   \n",
       "4           4  faa2f151591a8ceba7177092510f33488197aa9b16fe8d...   \n",
       "\n",
       "                                      mem_dob_hashed member_last_name  \\\n",
       "0  32e2f6281b12f9fa438fffa47f6c3aca3fbb33b4019068...             BAIR   \n",
       "1  ca4acbd7623f3b24850cc4738b4926cb9e98d884f6d611...           HULGAN   \n",
       "2  ad2ac68775efad36b871dc10daa7e31f5a7e9686f28c41...            BUSBY   \n",
       "3  404356c321bcf2569b642b553ac25668648771068577f2...        BIRKENESS   \n",
       "4  01611c51d8e9e36f35524403140115689b1e7dcd313092...          MCGEHAN   \n",
       "\n",
       "  member_first_name zipcode                 addr_line_1  \n",
       "0           FORREST   21222  7629   old battle grove rd  \n",
       "1            BRENDA   30281              55 caroline dr  \n",
       "2           SHIRLEY   39440             15 shady oak rd  \n",
       "3           RICHARD   64068      17803 n.e. 89th street  \n",
       "4           GREGORY   45066            420 thomas drive  "
      ]
     },
     "execution_count": 6,
     "metadata": {},
     "output_type": "execute_result"
    }
   ],
   "source": [
    "tops10_mrg01.head()"
   ]
  },
  {
   "cell_type": "code",
   "execution_count": 10,
   "metadata": {
    "collapsed": false
   },
   "outputs": [
    {
     "data": {
      "text/plain": [
       "Index(['Unnamed: 0', 'social_security_number_hashed', 'mem_dob_hashed',\n",
       "       'member_last_name', 'member_first_name', 'zipcode', 'addr_line_1'],\n",
       "      dtype='object')"
      ]
     },
     "execution_count": 10,
     "metadata": {},
     "output_type": "execute_result"
    }
   ],
   "source": [
    "tops10_mrg01.columns"
   ]
  },
  {
   "cell_type": "code",
   "execution_count": 9,
   "metadata": {
    "collapsed": false
   },
   "outputs": [],
   "source": [
    "tops10_mrg01.drop(columns = ['Unnamed: 0'], inplace = True)\n",
    "#cosmos_mrg01.drop(columns = ['Unnamed: 0'], inplace = True)"
   ]
  },
  {
   "cell_type": "code",
   "execution_count": 10,
   "metadata": {
    "collapsed": false
   },
   "outputs": [
    {
     "data": {
      "text/html": [
       "<div>\n",
       "<style scoped>\n",
       "    .dataframe tbody tr th:only-of-type {\n",
       "        vertical-align: middle;\n",
       "    }\n",
       "\n",
       "    .dataframe tbody tr th {\n",
       "        vertical-align: top;\n",
       "    }\n",
       "\n",
       "    .dataframe thead th {\n",
       "        text-align: right;\n",
       "    }\n",
       "</style>\n",
       "<table border=\"1\" class=\"dataframe\">\n",
       "  <thead>\n",
       "    <tr style=\"text-align: right;\">\n",
       "      <th></th>\n",
       "      <th>social_security_number_hashed</th>\n",
       "      <th>mem_dob_hashed</th>\n",
       "      <th>member_last_name</th>\n",
       "      <th>member_first_name</th>\n",
       "      <th>zipcode</th>\n",
       "      <th>addr_line_1</th>\n",
       "    </tr>\n",
       "  </thead>\n",
       "  <tbody>\n",
       "    <tr>\n",
       "      <th>0</th>\n",
       "      <td>552dc9e193e2982b016e0ada8321fa8b50c1923641836a...</td>\n",
       "      <td>32e2f6281b12f9fa438fffa47f6c3aca3fbb33b4019068...</td>\n",
       "      <td>BAIR</td>\n",
       "      <td>FORREST</td>\n",
       "      <td>21222</td>\n",
       "      <td>7629   old battle grove rd</td>\n",
       "    </tr>\n",
       "    <tr>\n",
       "      <th>1</th>\n",
       "      <td>f120bb5698d520c5691b6d603a00bfd662d13bf177a045...</td>\n",
       "      <td>ca4acbd7623f3b24850cc4738b4926cb9e98d884f6d611...</td>\n",
       "      <td>HULGAN</td>\n",
       "      <td>BRENDA</td>\n",
       "      <td>30281</td>\n",
       "      <td>55 caroline dr</td>\n",
       "    </tr>\n",
       "    <tr>\n",
       "      <th>2</th>\n",
       "      <td>223c210772e65dd2fb0c83e17b360246ee4ea9c99f9da6...</td>\n",
       "      <td>ad2ac68775efad36b871dc10daa7e31f5a7e9686f28c41...</td>\n",
       "      <td>BUSBY</td>\n",
       "      <td>SHIRLEY</td>\n",
       "      <td>39440</td>\n",
       "      <td>15 shady oak rd</td>\n",
       "    </tr>\n",
       "    <tr>\n",
       "      <th>3</th>\n",
       "      <td>aec3aff464c8fee20ebcbd3fb362acd88cc67bd2281a1e...</td>\n",
       "      <td>404356c321bcf2569b642b553ac25668648771068577f2...</td>\n",
       "      <td>BIRKENESS</td>\n",
       "      <td>RICHARD</td>\n",
       "      <td>64068</td>\n",
       "      <td>17803 n.e. 89th street</td>\n",
       "    </tr>\n",
       "    <tr>\n",
       "      <th>4</th>\n",
       "      <td>faa2f151591a8ceba7177092510f33488197aa9b16fe8d...</td>\n",
       "      <td>01611c51d8e9e36f35524403140115689b1e7dcd313092...</td>\n",
       "      <td>MCGEHAN</td>\n",
       "      <td>GREGORY</td>\n",
       "      <td>45066</td>\n",
       "      <td>420 thomas drive</td>\n",
       "    </tr>\n",
       "  </tbody>\n",
       "</table>\n",
       "</div>"
      ],
      "text/plain": [
       "                       social_security_number_hashed  \\\n",
       "0  552dc9e193e2982b016e0ada8321fa8b50c1923641836a...   \n",
       "1  f120bb5698d520c5691b6d603a00bfd662d13bf177a045...   \n",
       "2  223c210772e65dd2fb0c83e17b360246ee4ea9c99f9da6...   \n",
       "3  aec3aff464c8fee20ebcbd3fb362acd88cc67bd2281a1e...   \n",
       "4  faa2f151591a8ceba7177092510f33488197aa9b16fe8d...   \n",
       "\n",
       "                                      mem_dob_hashed member_last_name  \\\n",
       "0  32e2f6281b12f9fa438fffa47f6c3aca3fbb33b4019068...             BAIR   \n",
       "1  ca4acbd7623f3b24850cc4738b4926cb9e98d884f6d611...           HULGAN   \n",
       "2  ad2ac68775efad36b871dc10daa7e31f5a7e9686f28c41...            BUSBY   \n",
       "3  404356c321bcf2569b642b553ac25668648771068577f2...        BIRKENESS   \n",
       "4  01611c51d8e9e36f35524403140115689b1e7dcd313092...          MCGEHAN   \n",
       "\n",
       "  member_first_name zipcode                 addr_line_1  \n",
       "0           FORREST   21222  7629   old battle grove rd  \n",
       "1            BRENDA   30281              55 caroline dr  \n",
       "2           SHIRLEY   39440             15 shady oak rd  \n",
       "3           RICHARD   64068      17803 n.e. 89th street  \n",
       "4           GREGORY   45066            420 thomas drive  "
      ]
     },
     "execution_count": 10,
     "metadata": {},
     "output_type": "execute_result"
    }
   ],
   "source": [
    "tops10_mrg01.head()"
   ]
  },
  {
   "cell_type": "code",
   "execution_count": 15,
   "metadata": {
    "collapsed": false
   },
   "outputs": [
    {
     "data": {
      "text/html": [
       "<div>\n",
       "<style scoped>\n",
       "    .dataframe tbody tr th:only-of-type {\n",
       "        vertical-align: middle;\n",
       "    }\n",
       "\n",
       "    .dataframe tbody tr th {\n",
       "        vertical-align: top;\n",
       "    }\n",
       "\n",
       "    .dataframe thead th {\n",
       "        text-align: right;\n",
       "    }\n",
       "</style>\n",
       "<table border=\"1\" class=\"dataframe\">\n",
       "  <thead>\n",
       "    <tr style=\"text-align: right;\">\n",
       "      <th></th>\n",
       "      <th>social_security_number_hashed</th>\n",
       "      <th>mem_dob_hashed</th>\n",
       "      <th>member_last_name</th>\n",
       "      <th>member_first_name</th>\n",
       "      <th>zipcode</th>\n",
       "      <th>addr_line_1</th>\n",
       "    </tr>\n",
       "  </thead>\n",
       "  <tbody>\n",
       "    <tr>\n",
       "      <th>0</th>\n",
       "      <td>e3b0c44298fc1c149afbf4c8996fb92427ae41e4649b93...</td>\n",
       "      <td>0411cc37aeec0bc88cfe76834320671932c40eeb0230e0...</td>\n",
       "      <td>RICHARDSON</td>\n",
       "      <td>DANNY</td>\n",
       "      <td>36617.0</td>\n",
       "      <td>760 mollie court</td>\n",
       "    </tr>\n",
       "    <tr>\n",
       "      <th>1</th>\n",
       "      <td>e3b0c44298fc1c149afbf4c8996fb92427ae41e4649b93...</td>\n",
       "      <td>8869b7bb249528e2ebb7ffc32563cf110661b44d01553f...</td>\n",
       "      <td>MCCLAIN</td>\n",
       "      <td>WILLIE</td>\n",
       "      <td>35208.0</td>\n",
       "      <td>1508 cullman ave</td>\n",
       "    </tr>\n",
       "    <tr>\n",
       "      <th>2</th>\n",
       "      <td>e3b0c44298fc1c149afbf4c8996fb92427ae41e4649b93...</td>\n",
       "      <td>51fdf6d951baba49c81a74d6e92deaaf2dba676c405dde...</td>\n",
       "      <td>ROPER</td>\n",
       "      <td>ALBERT</td>\n",
       "      <td>36067.0</td>\n",
       "      <td>1816 buckeye drive</td>\n",
       "    </tr>\n",
       "    <tr>\n",
       "      <th>3</th>\n",
       "      <td>e3b0c44298fc1c149afbf4c8996fb92427ae41e4649b93...</td>\n",
       "      <td>27de21fca3386878c880170adfb397069ea49f48d171ee...</td>\n",
       "      <td>SHAMBURGER</td>\n",
       "      <td>JOHN</td>\n",
       "      <td>36605.0</td>\n",
       "      <td>2056 height st</td>\n",
       "    </tr>\n",
       "    <tr>\n",
       "      <th>4</th>\n",
       "      <td>e3b0c44298fc1c149afbf4c8996fb92427ae41e4649b93...</td>\n",
       "      <td>6b5a8ce077e17664730b5e010b320387783271fabfb0a0...</td>\n",
       "      <td>BATES</td>\n",
       "      <td>CLIFTON</td>\n",
       "      <td>36693.0</td>\n",
       "      <td>3012 blue ridge drive west</td>\n",
       "    </tr>\n",
       "  </tbody>\n",
       "</table>\n",
       "</div>"
      ],
      "text/plain": [
       "                       social_security_number_hashed  \\\n",
       "0  e3b0c44298fc1c149afbf4c8996fb92427ae41e4649b93...   \n",
       "1  e3b0c44298fc1c149afbf4c8996fb92427ae41e4649b93...   \n",
       "2  e3b0c44298fc1c149afbf4c8996fb92427ae41e4649b93...   \n",
       "3  e3b0c44298fc1c149afbf4c8996fb92427ae41e4649b93...   \n",
       "4  e3b0c44298fc1c149afbf4c8996fb92427ae41e4649b93...   \n",
       "\n",
       "                                      mem_dob_hashed member_last_name  \\\n",
       "0  0411cc37aeec0bc88cfe76834320671932c40eeb0230e0...       RICHARDSON   \n",
       "1  8869b7bb249528e2ebb7ffc32563cf110661b44d01553f...          MCCLAIN   \n",
       "2  51fdf6d951baba49c81a74d6e92deaaf2dba676c405dde...            ROPER   \n",
       "3  27de21fca3386878c880170adfb397069ea49f48d171ee...       SHAMBURGER   \n",
       "4  6b5a8ce077e17664730b5e010b320387783271fabfb0a0...            BATES   \n",
       "\n",
       "  member_first_name  zipcode                 addr_line_1  \n",
       "0             DANNY  36617.0            760 mollie court  \n",
       "1            WILLIE  35208.0            1508 cullman ave  \n",
       "2            ALBERT  36067.0          1816 buckeye drive  \n",
       "3              JOHN  36605.0              2056 height st  \n",
       "4           CLIFTON  36693.0  3012 blue ridge drive west  "
      ]
     },
     "execution_count": 15,
     "metadata": {},
     "output_type": "execute_result"
    }
   ],
   "source": [
    "cosmos_mrg01.head()"
   ]
  },
  {
   "cell_type": "code",
   "execution_count": 11,
   "metadata": {
    "collapsed": false
   },
   "outputs": [],
   "source": [
    "# Extract the street number from member address\n",
    "cosmos_mrg01['snum'] = cosmos_mrg01.addr_line_1.astype(str).str.split(' ', 1).apply(lambda x:x[0])\n",
    "tops10_mrg01['snum'] = tops10_mrg01.addr_line_1.astype(str).str.split(' ', 1).apply(lambda x:x[0])"
   ]
  },
  {
   "cell_type": "code",
   "execution_count": 12,
   "metadata": {
    "collapsed": true
   },
   "outputs": [],
   "source": [
    "# Convert the cosmos zipcode from float to str\n",
    "cosmos_mrg01['zipcode'] = cosmos_mrg01.zipcode.apply(lambda x : str(int(x)) if pd.notnull(x) else '')"
   ]
  },
  {
   "cell_type": "code",
   "execution_count": 13,
   "metadata": {
    "collapsed": false
   },
   "outputs": [
    {
     "name": "stdout",
     "output_type": "stream",
     "text": [
      "CPU times: user 1min 50s, sys: 3.07 s, total: 1min 53s\n",
      "Wall time: 1min 53s\n"
     ]
    }
   ],
   "source": [
    "%%time\n",
    "\n",
    "# Merge the tables on blocking keys\n",
    "\n",
    "CT_mrg02 = pd.merge(cosmos_mrg01, tops10_mrg01, left_on = ['zipcode', \\\n",
    "'social_security_number_hashed', 'mem_dob_hashed', 'snum'], right_on = ['zipcode', \\\n",
    "'social_security_number_hashed', 'mem_dob_hashed', 'snum'])"
   ]
  },
  {
   "cell_type": "code",
   "execution_count": 14,
   "metadata": {
    "collapsed": false
   },
   "outputs": [
    {
     "name": "stdout",
     "output_type": "stream",
     "text": [
      "There are 235848 records in merged cpsmos-tops table for possible member match\n"
     ]
    },
    {
     "data": {
      "text/html": [
       "<div>\n",
       "<style scoped>\n",
       "    .dataframe tbody tr th:only-of-type {\n",
       "        vertical-align: middle;\n",
       "    }\n",
       "\n",
       "    .dataframe tbody tr th {\n",
       "        vertical-align: top;\n",
       "    }\n",
       "\n",
       "    .dataframe thead th {\n",
       "        text-align: right;\n",
       "    }\n",
       "</style>\n",
       "<table border=\"1\" class=\"dataframe\">\n",
       "  <thead>\n",
       "    <tr style=\"text-align: right;\">\n",
       "      <th></th>\n",
       "      <th>social_security_number_hashed</th>\n",
       "      <th>mem_dob_hashed</th>\n",
       "      <th>member_last_name_x</th>\n",
       "      <th>member_first_name_x</th>\n",
       "      <th>zipcode</th>\n",
       "      <th>addr_line_1_x</th>\n",
       "      <th>snum</th>\n",
       "      <th>member_last_name_y</th>\n",
       "      <th>member_first_name_y</th>\n",
       "      <th>addr_line_1_y</th>\n",
       "    </tr>\n",
       "  </thead>\n",
       "  <tbody>\n",
       "    <tr>\n",
       "      <th>0</th>\n",
       "      <td>9b041b5bc341fb9934a4e091216205aacd2b92be6ae697...</td>\n",
       "      <td>1360a295e3140c9c99b76f32828af83203d2f3378645b5...</td>\n",
       "      <td>DODGE</td>\n",
       "      <td>CHRISTOPHER</td>\n",
       "      <td>60103</td>\n",
       "      <td>550 sayer road</td>\n",
       "      <td>550</td>\n",
       "      <td>DODGE</td>\n",
       "      <td>CHRISTOPHER</td>\n",
       "      <td>550 sayer road</td>\n",
       "    </tr>\n",
       "    <tr>\n",
       "      <th>1</th>\n",
       "      <td>9b041b5bc341fb9934a4e091216205aacd2b92be6ae697...</td>\n",
       "      <td>1360a295e3140c9c99b76f32828af83203d2f3378645b5...</td>\n",
       "      <td>DODGE</td>\n",
       "      <td>CHRISTOPHER</td>\n",
       "      <td>60103</td>\n",
       "      <td>550 sayer rd</td>\n",
       "      <td>550</td>\n",
       "      <td>DODGE</td>\n",
       "      <td>CHRISTOPHER</td>\n",
       "      <td>550 sayer road</td>\n",
       "    </tr>\n",
       "    <tr>\n",
       "      <th>2</th>\n",
       "      <td>ae75aad75ec3e9cfa88f905fbf386b12b710275ca32793...</td>\n",
       "      <td>0070ce347fe003ee3c29735e3ebd3e69c6f20e88d8f72e...</td>\n",
       "      <td>JONES</td>\n",
       "      <td>JUDITH</td>\n",
       "      <td>27893</td>\n",
       "      <td>300a katharine ct</td>\n",
       "      <td>300a</td>\n",
       "      <td>JONES</td>\n",
       "      <td>JUDITH</td>\n",
       "      <td>300a katharine ct</td>\n",
       "    </tr>\n",
       "    <tr>\n",
       "      <th>3</th>\n",
       "      <td>a54c5417d05991f4a6de32bf1382b99871af3564e76df3...</td>\n",
       "      <td>08e04c43c4ac8bb16241088c7b272e795c129d93c9a7d1...</td>\n",
       "      <td>LYNCH</td>\n",
       "      <td>JAMES</td>\n",
       "      <td>90505</td>\n",
       "      <td>2634 w 230th pl</td>\n",
       "      <td>2634</td>\n",
       "      <td>LYNCH</td>\n",
       "      <td>JAMES</td>\n",
       "      <td>2634 230th place</td>\n",
       "    </tr>\n",
       "    <tr>\n",
       "      <th>4</th>\n",
       "      <td>8e06b3395bcca9946bad3e8bb6fabac45c757045aa9e0c...</td>\n",
       "      <td>eca12aa081594e51c7f1c340c63dc8eeb528e9ee19955d...</td>\n",
       "      <td>ETZEL</td>\n",
       "      <td>GEORGIA</td>\n",
       "      <td>92532</td>\n",
       "      <td>29315 third st</td>\n",
       "      <td>29315</td>\n",
       "      <td>ETZEL</td>\n",
       "      <td>G</td>\n",
       "      <td>29315 third st</td>\n",
       "    </tr>\n",
       "  </tbody>\n",
       "</table>\n",
       "</div>"
      ],
      "text/plain": [
       "                       social_security_number_hashed  \\\n",
       "0  9b041b5bc341fb9934a4e091216205aacd2b92be6ae697...   \n",
       "1  9b041b5bc341fb9934a4e091216205aacd2b92be6ae697...   \n",
       "2  ae75aad75ec3e9cfa88f905fbf386b12b710275ca32793...   \n",
       "3  a54c5417d05991f4a6de32bf1382b99871af3564e76df3...   \n",
       "4  8e06b3395bcca9946bad3e8bb6fabac45c757045aa9e0c...   \n",
       "\n",
       "                                      mem_dob_hashed member_last_name_x  \\\n",
       "0  1360a295e3140c9c99b76f32828af83203d2f3378645b5...              DODGE   \n",
       "1  1360a295e3140c9c99b76f32828af83203d2f3378645b5...              DODGE   \n",
       "2  0070ce347fe003ee3c29735e3ebd3e69c6f20e88d8f72e...              JONES   \n",
       "3  08e04c43c4ac8bb16241088c7b272e795c129d93c9a7d1...              LYNCH   \n",
       "4  eca12aa081594e51c7f1c340c63dc8eeb528e9ee19955d...              ETZEL   \n",
       "\n",
       "  member_first_name_x zipcode      addr_line_1_x   snum member_last_name_y  \\\n",
       "0         CHRISTOPHER   60103     550 sayer road    550              DODGE   \n",
       "1         CHRISTOPHER   60103       550 sayer rd    550              DODGE   \n",
       "2              JUDITH   27893  300a katharine ct   300a              JONES   \n",
       "3               JAMES   90505    2634 w 230th pl   2634              LYNCH   \n",
       "4             GEORGIA   92532     29315 third st  29315              ETZEL   \n",
       "\n",
       "  member_first_name_y      addr_line_1_y  \n",
       "0         CHRISTOPHER     550 sayer road  \n",
       "1         CHRISTOPHER     550 sayer road  \n",
       "2              JUDITH  300a katharine ct  \n",
       "3               JAMES   2634 230th place  \n",
       "4                   G     29315 third st  "
      ]
     },
     "execution_count": 14,
     "metadata": {},
     "output_type": "execute_result"
    }
   ],
   "source": [
    "print (\"There are {} records in merged cpsmos-tops table for possible member match\".format(len(CT_mrg02.index)))\n",
    "CT_mrg02.head()"
   ]
  },
  {
   "cell_type": "code",
   "execution_count": 15,
   "metadata": {
    "collapsed": false
   },
   "outputs": [
    {
     "data": {
      "text/html": [
       "<div>\n",
       "<style scoped>\n",
       "    .dataframe tbody tr th:only-of-type {\n",
       "        vertical-align: middle;\n",
       "    }\n",
       "\n",
       "    .dataframe tbody tr th {\n",
       "        vertical-align: top;\n",
       "    }\n",
       "\n",
       "    .dataframe thead th {\n",
       "        text-align: right;\n",
       "    }\n",
       "</style>\n",
       "<table border=\"1\" class=\"dataframe\">\n",
       "  <thead>\n",
       "    <tr style=\"text-align: right;\">\n",
       "      <th></th>\n",
       "      <th>social_security_number_hashed</th>\n",
       "      <th>mem_dob_hashed</th>\n",
       "      <th>member_last_name_x</th>\n",
       "      <th>member_first_name_x</th>\n",
       "      <th>zipcode</th>\n",
       "      <th>addr_line_1_x</th>\n",
       "      <th>snum</th>\n",
       "      <th>member_last_name_y</th>\n",
       "      <th>member_first_name_y</th>\n",
       "      <th>addr_line_1_y</th>\n",
       "    </tr>\n",
       "  </thead>\n",
       "  <tbody>\n",
       "    <tr>\n",
       "      <th>235843</th>\n",
       "      <td>8bb56c7df6fbd4d945db86b5bb51cff9467fe1ee746eb3...</td>\n",
       "      <td>44bb09e37d33f000d4fe3b2bb145896c7ede3c4f11160e...</td>\n",
       "      <td>HUNZIKER</td>\n",
       "      <td>CHRISTOPHER</td>\n",
       "      <td>98284</td>\n",
       "      <td>930 presidio pl</td>\n",
       "      <td>930</td>\n",
       "      <td>HUNZIKER</td>\n",
       "      <td>CHRISTOPHER</td>\n",
       "      <td>930 presidio pine</td>\n",
       "    </tr>\n",
       "    <tr>\n",
       "      <th>235844</th>\n",
       "      <td>29c4fa9ee48b2fb3a2c9c8e95e197efba4aa41be79490c...</td>\n",
       "      <td>f2be037d54abef4ce12edc7cf1e3ca8e893e6a8644669c...</td>\n",
       "      <td>DORTA</td>\n",
       "      <td>NEIDER</td>\n",
       "      <td>33014</td>\n",
       "      <td>7215 w 2nd ln</td>\n",
       "      <td>7215</td>\n",
       "      <td>DORTA</td>\n",
       "      <td>NEIDER</td>\n",
       "      <td>7215 w 2nd ln</td>\n",
       "    </tr>\n",
       "    <tr>\n",
       "      <th>235845</th>\n",
       "      <td>237260540f1baa17c41152a287755aebed41795b2e443f...</td>\n",
       "      <td>8f71bee9db79ac233f0e845f1b124692eac9d9e466c964...</td>\n",
       "      <td>WOART</td>\n",
       "      <td>DAVID</td>\n",
       "      <td>11727</td>\n",
       "      <td>9 grand canyon lane</td>\n",
       "      <td>9</td>\n",
       "      <td>WOART</td>\n",
       "      <td>DAVID</td>\n",
       "      <td>9 grand canyon lane</td>\n",
       "    </tr>\n",
       "    <tr>\n",
       "      <th>235846</th>\n",
       "      <td>0f6957652db07827c19d34fbad942dae8086c354580da0...</td>\n",
       "      <td>f14ad2567a32998dd188dc55f61fd39c77a09c97b45256...</td>\n",
       "      <td>ROBERTS-PRUYN</td>\n",
       "      <td>DIANA</td>\n",
       "      <td>30108</td>\n",
       "      <td>130 w college st</td>\n",
       "      <td>130</td>\n",
       "      <td>ROBERTS-PRUYN</td>\n",
       "      <td>DIANA</td>\n",
       "      <td>130 w. college st.</td>\n",
       "    </tr>\n",
       "    <tr>\n",
       "      <th>235847</th>\n",
       "      <td>e0c7048d208f4b613187a4ab23a1092ba5ad5f6351d636...</td>\n",
       "      <td>7ff4dab749140a3b38ac4ae8e09ac93356e76d2a1c20b7...</td>\n",
       "      <td>MELNARIK</td>\n",
       "      <td>MELISSA</td>\n",
       "      <td>54216</td>\n",
       "      <td>1309 river rd</td>\n",
       "      <td>1309</td>\n",
       "      <td>MELNARIK</td>\n",
       "      <td>MELISSA</td>\n",
       "      <td>1309 river rd</td>\n",
       "    </tr>\n",
       "  </tbody>\n",
       "</table>\n",
       "</div>"
      ],
      "text/plain": [
       "                            social_security_number_hashed  \\\n",
       "235843  8bb56c7df6fbd4d945db86b5bb51cff9467fe1ee746eb3...   \n",
       "235844  29c4fa9ee48b2fb3a2c9c8e95e197efba4aa41be79490c...   \n",
       "235845  237260540f1baa17c41152a287755aebed41795b2e443f...   \n",
       "235846  0f6957652db07827c19d34fbad942dae8086c354580da0...   \n",
       "235847  e0c7048d208f4b613187a4ab23a1092ba5ad5f6351d636...   \n",
       "\n",
       "                                           mem_dob_hashed member_last_name_x  \\\n",
       "235843  44bb09e37d33f000d4fe3b2bb145896c7ede3c4f11160e...           HUNZIKER   \n",
       "235844  f2be037d54abef4ce12edc7cf1e3ca8e893e6a8644669c...              DORTA   \n",
       "235845  8f71bee9db79ac233f0e845f1b124692eac9d9e466c964...              WOART   \n",
       "235846  f14ad2567a32998dd188dc55f61fd39c77a09c97b45256...      ROBERTS-PRUYN   \n",
       "235847  7ff4dab749140a3b38ac4ae8e09ac93356e76d2a1c20b7...           MELNARIK   \n",
       "\n",
       "       member_first_name_x zipcode        addr_line_1_x  snum  \\\n",
       "235843         CHRISTOPHER   98284      930 presidio pl   930   \n",
       "235844              NEIDER   33014        7215 w 2nd ln  7215   \n",
       "235845               DAVID   11727  9 grand canyon lane     9   \n",
       "235846               DIANA   30108     130 w college st   130   \n",
       "235847             MELISSA   54216        1309 river rd  1309   \n",
       "\n",
       "       member_last_name_y member_first_name_y        addr_line_1_y  \n",
       "235843           HUNZIKER         CHRISTOPHER    930 presidio pine  \n",
       "235844              DORTA              NEIDER        7215 w 2nd ln  \n",
       "235845              WOART               DAVID  9 grand canyon lane  \n",
       "235846      ROBERTS-PRUYN               DIANA   130 w. college st.  \n",
       "235847           MELNARIK             MELISSA        1309 river rd  "
      ]
     },
     "execution_count": 15,
     "metadata": {},
     "output_type": "execute_result"
    }
   ],
   "source": [
    "CT_mrg02.tail()"
   ]
  },
  {
   "cell_type": "code",
   "execution_count": 16,
   "metadata": {
    "collapsed": true
   },
   "outputs": [],
   "source": [
    "# Let us save this merged table to csv file first before going further with Jaro-Winkler analysis\n",
    "# Save the merged tops-10chunks and all cosmos pandas table to csv file\n",
    "\n",
    "out_tops = 'tops10cosmos_mrg02.csv'\n",
    "path_out_CT10 = os.path.join(data_dir, out_tops)\n",
    "\n",
    "CT_mrg02.to_csv(path_out_CT10, sep = ';')"
   ]
  },
  {
   "cell_type": "code",
   "execution_count": 17,
   "metadata": {
    "collapsed": false
   },
   "outputs": [
    {
     "data": {
      "text/plain": [
       "social_security_number_hashed    object\n",
       "mem_dob_hashed                   object\n",
       "member_last_name_x               object\n",
       "member_first_name_x              object\n",
       "zipcode                          object\n",
       "addr_line_1_x                    object\n",
       "snum                             object\n",
       "member_last_name_y               object\n",
       "member_first_name_y              object\n",
       "addr_line_1_y                    object\n",
       "dtype: object"
      ]
     },
     "execution_count": 17,
     "metadata": {},
     "output_type": "execute_result"
    }
   ],
   "source": [
    "CT_mrg02.dtypes"
   ]
  },
  {
   "cell_type": "code",
   "execution_count": 18,
   "metadata": {
    "collapsed": false
   },
   "outputs": [
    {
     "data": {
      "text/html": [
       "<div>\n",
       "<style scoped>\n",
       "    .dataframe tbody tr th:only-of-type {\n",
       "        vertical-align: middle;\n",
       "    }\n",
       "\n",
       "    .dataframe tbody tr th {\n",
       "        vertical-align: top;\n",
       "    }\n",
       "\n",
       "    .dataframe thead th {\n",
       "        text-align: right;\n",
       "    }\n",
       "</style>\n",
       "<table border=\"1\" class=\"dataframe\">\n",
       "  <thead>\n",
       "    <tr style=\"text-align: right;\">\n",
       "      <th></th>\n",
       "      <th>social_security_number_hashed</th>\n",
       "      <th>mem_dob_hashed</th>\n",
       "      <th>member_last_name_x</th>\n",
       "      <th>member_first_name_x</th>\n",
       "      <th>zipcode</th>\n",
       "      <th>addr_line_1_x</th>\n",
       "      <th>snum</th>\n",
       "      <th>member_last_name_y</th>\n",
       "      <th>member_first_name_y</th>\n",
       "      <th>addr_line_1_y</th>\n",
       "    </tr>\n",
       "  </thead>\n",
       "  <tbody>\n",
       "    <tr>\n",
       "      <th>128180</th>\n",
       "      <td>cf330406b698d3af04ef93021707572042539bdc4aa831...</td>\n",
       "      <td>560bf6e8405202daee728e478de7b38b993b6ff8bbb110...</td>\n",
       "      <td>PUCKHABER</td>\n",
       "      <td>JULIE</td>\n",
       "      <td>33067</td>\n",
       "      <td>4845 nw 89th ter</td>\n",
       "      <td>4845</td>\n",
       "      <td>PUCKHABER</td>\n",
       "      <td>JULIE</td>\n",
       "      <td>4845 nw 89th terrace</td>\n",
       "    </tr>\n",
       "    <tr>\n",
       "      <th>128181</th>\n",
       "      <td>cf330406b698d3af04ef93021707572042539bdc4aa831...</td>\n",
       "      <td>560bf6e8405202daee728e478de7b38b993b6ff8bbb110...</td>\n",
       "      <td>PUCKHABER</td>\n",
       "      <td>JULIE</td>\n",
       "      <td>33067</td>\n",
       "      <td>4845 nw 89th ter</td>\n",
       "      <td>4845</td>\n",
       "      <td>PUCKHABER</td>\n",
       "      <td>JULIE</td>\n",
       "      <td>4845 nw 89th terrace</td>\n",
       "    </tr>\n",
       "    <tr>\n",
       "      <th>128182</th>\n",
       "      <td>ba4797a9e33398e258d8bc0277154a34a8d13ee353e5eb...</td>\n",
       "      <td>433fb601e451c3d9f31842b4a5a856396adf02eba6c236...</td>\n",
       "      <td>MAURIZ</td>\n",
       "      <td>GERARDO</td>\n",
       "      <td>34219</td>\n",
       "      <td>2015 island estates drive</td>\n",
       "      <td>2015</td>\n",
       "      <td>MAURIZ</td>\n",
       "      <td>GERARDO</td>\n",
       "      <td>2015 island estates drive</td>\n",
       "    </tr>\n",
       "    <tr>\n",
       "      <th>128183</th>\n",
       "      <td>8798260510150a41875c02ff4e68f9a992675b12c54bb4...</td>\n",
       "      <td>88b98832763fb792be11e640314fe96f2c538d47a68a20...</td>\n",
       "      <td>HOWARD</td>\n",
       "      <td>MARGIE</td>\n",
       "      <td>31768</td>\n",
       "      <td>990 mcelroy rd</td>\n",
       "      <td>990</td>\n",
       "      <td>HOWARD</td>\n",
       "      <td>MARGIE</td>\n",
       "      <td>990 mcelroy rd</td>\n",
       "    </tr>\n",
       "    <tr>\n",
       "      <th>128184</th>\n",
       "      <td>8798260510150a41875c02ff4e68f9a992675b12c54bb4...</td>\n",
       "      <td>88b98832763fb792be11e640314fe96f2c538d47a68a20...</td>\n",
       "      <td>HOWARD</td>\n",
       "      <td>MARGIE</td>\n",
       "      <td>31768</td>\n",
       "      <td>990 mcelroy rd</td>\n",
       "      <td>990</td>\n",
       "      <td>HOWARD</td>\n",
       "      <td>MARGIE</td>\n",
       "      <td>990 mcelroy rd</td>\n",
       "    </tr>\n",
       "    <tr>\n",
       "      <th>128185</th>\n",
       "      <td>92af2d6923b35b4bbaa0e5badf11cfe65de23bca46c584...</td>\n",
       "      <td>6d550fc3960b0e9984f072351d995090b7588abd2af9de...</td>\n",
       "      <td>IANELLI</td>\n",
       "      <td>NICHOLAS</td>\n",
       "      <td>77389</td>\n",
       "      <td>6323 craigway rd</td>\n",
       "      <td>6323</td>\n",
       "      <td>IANELLI</td>\n",
       "      <td>NaN</td>\n",
       "      <td>6323 craigway rd</td>\n",
       "    </tr>\n",
       "    <tr>\n",
       "      <th>128186</th>\n",
       "      <td>5ac71d9bb85731d0b4ab34827ac2e0a6be783166c7ae5b...</td>\n",
       "      <td>3291adeb11894ada8e18791bbf355ca996ffebe8a2c060...</td>\n",
       "      <td>BUTTRAM</td>\n",
       "      <td>BARRIE</td>\n",
       "      <td>30236</td>\n",
       "      <td>8662 north shore drive</td>\n",
       "      <td>8662</td>\n",
       "      <td>BUTTRAM</td>\n",
       "      <td>BARRY</td>\n",
       "      <td>8662 north shore drive</td>\n",
       "    </tr>\n",
       "    <tr>\n",
       "      <th>128187</th>\n",
       "      <td>5ac71d9bb85731d0b4ab34827ac2e0a6be783166c7ae5b...</td>\n",
       "      <td>3291adeb11894ada8e18791bbf355ca996ffebe8a2c060...</td>\n",
       "      <td>BUTTRAM</td>\n",
       "      <td>BARRIE</td>\n",
       "      <td>30236</td>\n",
       "      <td>8662 north shore drive</td>\n",
       "      <td>8662</td>\n",
       "      <td>BUTTRAM</td>\n",
       "      <td>BARRY</td>\n",
       "      <td>8662 north shore drive</td>\n",
       "    </tr>\n",
       "    <tr>\n",
       "      <th>128188</th>\n",
       "      <td>d9f7d66af1c4391b00c2e9e98a8f6c3dabd361d729bb40...</td>\n",
       "      <td>675d3bcc6f74586682be8e3b0e95d2ee2b4db5af61b011...</td>\n",
       "      <td>ICANBERRY</td>\n",
       "      <td>JESSE</td>\n",
       "      <td>98146</td>\n",
       "      <td>2626 sw 112th st</td>\n",
       "      <td>2626</td>\n",
       "      <td>ICANBERRY</td>\n",
       "      <td>JESSE</td>\n",
       "      <td>2626 sw 112th st</td>\n",
       "    </tr>\n",
       "  </tbody>\n",
       "</table>\n",
       "</div>"
      ],
      "text/plain": [
       "                            social_security_number_hashed  \\\n",
       "128180  cf330406b698d3af04ef93021707572042539bdc4aa831...   \n",
       "128181  cf330406b698d3af04ef93021707572042539bdc4aa831...   \n",
       "128182  ba4797a9e33398e258d8bc0277154a34a8d13ee353e5eb...   \n",
       "128183  8798260510150a41875c02ff4e68f9a992675b12c54bb4...   \n",
       "128184  8798260510150a41875c02ff4e68f9a992675b12c54bb4...   \n",
       "128185  92af2d6923b35b4bbaa0e5badf11cfe65de23bca46c584...   \n",
       "128186  5ac71d9bb85731d0b4ab34827ac2e0a6be783166c7ae5b...   \n",
       "128187  5ac71d9bb85731d0b4ab34827ac2e0a6be783166c7ae5b...   \n",
       "128188  d9f7d66af1c4391b00c2e9e98a8f6c3dabd361d729bb40...   \n",
       "\n",
       "                                           mem_dob_hashed member_last_name_x  \\\n",
       "128180  560bf6e8405202daee728e478de7b38b993b6ff8bbb110...          PUCKHABER   \n",
       "128181  560bf6e8405202daee728e478de7b38b993b6ff8bbb110...          PUCKHABER   \n",
       "128182  433fb601e451c3d9f31842b4a5a856396adf02eba6c236...             MAURIZ   \n",
       "128183  88b98832763fb792be11e640314fe96f2c538d47a68a20...             HOWARD   \n",
       "128184  88b98832763fb792be11e640314fe96f2c538d47a68a20...             HOWARD   \n",
       "128185  6d550fc3960b0e9984f072351d995090b7588abd2af9de...            IANELLI   \n",
       "128186  3291adeb11894ada8e18791bbf355ca996ffebe8a2c060...            BUTTRAM   \n",
       "128187  3291adeb11894ada8e18791bbf355ca996ffebe8a2c060...            BUTTRAM   \n",
       "128188  675d3bcc6f74586682be8e3b0e95d2ee2b4db5af61b011...          ICANBERRY   \n",
       "\n",
       "       member_first_name_x zipcode              addr_line_1_x  snum  \\\n",
       "128180               JULIE   33067           4845 nw 89th ter  4845   \n",
       "128181               JULIE   33067           4845 nw 89th ter  4845   \n",
       "128182             GERARDO   34219  2015 island estates drive  2015   \n",
       "128183              MARGIE   31768             990 mcelroy rd   990   \n",
       "128184              MARGIE   31768             990 mcelroy rd   990   \n",
       "128185            NICHOLAS   77389           6323 craigway rd  6323   \n",
       "128186              BARRIE   30236     8662 north shore drive  8662   \n",
       "128187              BARRIE   30236     8662 north shore drive  8662   \n",
       "128188               JESSE   98146           2626 sw 112th st  2626   \n",
       "\n",
       "       member_last_name_y member_first_name_y              addr_line_1_y  \n",
       "128180          PUCKHABER               JULIE       4845 nw 89th terrace  \n",
       "128181          PUCKHABER               JULIE       4845 nw 89th terrace  \n",
       "128182             MAURIZ             GERARDO  2015 island estates drive  \n",
       "128183             HOWARD              MARGIE             990 mcelroy rd  \n",
       "128184             HOWARD              MARGIE             990 mcelroy rd  \n",
       "128185            IANELLI                 NaN           6323 craigway rd  \n",
       "128186            BUTTRAM               BARRY     8662 north shore drive  \n",
       "128187            BUTTRAM               BARRY     8662 north shore drive  \n",
       "128188          ICANBERRY               JESSE           2626 sw 112th st  "
      ]
     },
     "execution_count": 18,
     "metadata": {},
     "output_type": "execute_result"
    }
   ],
   "source": [
    "CT_mrg02.iloc[128189]\n",
    "CT_mrg02._slice(slice(128180,128189))"
   ]
  },
  {
   "cell_type": "code",
   "execution_count": 19,
   "metadata": {
    "collapsed": true
   },
   "outputs": [],
   "source": [
    "# We see NaN for index 128185; so we need to process all the columns that to be used in similarity calculation\n",
    "CT_mrg02['member_last_name_x'] = CT_mrg02.member_last_name_x.astype(str).apply(lambda x:str(x) if pd.notnull(x) else '')\n",
    "CT_mrg02['member_last_name_y'] = CT_mrg02.member_last_name_y.astype(str).apply(lambda x:str(x) if pd.notnull(x) else '')\n",
    "CT_mrg02['member_first_name_x'] = CT_mrg02.member_first_name_x.astype(str).apply(lambda x:str(x) if pd.notnull(x) else '')\n",
    "CT_mrg02['member_first_name_y'] = CT_mrg02.member_first_name_y.astype(str).apply(lambda x:str(x) if pd.notnull(x) else '')\n"
   ]
  },
  {
   "cell_type": "code",
   "execution_count": 20,
   "metadata": {
    "collapsed": false
   },
   "outputs": [
    {
     "name": "stdout",
     "output_type": "stream",
     "text": [
      "CPU times: user 28.3 s, sys: 4 ms, total: 28.4 s\n",
      "Wall time: 28.3 s\n"
     ]
    }
   ],
   "source": [
    "%%time\n",
    "# Well, the table is saved, we do not have to worry about the dead kernel issue.\n",
    "# Let us go ahead and move forward. We can run another job loading the saved table and continue the test at any point\n",
    "\n",
    "# Calcute similarity score for last name\n",
    "\n",
    "CT_mrg02['score1'] = CT_mrg02[['member_last_name_x','member_last_name_y',]].apply(lambda arr: jf.jaro_winkler(arr[0], arr[1]), axis = 1)\n",
    "# Calcute similarity score for first name\n",
    "\n",
    "CT_mrg02['score2'] = CT_mrg02[['member_first_name_x','member_first_name_y']].apply(lambda arr: jf.jaro_winkler(arr[0], arr[1]), axis = 1)\n"
   ]
  },
  {
   "cell_type": "code",
   "execution_count": 21,
   "metadata": {
    "collapsed": false
   },
   "outputs": [
    {
     "data": {
      "text/html": [
       "<div>\n",
       "<style scoped>\n",
       "    .dataframe tbody tr th:only-of-type {\n",
       "        vertical-align: middle;\n",
       "    }\n",
       "\n",
       "    .dataframe tbody tr th {\n",
       "        vertical-align: top;\n",
       "    }\n",
       "\n",
       "    .dataframe thead th {\n",
       "        text-align: right;\n",
       "    }\n",
       "</style>\n",
       "<table border=\"1\" class=\"dataframe\">\n",
       "  <thead>\n",
       "    <tr style=\"text-align: right;\">\n",
       "      <th></th>\n",
       "      <th>member_last_name_x</th>\n",
       "      <th>member_last_name_y</th>\n",
       "      <th>member_first_name_x</th>\n",
       "      <th>member_first_name_y</th>\n",
       "      <th>score1</th>\n",
       "      <th>score2</th>\n",
       "    </tr>\n",
       "  </thead>\n",
       "  <tbody>\n",
       "    <tr>\n",
       "      <th>0</th>\n",
       "      <td>DODGE</td>\n",
       "      <td>DODGE</td>\n",
       "      <td>CHRISTOPHER</td>\n",
       "      <td>CHRISTOPHER</td>\n",
       "      <td>1.0</td>\n",
       "      <td>1.000000</td>\n",
       "    </tr>\n",
       "    <tr>\n",
       "      <th>1</th>\n",
       "      <td>DODGE</td>\n",
       "      <td>DODGE</td>\n",
       "      <td>CHRISTOPHER</td>\n",
       "      <td>CHRISTOPHER</td>\n",
       "      <td>1.0</td>\n",
       "      <td>1.000000</td>\n",
       "    </tr>\n",
       "    <tr>\n",
       "      <th>2</th>\n",
       "      <td>JONES</td>\n",
       "      <td>JONES</td>\n",
       "      <td>JUDITH</td>\n",
       "      <td>JUDITH</td>\n",
       "      <td>1.0</td>\n",
       "      <td>1.000000</td>\n",
       "    </tr>\n",
       "    <tr>\n",
       "      <th>3</th>\n",
       "      <td>LYNCH</td>\n",
       "      <td>LYNCH</td>\n",
       "      <td>JAMES</td>\n",
       "      <td>JAMES</td>\n",
       "      <td>1.0</td>\n",
       "      <td>1.000000</td>\n",
       "    </tr>\n",
       "    <tr>\n",
       "      <th>4</th>\n",
       "      <td>ETZEL</td>\n",
       "      <td>ETZEL</td>\n",
       "      <td>GEORGIA</td>\n",
       "      <td>G</td>\n",
       "      <td>1.0</td>\n",
       "      <td>0.714286</td>\n",
       "    </tr>\n",
       "  </tbody>\n",
       "</table>\n",
       "</div>"
      ],
      "text/plain": [
       "  member_last_name_x member_last_name_y member_first_name_x  \\\n",
       "0              DODGE              DODGE         CHRISTOPHER   \n",
       "1              DODGE              DODGE         CHRISTOPHER   \n",
       "2              JONES              JONES              JUDITH   \n",
       "3              LYNCH              LYNCH               JAMES   \n",
       "4              ETZEL              ETZEL             GEORGIA   \n",
       "\n",
       "  member_first_name_y  score1    score2  \n",
       "0         CHRISTOPHER     1.0  1.000000  \n",
       "1         CHRISTOPHER     1.0  1.000000  \n",
       "2              JUDITH     1.0  1.000000  \n",
       "3               JAMES     1.0  1.000000  \n",
       "4                   G     1.0  0.714286  "
      ]
     },
     "execution_count": 21,
     "metadata": {},
     "output_type": "execute_result"
    }
   ],
   "source": [
    "display = ['member_last_name_x','member_last_name_y', 'member_first_name_x','member_first_name_y', 'score1', 'score2']\n",
    "CT_mrg02[display].head()"
   ]
  },
  {
   "cell_type": "markdown",
   "metadata": {},
   "source": [
    "The above example shows that the Jaro-Winkler similarity between \"Georgia\" and \"G\" is only 0.714286, \n",
    "<br>\n",
    "But \"Georgia\" and \"G\" may highly possible to be the first name of the same person, so we may consider\n",
    "<br>\n",
    "to introduce the the concept of \"contains\" into the combo criterion."
   ]
  },
  {
   "cell_type": "code",
   "execution_count": 22,
   "metadata": {
    "collapsed": false
   },
   "outputs": [
    {
     "data": {
      "text/html": [
       "<div>\n",
       "<style scoped>\n",
       "    .dataframe tbody tr th:only-of-type {\n",
       "        vertical-align: middle;\n",
       "    }\n",
       "\n",
       "    .dataframe tbody tr th {\n",
       "        vertical-align: top;\n",
       "    }\n",
       "\n",
       "    .dataframe thead th {\n",
       "        text-align: right;\n",
       "    }\n",
       "</style>\n",
       "<table border=\"1\" class=\"dataframe\">\n",
       "  <thead>\n",
       "    <tr style=\"text-align: right;\">\n",
       "      <th></th>\n",
       "      <th>member_last_name_x</th>\n",
       "      <th>member_last_name_y</th>\n",
       "      <th>member_first_name_x</th>\n",
       "      <th>member_first_name_y</th>\n",
       "      <th>score1</th>\n",
       "      <th>score2</th>\n",
       "    </tr>\n",
       "  </thead>\n",
       "  <tbody>\n",
       "    <tr>\n",
       "      <th>128180</th>\n",
       "      <td>PUCKHABER</td>\n",
       "      <td>PUCKHABER</td>\n",
       "      <td>JULIE</td>\n",
       "      <td>JULIE</td>\n",
       "      <td>1.0</td>\n",
       "      <td>1.000000</td>\n",
       "    </tr>\n",
       "    <tr>\n",
       "      <th>128181</th>\n",
       "      <td>PUCKHABER</td>\n",
       "      <td>PUCKHABER</td>\n",
       "      <td>JULIE</td>\n",
       "      <td>JULIE</td>\n",
       "      <td>1.0</td>\n",
       "      <td>1.000000</td>\n",
       "    </tr>\n",
       "    <tr>\n",
       "      <th>128182</th>\n",
       "      <td>MAURIZ</td>\n",
       "      <td>MAURIZ</td>\n",
       "      <td>GERARDO</td>\n",
       "      <td>GERARDO</td>\n",
       "      <td>1.0</td>\n",
       "      <td>1.000000</td>\n",
       "    </tr>\n",
       "    <tr>\n",
       "      <th>128183</th>\n",
       "      <td>HOWARD</td>\n",
       "      <td>HOWARD</td>\n",
       "      <td>MARGIE</td>\n",
       "      <td>MARGIE</td>\n",
       "      <td>1.0</td>\n",
       "      <td>1.000000</td>\n",
       "    </tr>\n",
       "    <tr>\n",
       "      <th>128184</th>\n",
       "      <td>HOWARD</td>\n",
       "      <td>HOWARD</td>\n",
       "      <td>MARGIE</td>\n",
       "      <td>MARGIE</td>\n",
       "      <td>1.0</td>\n",
       "      <td>1.000000</td>\n",
       "    </tr>\n",
       "    <tr>\n",
       "      <th>128185</th>\n",
       "      <td>IANELLI</td>\n",
       "      <td>IANELLI</td>\n",
       "      <td>NICHOLAS</td>\n",
       "      <td>nan</td>\n",
       "      <td>1.0</td>\n",
       "      <td>0.000000</td>\n",
       "    </tr>\n",
       "    <tr>\n",
       "      <th>128186</th>\n",
       "      <td>BUTTRAM</td>\n",
       "      <td>BUTTRAM</td>\n",
       "      <td>BARRIE</td>\n",
       "      <td>BARRY</td>\n",
       "      <td>1.0</td>\n",
       "      <td>0.893333</td>\n",
       "    </tr>\n",
       "    <tr>\n",
       "      <th>128187</th>\n",
       "      <td>BUTTRAM</td>\n",
       "      <td>BUTTRAM</td>\n",
       "      <td>BARRIE</td>\n",
       "      <td>BARRY</td>\n",
       "      <td>1.0</td>\n",
       "      <td>0.893333</td>\n",
       "    </tr>\n",
       "    <tr>\n",
       "      <th>128188</th>\n",
       "      <td>ICANBERRY</td>\n",
       "      <td>ICANBERRY</td>\n",
       "      <td>JESSE</td>\n",
       "      <td>JESSE</td>\n",
       "      <td>1.0</td>\n",
       "      <td>1.000000</td>\n",
       "    </tr>\n",
       "  </tbody>\n",
       "</table>\n",
       "</div>"
      ],
      "text/plain": [
       "       member_last_name_x member_last_name_y member_first_name_x  \\\n",
       "128180          PUCKHABER          PUCKHABER               JULIE   \n",
       "128181          PUCKHABER          PUCKHABER               JULIE   \n",
       "128182             MAURIZ             MAURIZ             GERARDO   \n",
       "128183             HOWARD             HOWARD              MARGIE   \n",
       "128184             HOWARD             HOWARD              MARGIE   \n",
       "128185            IANELLI            IANELLI            NICHOLAS   \n",
       "128186            BUTTRAM            BUTTRAM              BARRIE   \n",
       "128187            BUTTRAM            BUTTRAM              BARRIE   \n",
       "128188          ICANBERRY          ICANBERRY               JESSE   \n",
       "\n",
       "       member_first_name_y  score1    score2  \n",
       "128180               JULIE     1.0  1.000000  \n",
       "128181               JULIE     1.0  1.000000  \n",
       "128182             GERARDO     1.0  1.000000  \n",
       "128183              MARGIE     1.0  1.000000  \n",
       "128184              MARGIE     1.0  1.000000  \n",
       "128185                 nan     1.0  0.000000  \n",
       "128186               BARRY     1.0  0.893333  \n",
       "128187               BARRY     1.0  0.893333  \n",
       "128188               JESSE     1.0  1.000000  "
      ]
     },
     "execution_count": 22,
     "metadata": {},
     "output_type": "execute_result"
    }
   ],
   "source": [
    "CT_mrg02[display]._slice(slice(128180,128189))"
   ]
  },
  {
   "cell_type": "markdown",
   "metadata": {},
   "source": [
    "\"BARRIE\" vs \"BARRY\" : 0.893333, hmmmmmmmm...... interesting!"
   ]
  },
  {
   "cell_type": "code",
   "execution_count": 23,
   "metadata": {
    "collapsed": false
   },
   "outputs": [
    {
     "name": "stderr",
     "output_type": "stream",
     "text": [
      "/opt/mapr/tools/python/anaconda3/lib/python3.5/site-packages/ipykernel/__main__.py:3: UserWarning: Boolean Series key will be reindexed to match DataFrame index.\n",
      "  app.launch_new_instance()\n"
     ]
    },
    {
     "data": {
      "text/html": [
       "<div>\n",
       "<style scoped>\n",
       "    .dataframe tbody tr th:only-of-type {\n",
       "        vertical-align: middle;\n",
       "    }\n",
       "\n",
       "    .dataframe tbody tr th {\n",
       "        vertical-align: top;\n",
       "    }\n",
       "\n",
       "    .dataframe thead th {\n",
       "        text-align: right;\n",
       "    }\n",
       "</style>\n",
       "<table border=\"1\" class=\"dataframe\">\n",
       "  <thead>\n",
       "    <tr style=\"text-align: right;\">\n",
       "      <th></th>\n",
       "      <th>member_last_name_x</th>\n",
       "      <th>member_last_name_y</th>\n",
       "      <th>member_first_name_x</th>\n",
       "      <th>member_first_name_y</th>\n",
       "      <th>score1</th>\n",
       "      <th>score2</th>\n",
       "    </tr>\n",
       "  </thead>\n",
       "  <tbody>\n",
       "    <tr>\n",
       "      <th>200491</th>\n",
       "      <td>BETANCOURT</td>\n",
       "      <td>BENTACOURT</td>\n",
       "      <td>ALEXANDRA</td>\n",
       "      <td>ALEXANDRA</td>\n",
       "      <td>0.960000</td>\n",
       "      <td>1.0</td>\n",
       "    </tr>\n",
       "    <tr>\n",
       "      <th>17113</th>\n",
       "      <td>TREJO MICHAELANGEL</td>\n",
       "      <td>TREJO MICHELANGELI</td>\n",
       "      <td>ANDREINA</td>\n",
       "      <td>ANDREINA</td>\n",
       "      <td>0.960131</td>\n",
       "      <td>1.0</td>\n",
       "    </tr>\n",
       "    <tr>\n",
       "      <th>214323</th>\n",
       "      <td>SIMS PERKINS</td>\n",
       "      <td>SIMO PERKINS</td>\n",
       "      <td>CARMEN</td>\n",
       "      <td>CARMEN</td>\n",
       "      <td>0.961111</td>\n",
       "      <td>1.0</td>\n",
       "    </tr>\n",
       "    <tr>\n",
       "      <th>181696</th>\n",
       "      <td>DIXON</td>\n",
       "      <td>DIXSON</td>\n",
       "      <td>DOROTHY</td>\n",
       "      <td>DOROTHY</td>\n",
       "      <td>0.961111</td>\n",
       "      <td>1.0</td>\n",
       "    </tr>\n",
       "    <tr>\n",
       "      <th>190495</th>\n",
       "      <td>LAJOUD</td>\n",
       "      <td>LAJUD</td>\n",
       "      <td>JORGE</td>\n",
       "      <td>JORGE</td>\n",
       "      <td>0.961111</td>\n",
       "      <td>1.0</td>\n",
       "    </tr>\n",
       "    <tr>\n",
       "      <th>14545</th>\n",
       "      <td>DVOARK</td>\n",
       "      <td>DVORAK</td>\n",
       "      <td>BLAKE</td>\n",
       "      <td>BLAKE</td>\n",
       "      <td>0.961111</td>\n",
       "      <td>1.0</td>\n",
       "    </tr>\n",
       "    <tr>\n",
       "      <th>26147</th>\n",
       "      <td>SINTEK</td>\n",
       "      <td>SINEK</td>\n",
       "      <td>BRITTANY</td>\n",
       "      <td>BRITTANY</td>\n",
       "      <td>0.961111</td>\n",
       "      <td>1.0</td>\n",
       "    </tr>\n",
       "    <tr>\n",
       "      <th>26146</th>\n",
       "      <td>SINTEK</td>\n",
       "      <td>SINEK</td>\n",
       "      <td>BRITTANY</td>\n",
       "      <td>BRITTANY</td>\n",
       "      <td>0.961111</td>\n",
       "      <td>1.0</td>\n",
       "    </tr>\n",
       "    <tr>\n",
       "      <th>26145</th>\n",
       "      <td>SINTEK</td>\n",
       "      <td>SINEK</td>\n",
       "      <td>BRITTANY</td>\n",
       "      <td>BRITTANY</td>\n",
       "      <td>0.961111</td>\n",
       "      <td>1.0</td>\n",
       "    </tr>\n",
       "    <tr>\n",
       "      <th>26144</th>\n",
       "      <td>SINTEK</td>\n",
       "      <td>SINEK</td>\n",
       "      <td>BRITTANY</td>\n",
       "      <td>BRITTANY</td>\n",
       "      <td>0.961111</td>\n",
       "      <td>1.0</td>\n",
       "    </tr>\n",
       "    <tr>\n",
       "      <th>183553</th>\n",
       "      <td>WILLEY</td>\n",
       "      <td>WILEY</td>\n",
       "      <td>JANE</td>\n",
       "      <td>JANE</td>\n",
       "      <td>0.961111</td>\n",
       "      <td>1.0</td>\n",
       "    </tr>\n",
       "    <tr>\n",
       "      <th>134009</th>\n",
       "      <td>FINELY</td>\n",
       "      <td>FINLEY</td>\n",
       "      <td>KEVIN</td>\n",
       "      <td>KEVIN</td>\n",
       "      <td>0.961111</td>\n",
       "      <td>1.0</td>\n",
       "    </tr>\n",
       "    <tr>\n",
       "      <th>82493</th>\n",
       "      <td>GARICA</td>\n",
       "      <td>GARCIA</td>\n",
       "      <td>MARIADOLOR</td>\n",
       "      <td>MARIA</td>\n",
       "      <td>0.961111</td>\n",
       "      <td>0.9</td>\n",
       "    </tr>\n",
       "    <tr>\n",
       "      <th>81580</th>\n",
       "      <td>GARICA</td>\n",
       "      <td>GARCIA</td>\n",
       "      <td>ALEXIS</td>\n",
       "      <td>ALEXIS</td>\n",
       "      <td>0.961111</td>\n",
       "      <td>1.0</td>\n",
       "    </tr>\n",
       "    <tr>\n",
       "      <th>5828</th>\n",
       "      <td>VANEE</td>\n",
       "      <td>VAN EE</td>\n",
       "      <td>TERRENCE</td>\n",
       "      <td>TERRENCE</td>\n",
       "      <td>0.961111</td>\n",
       "      <td>1.0</td>\n",
       "    </tr>\n",
       "    <tr>\n",
       "      <th>190496</th>\n",
       "      <td>LAJOUD</td>\n",
       "      <td>LAJUD</td>\n",
       "      <td>JORGE</td>\n",
       "      <td>JORGE</td>\n",
       "      <td>0.961111</td>\n",
       "      <td>1.0</td>\n",
       "    </tr>\n",
       "    <tr>\n",
       "      <th>13948</th>\n",
       "      <td>BOWLES</td>\n",
       "      <td>BOWELS</td>\n",
       "      <td>JOLINE</td>\n",
       "      <td>JOLINE</td>\n",
       "      <td>0.961111</td>\n",
       "      <td>1.0</td>\n",
       "    </tr>\n",
       "    <tr>\n",
       "      <th>141629</th>\n",
       "      <td>HARRIS</td>\n",
       "      <td>HARIS</td>\n",
       "      <td>ETHAN</td>\n",
       "      <td>ETHAN</td>\n",
       "      <td>0.961111</td>\n",
       "      <td>1.0</td>\n",
       "    </tr>\n",
       "    <tr>\n",
       "      <th>62718</th>\n",
       "      <td>VANDEVOORD</td>\n",
       "      <td>VAN DE VOORD</td>\n",
       "      <td>HEATH</td>\n",
       "      <td>HEATH</td>\n",
       "      <td>0.961111</td>\n",
       "      <td>1.0</td>\n",
       "    </tr>\n",
       "    <tr>\n",
       "      <th>63737</th>\n",
       "      <td>GOYTIA</td>\n",
       "      <td>GOYITA</td>\n",
       "      <td>ENRIQUE</td>\n",
       "      <td>ENRIQUE</td>\n",
       "      <td>0.961111</td>\n",
       "      <td>1.0</td>\n",
       "    </tr>\n",
       "  </tbody>\n",
       "</table>\n",
       "</div>"
      ],
      "text/plain": [
       "        member_last_name_x  member_last_name_y member_first_name_x  \\\n",
       "200491          BETANCOURT          BENTACOURT           ALEXANDRA   \n",
       "17113   TREJO MICHAELANGEL  TREJO MICHELANGELI            ANDREINA   \n",
       "214323        SIMS PERKINS        SIMO PERKINS              CARMEN   \n",
       "181696               DIXON              DIXSON             DOROTHY   \n",
       "190495              LAJOUD               LAJUD               JORGE   \n",
       "14545               DVOARK              DVORAK               BLAKE   \n",
       "26147               SINTEK               SINEK            BRITTANY   \n",
       "26146               SINTEK               SINEK            BRITTANY   \n",
       "26145               SINTEK               SINEK            BRITTANY   \n",
       "26144               SINTEK               SINEK            BRITTANY   \n",
       "183553              WILLEY               WILEY                JANE   \n",
       "134009              FINELY              FINLEY               KEVIN   \n",
       "82493               GARICA              GARCIA          MARIADOLOR   \n",
       "81580               GARICA              GARCIA              ALEXIS   \n",
       "5828                 VANEE              VAN EE            TERRENCE   \n",
       "190496              LAJOUD               LAJUD               JORGE   \n",
       "13948               BOWLES              BOWELS              JOLINE   \n",
       "141629              HARRIS               HARIS               ETHAN   \n",
       "62718           VANDEVOORD        VAN DE VOORD               HEATH   \n",
       "63737               GOYTIA              GOYITA             ENRIQUE   \n",
       "\n",
       "       member_first_name_y    score1  score2  \n",
       "200491           ALEXANDRA  0.960000     1.0  \n",
       "17113             ANDREINA  0.960131     1.0  \n",
       "214323              CARMEN  0.961111     1.0  \n",
       "181696             DOROTHY  0.961111     1.0  \n",
       "190495               JORGE  0.961111     1.0  \n",
       "14545                BLAKE  0.961111     1.0  \n",
       "26147             BRITTANY  0.961111     1.0  \n",
       "26146             BRITTANY  0.961111     1.0  \n",
       "26145             BRITTANY  0.961111     1.0  \n",
       "26144             BRITTANY  0.961111     1.0  \n",
       "183553                JANE  0.961111     1.0  \n",
       "134009               KEVIN  0.961111     1.0  \n",
       "82493                MARIA  0.961111     0.9  \n",
       "81580               ALEXIS  0.961111     1.0  \n",
       "5828              TERRENCE  0.961111     1.0  \n",
       "190496               JORGE  0.961111     1.0  \n",
       "13948               JOLINE  0.961111     1.0  \n",
       "141629               ETHAN  0.961111     1.0  \n",
       "62718                HEATH  0.961111     1.0  \n",
       "63737              ENRIQUE  0.961111     1.0  "
      ]
     },
     "execution_count": 23,
     "metadata": {},
     "output_type": "execute_result"
    }
   ],
   "source": [
    "# Let us filter for some cases that we may be more interested in generally\n",
    "\n",
    "CT_mrg02[CT_mrg02.score1 > 0.96][CT_mrg02.score1 <1][display].sort_values('score1', ascending = True).head(20)"
   ]
  },
  {
   "cell_type": "code",
   "execution_count": 25,
   "metadata": {
    "collapsed": false
   },
   "outputs": [
    {
     "name": "stderr",
     "output_type": "stream",
     "text": [
      "/opt/mapr/tools/python/anaconda3/lib/python3.5/site-packages/ipykernel/__main__.py:1: UserWarning: Boolean Series key will be reindexed to match DataFrame index.\n",
      "  if __name__ == '__main__':\n"
     ]
    },
    {
     "data": {
      "text/html": [
       "<div>\n",
       "<style scoped>\n",
       "    .dataframe tbody tr th:only-of-type {\n",
       "        vertical-align: middle;\n",
       "    }\n",
       "\n",
       "    .dataframe tbody tr th {\n",
       "        vertical-align: top;\n",
       "    }\n",
       "\n",
       "    .dataframe thead th {\n",
       "        text-align: right;\n",
       "    }\n",
       "</style>\n",
       "<table border=\"1\" class=\"dataframe\">\n",
       "  <thead>\n",
       "    <tr style=\"text-align: right;\">\n",
       "      <th></th>\n",
       "      <th>member_last_name_x</th>\n",
       "      <th>member_last_name_y</th>\n",
       "      <th>member_first_name_x</th>\n",
       "      <th>member_first_name_y</th>\n",
       "      <th>score1</th>\n",
       "      <th>score2</th>\n",
       "    </tr>\n",
       "  </thead>\n",
       "  <tbody>\n",
       "    <tr>\n",
       "      <th>80535</th>\n",
       "      <td>GOODLOE</td>\n",
       "      <td>GOODLOE</td>\n",
       "      <td>ABA-NYAMEKYE</td>\n",
       "      <td>ABA NYAMEKYE</td>\n",
       "      <td>1.000000</td>\n",
       "      <td>0.961111</td>\n",
       "    </tr>\n",
       "    <tr>\n",
       "      <th>209213</th>\n",
       "      <td>VILLASOSA</td>\n",
       "      <td>VILLASOSA</td>\n",
       "      <td>ABBIS</td>\n",
       "      <td>ABBLIS</td>\n",
       "      <td>1.000000</td>\n",
       "      <td>0.961111</td>\n",
       "    </tr>\n",
       "    <tr>\n",
       "      <th>206983</th>\n",
       "      <td>WELLNER</td>\n",
       "      <td>WELLNER</td>\n",
       "      <td>MEGHAN</td>\n",
       "      <td>MEGAN</td>\n",
       "      <td>1.000000</td>\n",
       "      <td>0.961111</td>\n",
       "    </tr>\n",
       "    <tr>\n",
       "      <th>173256</th>\n",
       "      <td>JOSEPH</td>\n",
       "      <td>JOSEPH</td>\n",
       "      <td>VENGDY</td>\n",
       "      <td>VENDGY</td>\n",
       "      <td>1.000000</td>\n",
       "      <td>0.961111</td>\n",
       "    </tr>\n",
       "    <tr>\n",
       "      <th>88069</th>\n",
       "      <td>MACK</td>\n",
       "      <td>MACK</td>\n",
       "      <td>LOUISE</td>\n",
       "      <td>LOUSIE</td>\n",
       "      <td>1.000000</td>\n",
       "      <td>0.961111</td>\n",
       "    </tr>\n",
       "    <tr>\n",
       "      <th>88070</th>\n",
       "      <td>MACK</td>\n",
       "      <td>MACK</td>\n",
       "      <td>LOUISE</td>\n",
       "      <td>LOUSIE</td>\n",
       "      <td>1.000000</td>\n",
       "      <td>0.961111</td>\n",
       "    </tr>\n",
       "    <tr>\n",
       "      <th>175683</th>\n",
       "      <td>HAMPTON</td>\n",
       "      <td>HAMPTON</td>\n",
       "      <td>SHELIA</td>\n",
       "      <td>SHEILA</td>\n",
       "      <td>1.000000</td>\n",
       "      <td>0.961111</td>\n",
       "    </tr>\n",
       "    <tr>\n",
       "      <th>189721</th>\n",
       "      <td>MOREJON</td>\n",
       "      <td>MOREJON</td>\n",
       "      <td>MARCIA</td>\n",
       "      <td>MARIA</td>\n",
       "      <td>1.000000</td>\n",
       "      <td>0.961111</td>\n",
       "    </tr>\n",
       "    <tr>\n",
       "      <th>47767</th>\n",
       "      <td>WILLIAMS</td>\n",
       "      <td>WILLIAMS</td>\n",
       "      <td>JASYLN</td>\n",
       "      <td>JASLYN</td>\n",
       "      <td>1.000000</td>\n",
       "      <td>0.961111</td>\n",
       "    </tr>\n",
       "    <tr>\n",
       "      <th>188439</th>\n",
       "      <td>MANN</td>\n",
       "      <td>MANN</td>\n",
       "      <td>JACLYN</td>\n",
       "      <td>JACYN</td>\n",
       "      <td>1.000000</td>\n",
       "      <td>0.961111</td>\n",
       "    </tr>\n",
       "    <tr>\n",
       "      <th>69264</th>\n",
       "      <td>MORGAN HAWLE</td>\n",
       "      <td>MORGAN-HAWLEY</td>\n",
       "      <td>ONEDIA</td>\n",
       "      <td>ONEIDA</td>\n",
       "      <td>0.952564</td>\n",
       "      <td>0.961111</td>\n",
       "    </tr>\n",
       "    <tr>\n",
       "      <th>18588</th>\n",
       "      <td>AGUIAR CHORRO</td>\n",
       "      <td>AGUIAR</td>\n",
       "      <td>ANGEL</td>\n",
       "      <td>ANGUEL</td>\n",
       "      <td>0.892308</td>\n",
       "      <td>0.961111</td>\n",
       "    </tr>\n",
       "    <tr>\n",
       "      <th>148382</th>\n",
       "      <td>HEDRICK</td>\n",
       "      <td>HEDRICK</td>\n",
       "      <td>SHEILA</td>\n",
       "      <td>SHELIA</td>\n",
       "      <td>1.000000</td>\n",
       "      <td>0.961111</td>\n",
       "    </tr>\n",
       "    <tr>\n",
       "      <th>177929</th>\n",
       "      <td>HEINEY</td>\n",
       "      <td>HEINEY</td>\n",
       "      <td>NATHAN</td>\n",
       "      <td>NATAN</td>\n",
       "      <td>1.000000</td>\n",
       "      <td>0.961111</td>\n",
       "    </tr>\n",
       "    <tr>\n",
       "      <th>31192</th>\n",
       "      <td>CHEN</td>\n",
       "      <td>CHEN</td>\n",
       "      <td>HUIYI</td>\n",
       "      <td>HUI YI</td>\n",
       "      <td>1.000000</td>\n",
       "      <td>0.961111</td>\n",
       "    </tr>\n",
       "    <tr>\n",
       "      <th>178600</th>\n",
       "      <td>WILLIFORD</td>\n",
       "      <td>WILLIFORD</td>\n",
       "      <td>ASHLYN</td>\n",
       "      <td>ASHYLN</td>\n",
       "      <td>1.000000</td>\n",
       "      <td>0.961111</td>\n",
       "    </tr>\n",
       "    <tr>\n",
       "      <th>87159</th>\n",
       "      <td>LUCKEY</td>\n",
       "      <td>LUCKEY</td>\n",
       "      <td>ASHELY</td>\n",
       "      <td>ASHLEY</td>\n",
       "      <td>1.000000</td>\n",
       "      <td>0.961111</td>\n",
       "    </tr>\n",
       "    <tr>\n",
       "      <th>87158</th>\n",
       "      <td>LUCKEY</td>\n",
       "      <td>LUCKEY</td>\n",
       "      <td>ASHELY</td>\n",
       "      <td>ASHLEY</td>\n",
       "      <td>1.000000</td>\n",
       "      <td>0.961111</td>\n",
       "    </tr>\n",
       "    <tr>\n",
       "      <th>157596</th>\n",
       "      <td>ROBLESIV</td>\n",
       "      <td>ROBLES</td>\n",
       "      <td>MIGUEL</td>\n",
       "      <td>MIGEL</td>\n",
       "      <td>0.950000</td>\n",
       "      <td>0.961111</td>\n",
       "    </tr>\n",
       "    <tr>\n",
       "      <th>196050</th>\n",
       "      <td>SANOK</td>\n",
       "      <td>SANOK</td>\n",
       "      <td>JUDITH</td>\n",
       "      <td>JUDTIH</td>\n",
       "      <td>1.000000</td>\n",
       "      <td>0.961111</td>\n",
       "    </tr>\n",
       "  </tbody>\n",
       "</table>\n",
       "</div>"
      ],
      "text/plain": [
       "       member_last_name_x member_last_name_y member_first_name_x  \\\n",
       "80535             GOODLOE            GOODLOE        ABA-NYAMEKYE   \n",
       "209213          VILLASOSA          VILLASOSA               ABBIS   \n",
       "206983            WELLNER            WELLNER              MEGHAN   \n",
       "173256             JOSEPH             JOSEPH              VENGDY   \n",
       "88069                MACK               MACK              LOUISE   \n",
       "88070                MACK               MACK              LOUISE   \n",
       "175683            HAMPTON            HAMPTON              SHELIA   \n",
       "189721            MOREJON            MOREJON              MARCIA   \n",
       "47767            WILLIAMS           WILLIAMS              JASYLN   \n",
       "188439               MANN               MANN              JACLYN   \n",
       "69264        MORGAN HAWLE      MORGAN-HAWLEY              ONEDIA   \n",
       "18588       AGUIAR CHORRO             AGUIAR               ANGEL   \n",
       "148382            HEDRICK            HEDRICK              SHEILA   \n",
       "177929             HEINEY             HEINEY              NATHAN   \n",
       "31192                CHEN               CHEN               HUIYI   \n",
       "178600          WILLIFORD          WILLIFORD              ASHLYN   \n",
       "87159              LUCKEY             LUCKEY              ASHELY   \n",
       "87158              LUCKEY             LUCKEY              ASHELY   \n",
       "157596           ROBLESIV             ROBLES              MIGUEL   \n",
       "196050              SANOK              SANOK              JUDITH   \n",
       "\n",
       "       member_first_name_y    score1    score2  \n",
       "80535         ABA NYAMEKYE  1.000000  0.961111  \n",
       "209213              ABBLIS  1.000000  0.961111  \n",
       "206983               MEGAN  1.000000  0.961111  \n",
       "173256              VENDGY  1.000000  0.961111  \n",
       "88069               LOUSIE  1.000000  0.961111  \n",
       "88070               LOUSIE  1.000000  0.961111  \n",
       "175683              SHEILA  1.000000  0.961111  \n",
       "189721               MARIA  1.000000  0.961111  \n",
       "47767               JASLYN  1.000000  0.961111  \n",
       "188439               JACYN  1.000000  0.961111  \n",
       "69264               ONEIDA  0.952564  0.961111  \n",
       "18588               ANGUEL  0.892308  0.961111  \n",
       "148382              SHELIA  1.000000  0.961111  \n",
       "177929               NATAN  1.000000  0.961111  \n",
       "31192               HUI YI  1.000000  0.961111  \n",
       "178600              ASHYLN  1.000000  0.961111  \n",
       "87159               ASHLEY  1.000000  0.961111  \n",
       "87158               ASHLEY  1.000000  0.961111  \n",
       "157596               MIGEL  0.950000  0.961111  \n",
       "196050              JUDTIH  1.000000  0.961111  "
      ]
     },
     "execution_count": 25,
     "metadata": {},
     "output_type": "execute_result"
    }
   ],
   "source": [
    "CT_mrg02[CT_mrg02.score2 > 0.96][CT_mrg02.score2 <1][display].sort_values('score2', ascending = True).head(20)"
   ]
  },
  {
   "cell_type": "code",
   "execution_count": 54,
   "metadata": {
    "collapsed": false
   },
   "outputs": [
    {
     "name": "stderr",
     "output_type": "stream",
     "text": [
      "/opt/mapr/tools/python/anaconda3/lib/python3.5/site-packages/ipykernel/__main__.py:3: UserWarning: Boolean Series key will be reindexed to match DataFrame index.\n",
      "  app.launch_new_instance()\n"
     ]
    },
    {
     "data": {
      "text/html": [
       "<div>\n",
       "<style scoped>\n",
       "    .dataframe tbody tr th:only-of-type {\n",
       "        vertical-align: middle;\n",
       "    }\n",
       "\n",
       "    .dataframe tbody tr th {\n",
       "        vertical-align: top;\n",
       "    }\n",
       "\n",
       "    .dataframe thead th {\n",
       "        text-align: right;\n",
       "    }\n",
       "</style>\n",
       "<table border=\"1\" class=\"dataframe\">\n",
       "  <thead>\n",
       "    <tr style=\"text-align: right;\">\n",
       "      <th></th>\n",
       "      <th>member_last_name_x</th>\n",
       "      <th>member_last_name_y</th>\n",
       "      <th>member_first_name_x</th>\n",
       "      <th>member_first_name_y</th>\n",
       "      <th>score1</th>\n",
       "      <th>score2</th>\n",
       "    </tr>\n",
       "  </thead>\n",
       "  <tbody>\n",
       "    <tr>\n",
       "      <th>146395</th>\n",
       "      <td>SCHLEHUBER</td>\n",
       "      <td>SCHILHUBER</td>\n",
       "      <td>CATHY</td>\n",
       "      <td>CATHY</td>\n",
       "      <td>0.901481</td>\n",
       "      <td>1.0</td>\n",
       "    </tr>\n",
       "    <tr>\n",
       "      <th>187546</th>\n",
       "      <td>DE-LA-MONTANYA</td>\n",
       "      <td>DE LA MONTANY</td>\n",
       "      <td>HILDA</td>\n",
       "      <td>HILDA</td>\n",
       "      <td>0.901832</td>\n",
       "      <td>1.0</td>\n",
       "    </tr>\n",
       "    <tr>\n",
       "      <th>187547</th>\n",
       "      <td>DE-LA-MONTANYA</td>\n",
       "      <td>DE LA MONTANY</td>\n",
       "      <td>HILDA</td>\n",
       "      <td>HILDA</td>\n",
       "      <td>0.901832</td>\n",
       "      <td>1.0</td>\n",
       "    </tr>\n",
       "    <tr>\n",
       "      <th>224233</th>\n",
       "      <td>ORTIZ</td>\n",
       "      <td>ORITIZ</td>\n",
       "      <td>GERALD</td>\n",
       "      <td>GERALD</td>\n",
       "      <td>0.902222</td>\n",
       "      <td>1.0</td>\n",
       "    </tr>\n",
       "    <tr>\n",
       "      <th>109674</th>\n",
       "      <td>REYES</td>\n",
       "      <td>REEYES</td>\n",
       "      <td>SUSAN</td>\n",
       "      <td>SUSAN</td>\n",
       "      <td>0.902222</td>\n",
       "      <td>1.0</td>\n",
       "    </tr>\n",
       "    <tr>\n",
       "      <th>169986</th>\n",
       "      <td>REYES</td>\n",
       "      <td>REEYES</td>\n",
       "      <td>SALVADOR</td>\n",
       "      <td>SALVADOR</td>\n",
       "      <td>0.902222</td>\n",
       "      <td>1.0</td>\n",
       "    </tr>\n",
       "    <tr>\n",
       "      <th>201078</th>\n",
       "      <td>RIVERAJR</td>\n",
       "      <td>RIVERA RICO</td>\n",
       "      <td>JOSE</td>\n",
       "      <td>JOSE</td>\n",
       "      <td>0.902273</td>\n",
       "      <td>1.0</td>\n",
       "    </tr>\n",
       "    <tr>\n",
       "      <th>64633</th>\n",
       "      <td>PYLATIUK</td>\n",
       "      <td>PLYLATILUK</td>\n",
       "      <td>GREG</td>\n",
       "      <td>GREG</td>\n",
       "      <td>0.902500</td>\n",
       "      <td>1.0</td>\n",
       "    </tr>\n",
       "    <tr>\n",
       "      <th>140058</th>\n",
       "      <td>VAUGHAN</td>\n",
       "      <td>VAUNGHAN</td>\n",
       "      <td>LARRY</td>\n",
       "      <td>LARRY</td>\n",
       "      <td>0.904167</td>\n",
       "      <td>1.0</td>\n",
       "    </tr>\n",
       "    <tr>\n",
       "      <th>206942</th>\n",
       "      <td>TILLMAN</td>\n",
       "      <td>PILLMAN</td>\n",
       "      <td>WILLIAM</td>\n",
       "      <td>WILLIAM</td>\n",
       "      <td>0.904762</td>\n",
       "      <td>1.0</td>\n",
       "    </tr>\n",
       "    <tr>\n",
       "      <th>220646</th>\n",
       "      <td>CONREAL</td>\n",
       "      <td>MONREAL</td>\n",
       "      <td>NANCY</td>\n",
       "      <td>NANCY</td>\n",
       "      <td>0.904762</td>\n",
       "      <td>1.0</td>\n",
       "    </tr>\n",
       "    <tr>\n",
       "      <th>151510</th>\n",
       "      <td>DREWMCCULLOUGH</td>\n",
       "      <td>MCCULLOUGH</td>\n",
       "      <td>CANDICE</td>\n",
       "      <td>CANDICE</td>\n",
       "      <td>0.904762</td>\n",
       "      <td>1.0</td>\n",
       "    </tr>\n",
       "    <tr>\n",
       "      <th>74015</th>\n",
       "      <td>HERNANDEZ SALAZAR</td>\n",
       "      <td>HERNANDEZ</td>\n",
       "      <td>MILTON</td>\n",
       "      <td>MILTON</td>\n",
       "      <td>0.905882</td>\n",
       "      <td>1.0</td>\n",
       "    </tr>\n",
       "    <tr>\n",
       "      <th>159829</th>\n",
       "      <td>RODRIGUEZ SANCHEZ</td>\n",
       "      <td>RODRIGUEZ</td>\n",
       "      <td>JONATHAN</td>\n",
       "      <td>JONATHAN</td>\n",
       "      <td>0.905882</td>\n",
       "      <td>1.0</td>\n",
       "    </tr>\n",
       "    <tr>\n",
       "      <th>76120</th>\n",
       "      <td>MATTIAUDA VAZQUEZ</td>\n",
       "      <td>MATTIAUDA</td>\n",
       "      <td>CAMILA</td>\n",
       "      <td>CAMILA</td>\n",
       "      <td>0.905882</td>\n",
       "      <td>1.0</td>\n",
       "    </tr>\n",
       "    <tr>\n",
       "      <th>117440</th>\n",
       "      <td>RODRIGUEZ RAMIREZ</td>\n",
       "      <td>RODRIGUEZ</td>\n",
       "      <td>JAVIER</td>\n",
       "      <td>JAVIER</td>\n",
       "      <td>0.905882</td>\n",
       "      <td>1.0</td>\n",
       "    </tr>\n",
       "    <tr>\n",
       "      <th>40122</th>\n",
       "      <td>FERNANDEZ VAZQUEZ</td>\n",
       "      <td>FERNANDEZ</td>\n",
       "      <td>JOSE</td>\n",
       "      <td>JOSE</td>\n",
       "      <td>0.905882</td>\n",
       "      <td>1.0</td>\n",
       "    </tr>\n",
       "    <tr>\n",
       "      <th>118984</th>\n",
       "      <td>RODRIGUEZ DEL REY</td>\n",
       "      <td>RODRIGUEZ</td>\n",
       "      <td>ALBERTO</td>\n",
       "      <td>ALBERTO</td>\n",
       "      <td>0.905882</td>\n",
       "      <td>1.0</td>\n",
       "    </tr>\n",
       "    <tr>\n",
       "      <th>44518</th>\n",
       "      <td>RODRIGUEZ BENITEZ</td>\n",
       "      <td>RODRIGUEZ</td>\n",
       "      <td>FRANCISCO</td>\n",
       "      <td>FRANCISCO</td>\n",
       "      <td>0.905882</td>\n",
       "      <td>1.0</td>\n",
       "    </tr>\n",
       "    <tr>\n",
       "      <th>40121</th>\n",
       "      <td>FERNANDEZ VAZQUEZ</td>\n",
       "      <td>FERNANDEZ</td>\n",
       "      <td>JOSE</td>\n",
       "      <td>JOSE</td>\n",
       "      <td>0.905882</td>\n",
       "      <td>1.0</td>\n",
       "    </tr>\n",
       "  </tbody>\n",
       "</table>\n",
       "</div>"
      ],
      "text/plain": [
       "       member_last_name_x member_last_name_y member_first_name_x  \\\n",
       "146395         SCHLEHUBER         SCHILHUBER               CATHY   \n",
       "187546     DE-LA-MONTANYA      DE LA MONTANY               HILDA   \n",
       "187547     DE-LA-MONTANYA      DE LA MONTANY               HILDA   \n",
       "224233              ORTIZ             ORITIZ              GERALD   \n",
       "109674              REYES             REEYES               SUSAN   \n",
       "169986              REYES             REEYES            SALVADOR   \n",
       "201078           RIVERAJR        RIVERA RICO                JOSE   \n",
       "64633            PYLATIUK         PLYLATILUK                GREG   \n",
       "140058            VAUGHAN           VAUNGHAN               LARRY   \n",
       "206942            TILLMAN            PILLMAN             WILLIAM   \n",
       "220646            CONREAL            MONREAL               NANCY   \n",
       "151510     DREWMCCULLOUGH         MCCULLOUGH             CANDICE   \n",
       "74015   HERNANDEZ SALAZAR          HERNANDEZ              MILTON   \n",
       "159829  RODRIGUEZ SANCHEZ          RODRIGUEZ            JONATHAN   \n",
       "76120   MATTIAUDA VAZQUEZ          MATTIAUDA              CAMILA   \n",
       "117440  RODRIGUEZ RAMIREZ          RODRIGUEZ              JAVIER   \n",
       "40122   FERNANDEZ VAZQUEZ          FERNANDEZ                JOSE   \n",
       "118984  RODRIGUEZ DEL REY          RODRIGUEZ             ALBERTO   \n",
       "44518   RODRIGUEZ BENITEZ          RODRIGUEZ           FRANCISCO   \n",
       "40121   FERNANDEZ VAZQUEZ          FERNANDEZ                JOSE   \n",
       "\n",
       "       member_first_name_y    score1  score2  \n",
       "146395               CATHY  0.901481     1.0  \n",
       "187546               HILDA  0.901832     1.0  \n",
       "187547               HILDA  0.901832     1.0  \n",
       "224233              GERALD  0.902222     1.0  \n",
       "109674               SUSAN  0.902222     1.0  \n",
       "169986            SALVADOR  0.902222     1.0  \n",
       "201078                JOSE  0.902273     1.0  \n",
       "64633                 GREG  0.902500     1.0  \n",
       "140058               LARRY  0.904167     1.0  \n",
       "206942             WILLIAM  0.904762     1.0  \n",
       "220646               NANCY  0.904762     1.0  \n",
       "151510             CANDICE  0.904762     1.0  \n",
       "74015               MILTON  0.905882     1.0  \n",
       "159829            JONATHAN  0.905882     1.0  \n",
       "76120               CAMILA  0.905882     1.0  \n",
       "117440              JAVIER  0.905882     1.0  \n",
       "40122                 JOSE  0.905882     1.0  \n",
       "118984             ALBERTO  0.905882     1.0  \n",
       "44518            FRANCISCO  0.905882     1.0  \n",
       "40121                 JOSE  0.905882     1.0  "
      ]
     },
     "execution_count": 54,
     "metadata": {},
     "output_type": "execute_result"
    }
   ],
   "source": [
    "# Let us filter for some cases that we may be more interested in generally\n",
    "\n",
    "CT_mrg02[CT_mrg02.score1 > 0.9][CT_mrg02.score1 <1][display].sort_values('score1', ascending = True).head(20)"
   ]
  },
  {
   "cell_type": "code",
   "execution_count": 55,
   "metadata": {
    "collapsed": false
   },
   "outputs": [
    {
     "name": "stderr",
     "output_type": "stream",
     "text": [
      "/opt/mapr/tools/python/anaconda3/lib/python3.5/site-packages/ipykernel/__main__.py:1: UserWarning: Boolean Series key will be reindexed to match DataFrame index.\n",
      "  if __name__ == '__main__':\n"
     ]
    },
    {
     "data": {
      "text/html": [
       "<div>\n",
       "<style scoped>\n",
       "    .dataframe tbody tr th:only-of-type {\n",
       "        vertical-align: middle;\n",
       "    }\n",
       "\n",
       "    .dataframe tbody tr th {\n",
       "        vertical-align: top;\n",
       "    }\n",
       "\n",
       "    .dataframe thead th {\n",
       "        text-align: right;\n",
       "    }\n",
       "</style>\n",
       "<table border=\"1\" class=\"dataframe\">\n",
       "  <thead>\n",
       "    <tr style=\"text-align: right;\">\n",
       "      <th></th>\n",
       "      <th>member_last_name_x</th>\n",
       "      <th>member_last_name_y</th>\n",
       "      <th>member_first_name_x</th>\n",
       "      <th>member_first_name_y</th>\n",
       "      <th>score1</th>\n",
       "      <th>score2</th>\n",
       "    </tr>\n",
       "  </thead>\n",
       "  <tbody>\n",
       "    <tr>\n",
       "      <th>26835</th>\n",
       "      <td>ANDREWS</td>\n",
       "      <td>ANDREWS</td>\n",
       "      <td>JULIE</td>\n",
       "      <td>JUILIE</td>\n",
       "      <td>1.0</td>\n",
       "      <td>0.902222</td>\n",
       "    </tr>\n",
       "    <tr>\n",
       "      <th>34179</th>\n",
       "      <td>BROWN</td>\n",
       "      <td>BROWN</td>\n",
       "      <td>WANY A</td>\n",
       "      <td>WAYNA</td>\n",
       "      <td>1.0</td>\n",
       "      <td>0.902222</td>\n",
       "    </tr>\n",
       "    <tr>\n",
       "      <th>26834</th>\n",
       "      <td>ANDREWS</td>\n",
       "      <td>ANDREWS</td>\n",
       "      <td>JULIE</td>\n",
       "      <td>JUILIE</td>\n",
       "      <td>1.0</td>\n",
       "      <td>0.902222</td>\n",
       "    </tr>\n",
       "    <tr>\n",
       "      <th>26833</th>\n",
       "      <td>ANDREWS</td>\n",
       "      <td>ANDREWS</td>\n",
       "      <td>JULIE</td>\n",
       "      <td>JUILIE</td>\n",
       "      <td>1.0</td>\n",
       "      <td>0.902222</td>\n",
       "    </tr>\n",
       "    <tr>\n",
       "      <th>59923</th>\n",
       "      <td>HOWARD</td>\n",
       "      <td>HOWARD</td>\n",
       "      <td>ISAIAH</td>\n",
       "      <td>ISIAH</td>\n",
       "      <td>1.0</td>\n",
       "      <td>0.902222</td>\n",
       "    </tr>\n",
       "    <tr>\n",
       "      <th>59924</th>\n",
       "      <td>HOWARD</td>\n",
       "      <td>HOWARD</td>\n",
       "      <td>ISAIAH</td>\n",
       "      <td>ISIAH</td>\n",
       "      <td>1.0</td>\n",
       "      <td>0.902222</td>\n",
       "    </tr>\n",
       "    <tr>\n",
       "      <th>21848</th>\n",
       "      <td>BISHOP</td>\n",
       "      <td>BISHOP</td>\n",
       "      <td>ISAIAH</td>\n",
       "      <td>ISIAH</td>\n",
       "      <td>1.0</td>\n",
       "      <td>0.902222</td>\n",
       "    </tr>\n",
       "    <tr>\n",
       "      <th>112735</th>\n",
       "      <td>ROBLIN</td>\n",
       "      <td>ROBLIN</td>\n",
       "      <td>MEAGAN</td>\n",
       "      <td>MEGAN</td>\n",
       "      <td>1.0</td>\n",
       "      <td>0.902222</td>\n",
       "    </tr>\n",
       "    <tr>\n",
       "      <th>112736</th>\n",
       "      <td>ROBLIN</td>\n",
       "      <td>ROBLIN</td>\n",
       "      <td>MEAGAN</td>\n",
       "      <td>MEGAN</td>\n",
       "      <td>1.0</td>\n",
       "      <td>0.902222</td>\n",
       "    </tr>\n",
       "    <tr>\n",
       "      <th>226797</th>\n",
       "      <td>PHAM</td>\n",
       "      <td>PHAM</td>\n",
       "      <td>QUOCANANTHO</td>\n",
       "      <td>QUOC ANH</td>\n",
       "      <td>1.0</td>\n",
       "      <td>0.902273</td>\n",
       "    </tr>\n",
       "    <tr>\n",
       "      <th>26974</th>\n",
       "      <td>VELASQUEZ</td>\n",
       "      <td>VELASQUEZ</td>\n",
       "      <td>NAVIDAD</td>\n",
       "      <td>NATIVIDAD</td>\n",
       "      <td>1.0</td>\n",
       "      <td>0.902646</td>\n",
       "    </tr>\n",
       "    <tr>\n",
       "      <th>39843</th>\n",
       "      <td>SHELLMAN</td>\n",
       "      <td>SHELLMAN</td>\n",
       "      <td>JOHNATHAN</td>\n",
       "      <td>JONATHAN</td>\n",
       "      <td>1.0</td>\n",
       "      <td>0.903704</td>\n",
       "    </tr>\n",
       "    <tr>\n",
       "      <th>176371</th>\n",
       "      <td>PORRO</td>\n",
       "      <td>PORRO</td>\n",
       "      <td>JONATHAN</td>\n",
       "      <td>JOHNATHAN</td>\n",
       "      <td>1.0</td>\n",
       "      <td>0.903704</td>\n",
       "    </tr>\n",
       "    <tr>\n",
       "      <th>176370</th>\n",
       "      <td>PORRO</td>\n",
       "      <td>PORRO</td>\n",
       "      <td>JONATHAN</td>\n",
       "      <td>JOHNATHAN</td>\n",
       "      <td>1.0</td>\n",
       "      <td>0.903704</td>\n",
       "    </tr>\n",
       "    <tr>\n",
       "      <th>139589</th>\n",
       "      <td>ANDERSON</td>\n",
       "      <td>ANDERSON</td>\n",
       "      <td>JONATHAN</td>\n",
       "      <td>JOHNATHAN</td>\n",
       "      <td>1.0</td>\n",
       "      <td>0.903704</td>\n",
       "    </tr>\n",
       "    <tr>\n",
       "      <th>58032</th>\n",
       "      <td>GIBSON</td>\n",
       "      <td>GIBSON</td>\n",
       "      <td>JONATHAN</td>\n",
       "      <td>JOHNATHAN</td>\n",
       "      <td>1.0</td>\n",
       "      <td>0.903704</td>\n",
       "    </tr>\n",
       "    <tr>\n",
       "      <th>118371</th>\n",
       "      <td>FINN</td>\n",
       "      <td>FINN</td>\n",
       "      <td>JONATHAN</td>\n",
       "      <td>JOHNATHAN</td>\n",
       "      <td>1.0</td>\n",
       "      <td>0.903704</td>\n",
       "    </tr>\n",
       "    <tr>\n",
       "      <th>114046</th>\n",
       "      <td>DAVIS</td>\n",
       "      <td>DAVIS</td>\n",
       "      <td>JONATHAN</td>\n",
       "      <td>JOHNATHAN</td>\n",
       "      <td>1.0</td>\n",
       "      <td>0.903704</td>\n",
       "    </tr>\n",
       "    <tr>\n",
       "      <th>130984</th>\n",
       "      <td>BIRCH</td>\n",
       "      <td>BIRCH</td>\n",
       "      <td>HEARTHER</td>\n",
       "      <td>HEATHER</td>\n",
       "      <td>1.0</td>\n",
       "      <td>0.904167</td>\n",
       "    </tr>\n",
       "    <tr>\n",
       "      <th>57222</th>\n",
       "      <td>ANDERSON</td>\n",
       "      <td>ANDERSON</td>\n",
       "      <td>BARABARA</td>\n",
       "      <td>BARBARA</td>\n",
       "      <td>1.0</td>\n",
       "      <td>0.904167</td>\n",
       "    </tr>\n",
       "  </tbody>\n",
       "</table>\n",
       "</div>"
      ],
      "text/plain": [
       "       member_last_name_x member_last_name_y member_first_name_x  \\\n",
       "26835             ANDREWS            ANDREWS               JULIE   \n",
       "34179               BROWN              BROWN              WANY A   \n",
       "26834             ANDREWS            ANDREWS               JULIE   \n",
       "26833             ANDREWS            ANDREWS               JULIE   \n",
       "59923              HOWARD             HOWARD              ISAIAH   \n",
       "59924              HOWARD             HOWARD              ISAIAH   \n",
       "21848              BISHOP             BISHOP              ISAIAH   \n",
       "112735             ROBLIN             ROBLIN              MEAGAN   \n",
       "112736             ROBLIN             ROBLIN              MEAGAN   \n",
       "226797               PHAM               PHAM         QUOCANANTHO   \n",
       "26974           VELASQUEZ          VELASQUEZ             NAVIDAD   \n",
       "39843            SHELLMAN           SHELLMAN           JOHNATHAN   \n",
       "176371              PORRO              PORRO            JONATHAN   \n",
       "176370              PORRO              PORRO            JONATHAN   \n",
       "139589           ANDERSON           ANDERSON            JONATHAN   \n",
       "58032              GIBSON             GIBSON            JONATHAN   \n",
       "118371               FINN               FINN            JONATHAN   \n",
       "114046              DAVIS              DAVIS            JONATHAN   \n",
       "130984              BIRCH              BIRCH            HEARTHER   \n",
       "57222            ANDERSON           ANDERSON            BARABARA   \n",
       "\n",
       "       member_first_name_y  score1    score2  \n",
       "26835               JUILIE     1.0  0.902222  \n",
       "34179                WAYNA     1.0  0.902222  \n",
       "26834               JUILIE     1.0  0.902222  \n",
       "26833               JUILIE     1.0  0.902222  \n",
       "59923                ISIAH     1.0  0.902222  \n",
       "59924                ISIAH     1.0  0.902222  \n",
       "21848                ISIAH     1.0  0.902222  \n",
       "112735               MEGAN     1.0  0.902222  \n",
       "112736               MEGAN     1.0  0.902222  \n",
       "226797            QUOC ANH     1.0  0.902273  \n",
       "26974            NATIVIDAD     1.0  0.902646  \n",
       "39843             JONATHAN     1.0  0.903704  \n",
       "176371           JOHNATHAN     1.0  0.903704  \n",
       "176370           JOHNATHAN     1.0  0.903704  \n",
       "139589           JOHNATHAN     1.0  0.903704  \n",
       "58032            JOHNATHAN     1.0  0.903704  \n",
       "118371           JOHNATHAN     1.0  0.903704  \n",
       "114046           JOHNATHAN     1.0  0.903704  \n",
       "130984             HEATHER     1.0  0.904167  \n",
       "57222              BARBARA     1.0  0.904167  "
      ]
     },
     "execution_count": 55,
     "metadata": {},
     "output_type": "execute_result"
    }
   ],
   "source": [
    "CT_mrg02[CT_mrg02.score2 > 0.9][CT_mrg02.score2 <1][display].sort_values('score2', ascending = True).head(20)"
   ]
  },
  {
   "cell_type": "markdown",
   "metadata": {},
   "source": [
    "## For each member of Tops, matching it with the cosmos members to see if there is the same member"
   ]
  },
  {
   "cell_type": "code",
   "execution_count": null,
   "metadata": {
    "collapsed": true
   },
   "outputs": [],
   "source": [
    "# We see NaN for index 128185; so we need to process all the columns that to be used in similarity calculation\n",
    "CT_mrg02['member_last_name_x'] = CT_mrg02.member_last_name_x.astype(str).apply(lambda x:str(x) if pd.notnull(x) else '')\n",
    "CT_mrg02['member_last_name_y'] = CT_mrg02.member_last_name_y.astype(str).apply(lambda x:str(x) if pd.notnull(x) else '')\n",
    "CT_mrg02['member_first_name_x'] = CT_mrg02.member_first_name_x.astype(str).apply(lambda x:str(x) if pd.notnull(x) else '')\n",
    "CT_mrg02['member_first_name_y'] = CT_mrg02.member_first_name_y.astype(str).apply(lambda x:str(x) if pd.notnull(x) else '')"
   ]
  },
  {
   "cell_type": "code",
   "execution_count": null,
   "metadata": {
    "collapsed": true
   },
   "outputs": [],
   "source": [
    "# Merge the tables on blocking keys\n",
    "\n",
    "CT_mrg02 = pd.merge(cosmos_mrg01, tops10_mrg01, left_on = ['zipcode', \\\n",
    "'social_security_number_hashed', 'mem_dob_hashed', 'snum'], right_on = ['zipcode', \\\n",
    "'social_security_number_hashed', 'mem_dob_hashed', 'snum'])"
   ]
  },
  {
   "cell_type": "code",
   "execution_count": 26,
   "metadata": {
    "collapsed": true
   },
   "outputs": [],
   "source": [
    "def clean_names(df_name):\n",
    "    df_name['member_last_name'] = df_name.member_last_name.astype(str).apply(lambda x:str(x) if pd.notnull(x) else '')\n",
    "    df_name['member_first_name'] = df_name.member_first_name.astype(str).apply(lambda x:str(x) if pd.notnull(x) else '')   "
   ]
  },
  {
   "cell_type": "code",
   "execution_count": 27,
   "metadata": {
    "collapsed": true
   },
   "outputs": [],
   "source": [
    "clean_names(cosmos_mrg01)"
   ]
  },
  {
   "cell_type": "code",
   "execution_count": 28,
   "metadata": {
    "collapsed": true
   },
   "outputs": [],
   "source": [
    "clean_names(tops10_mrg01)"
   ]
  },
  {
   "cell_type": "code",
   "execution_count": 29,
   "metadata": {
    "collapsed": false
   },
   "outputs": [
    {
     "data": {
      "text/html": [
       "<div>\n",
       "<style scoped>\n",
       "    .dataframe tbody tr th:only-of-type {\n",
       "        vertical-align: middle;\n",
       "    }\n",
       "\n",
       "    .dataframe tbody tr th {\n",
       "        vertical-align: top;\n",
       "    }\n",
       "\n",
       "    .dataframe thead th {\n",
       "        text-align: right;\n",
       "    }\n",
       "</style>\n",
       "<table border=\"1\" class=\"dataframe\">\n",
       "  <thead>\n",
       "    <tr style=\"text-align: right;\">\n",
       "      <th></th>\n",
       "      <th>social_security_number_hashed</th>\n",
       "      <th>mem_dob_hashed</th>\n",
       "      <th>member_last_name</th>\n",
       "      <th>member_first_name</th>\n",
       "      <th>zipcode</th>\n",
       "      <th>addr_line_1</th>\n",
       "      <th>snum</th>\n",
       "    </tr>\n",
       "  </thead>\n",
       "  <tbody>\n",
       "    <tr>\n",
       "      <th>0</th>\n",
       "      <td>e3b0c44298fc1c149afbf4c8996fb92427ae41e4649b93...</td>\n",
       "      <td>0411cc37aeec0bc88cfe76834320671932c40eeb0230e0...</td>\n",
       "      <td>RICHARDSON</td>\n",
       "      <td>DANNY</td>\n",
       "      <td>36617</td>\n",
       "      <td>760 mollie court</td>\n",
       "      <td>760</td>\n",
       "    </tr>\n",
       "    <tr>\n",
       "      <th>1</th>\n",
       "      <td>e3b0c44298fc1c149afbf4c8996fb92427ae41e4649b93...</td>\n",
       "      <td>8869b7bb249528e2ebb7ffc32563cf110661b44d01553f...</td>\n",
       "      <td>MCCLAIN</td>\n",
       "      <td>WILLIE</td>\n",
       "      <td>35208</td>\n",
       "      <td>1508 cullman ave</td>\n",
       "      <td>1508</td>\n",
       "    </tr>\n",
       "    <tr>\n",
       "      <th>2</th>\n",
       "      <td>e3b0c44298fc1c149afbf4c8996fb92427ae41e4649b93...</td>\n",
       "      <td>51fdf6d951baba49c81a74d6e92deaaf2dba676c405dde...</td>\n",
       "      <td>ROPER</td>\n",
       "      <td>ALBERT</td>\n",
       "      <td>36067</td>\n",
       "      <td>1816 buckeye drive</td>\n",
       "      <td>1816</td>\n",
       "    </tr>\n",
       "    <tr>\n",
       "      <th>3</th>\n",
       "      <td>e3b0c44298fc1c149afbf4c8996fb92427ae41e4649b93...</td>\n",
       "      <td>27de21fca3386878c880170adfb397069ea49f48d171ee...</td>\n",
       "      <td>SHAMBURGER</td>\n",
       "      <td>JOHN</td>\n",
       "      <td>36605</td>\n",
       "      <td>2056 height st</td>\n",
       "      <td>2056</td>\n",
       "    </tr>\n",
       "    <tr>\n",
       "      <th>4</th>\n",
       "      <td>e3b0c44298fc1c149afbf4c8996fb92427ae41e4649b93...</td>\n",
       "      <td>6b5a8ce077e17664730b5e010b320387783271fabfb0a0...</td>\n",
       "      <td>BATES</td>\n",
       "      <td>CLIFTON</td>\n",
       "      <td>36693</td>\n",
       "      <td>3012 blue ridge drive west</td>\n",
       "      <td>3012</td>\n",
       "    </tr>\n",
       "  </tbody>\n",
       "</table>\n",
       "</div>"
      ],
      "text/plain": [
       "                       social_security_number_hashed  \\\n",
       "0  e3b0c44298fc1c149afbf4c8996fb92427ae41e4649b93...   \n",
       "1  e3b0c44298fc1c149afbf4c8996fb92427ae41e4649b93...   \n",
       "2  e3b0c44298fc1c149afbf4c8996fb92427ae41e4649b93...   \n",
       "3  e3b0c44298fc1c149afbf4c8996fb92427ae41e4649b93...   \n",
       "4  e3b0c44298fc1c149afbf4c8996fb92427ae41e4649b93...   \n",
       "\n",
       "                                      mem_dob_hashed member_last_name  \\\n",
       "0  0411cc37aeec0bc88cfe76834320671932c40eeb0230e0...       RICHARDSON   \n",
       "1  8869b7bb249528e2ebb7ffc32563cf110661b44d01553f...          MCCLAIN   \n",
       "2  51fdf6d951baba49c81a74d6e92deaaf2dba676c405dde...            ROPER   \n",
       "3  27de21fca3386878c880170adfb397069ea49f48d171ee...       SHAMBURGER   \n",
       "4  6b5a8ce077e17664730b5e010b320387783271fabfb0a0...            BATES   \n",
       "\n",
       "  member_first_name zipcode                 addr_line_1  snum  \n",
       "0             DANNY   36617            760 mollie court   760  \n",
       "1            WILLIE   35208            1508 cullman ave  1508  \n",
       "2            ALBERT   36067          1816 buckeye drive  1816  \n",
       "3              JOHN   36605              2056 height st  2056  \n",
       "4           CLIFTON   36693  3012 blue ridge drive west  3012  "
      ]
     },
     "execution_count": 29,
     "metadata": {},
     "output_type": "execute_result"
    }
   ],
   "source": [
    "cosmos_mrg01.head()"
   ]
  },
  {
   "cell_type": "code",
   "execution_count": 30,
   "metadata": {
    "collapsed": false
   },
   "outputs": [
    {
     "data": {
      "text/html": [
       "<div>\n",
       "<style scoped>\n",
       "    .dataframe tbody tr th:only-of-type {\n",
       "        vertical-align: middle;\n",
       "    }\n",
       "\n",
       "    .dataframe tbody tr th {\n",
       "        vertical-align: top;\n",
       "    }\n",
       "\n",
       "    .dataframe thead th {\n",
       "        text-align: right;\n",
       "    }\n",
       "</style>\n",
       "<table border=\"1\" class=\"dataframe\">\n",
       "  <thead>\n",
       "    <tr style=\"text-align: right;\">\n",
       "      <th></th>\n",
       "      <th>social_security_number_hashed</th>\n",
       "      <th>mem_dob_hashed</th>\n",
       "      <th>member_last_name</th>\n",
       "      <th>member_first_name</th>\n",
       "      <th>zipcode</th>\n",
       "      <th>addr_line_1</th>\n",
       "      <th>snum</th>\n",
       "    </tr>\n",
       "  </thead>\n",
       "  <tbody>\n",
       "    <tr>\n",
       "      <th>0</th>\n",
       "      <td>552dc9e193e2982b016e0ada8321fa8b50c1923641836a...</td>\n",
       "      <td>32e2f6281b12f9fa438fffa47f6c3aca3fbb33b4019068...</td>\n",
       "      <td>BAIR</td>\n",
       "      <td>FORREST</td>\n",
       "      <td>21222</td>\n",
       "      <td>7629   old battle grove rd</td>\n",
       "      <td>7629</td>\n",
       "    </tr>\n",
       "    <tr>\n",
       "      <th>1</th>\n",
       "      <td>f120bb5698d520c5691b6d603a00bfd662d13bf177a045...</td>\n",
       "      <td>ca4acbd7623f3b24850cc4738b4926cb9e98d884f6d611...</td>\n",
       "      <td>HULGAN</td>\n",
       "      <td>BRENDA</td>\n",
       "      <td>30281</td>\n",
       "      <td>55 caroline dr</td>\n",
       "      <td>55</td>\n",
       "    </tr>\n",
       "    <tr>\n",
       "      <th>2</th>\n",
       "      <td>223c210772e65dd2fb0c83e17b360246ee4ea9c99f9da6...</td>\n",
       "      <td>ad2ac68775efad36b871dc10daa7e31f5a7e9686f28c41...</td>\n",
       "      <td>BUSBY</td>\n",
       "      <td>SHIRLEY</td>\n",
       "      <td>39440</td>\n",
       "      <td>15 shady oak rd</td>\n",
       "      <td>15</td>\n",
       "    </tr>\n",
       "    <tr>\n",
       "      <th>3</th>\n",
       "      <td>aec3aff464c8fee20ebcbd3fb362acd88cc67bd2281a1e...</td>\n",
       "      <td>404356c321bcf2569b642b553ac25668648771068577f2...</td>\n",
       "      <td>BIRKENESS</td>\n",
       "      <td>RICHARD</td>\n",
       "      <td>64068</td>\n",
       "      <td>17803 n.e. 89th street</td>\n",
       "      <td>17803</td>\n",
       "    </tr>\n",
       "    <tr>\n",
       "      <th>4</th>\n",
       "      <td>faa2f151591a8ceba7177092510f33488197aa9b16fe8d...</td>\n",
       "      <td>01611c51d8e9e36f35524403140115689b1e7dcd313092...</td>\n",
       "      <td>MCGEHAN</td>\n",
       "      <td>GREGORY</td>\n",
       "      <td>45066</td>\n",
       "      <td>420 thomas drive</td>\n",
       "      <td>420</td>\n",
       "    </tr>\n",
       "  </tbody>\n",
       "</table>\n",
       "</div>"
      ],
      "text/plain": [
       "                       social_security_number_hashed  \\\n",
       "0  552dc9e193e2982b016e0ada8321fa8b50c1923641836a...   \n",
       "1  f120bb5698d520c5691b6d603a00bfd662d13bf177a045...   \n",
       "2  223c210772e65dd2fb0c83e17b360246ee4ea9c99f9da6...   \n",
       "3  aec3aff464c8fee20ebcbd3fb362acd88cc67bd2281a1e...   \n",
       "4  faa2f151591a8ceba7177092510f33488197aa9b16fe8d...   \n",
       "\n",
       "                                      mem_dob_hashed member_last_name  \\\n",
       "0  32e2f6281b12f9fa438fffa47f6c3aca3fbb33b4019068...             BAIR   \n",
       "1  ca4acbd7623f3b24850cc4738b4926cb9e98d884f6d611...           HULGAN   \n",
       "2  ad2ac68775efad36b871dc10daa7e31f5a7e9686f28c41...            BUSBY   \n",
       "3  404356c321bcf2569b642b553ac25668648771068577f2...        BIRKENESS   \n",
       "4  01611c51d8e9e36f35524403140115689b1e7dcd313092...          MCGEHAN   \n",
       "\n",
       "  member_first_name zipcode                 addr_line_1   snum  \n",
       "0           FORREST   21222  7629   old battle grove rd   7629  \n",
       "1            BRENDA   30281              55 caroline dr     55  \n",
       "2           SHIRLEY   39440             15 shady oak rd     15  \n",
       "3           RICHARD   64068      17803 n.e. 89th street  17803  \n",
       "4           GREGORY   45066            420 thomas drive    420  "
      ]
     },
     "execution_count": 30,
     "metadata": {},
     "output_type": "execute_result"
    }
   ],
   "source": [
    "tops10_mrg01.head()"
   ]
  },
  {
   "cell_type": "code",
   "execution_count": 41,
   "metadata": {
    "collapsed": true
   },
   "outputs": [],
   "source": [
    "def criteron1(s1, s2):\n",
    "    if s1['social_security_number_hashed'] != s2['social_security_number_hashed']:\n",
    "        return False\n",
    "    if s1['mem_dob_hashed'] != s2['mem_dob_hashed']:\n",
    "        return False\n",
    "    \n",
    "    #ln_score = jf.jaro_winkler(s1['member_last_name'], s2['member_last_name'])\n",
    "    #fn_score = jf.jaro_winkler(s1['member_first_name'], s2['member_first_name'])\n",
    "    if jf.jaro_winkler(s1['member_last_name'], s2['member_last_name']) < 0.96:\n",
    "        return False\n",
    "    if jf.jaro_winkler(s1['member_first_name'], s2['member_first_name']) < 0.96:\n",
    "        return False\n",
    "    return True   "
   ]
  },
  {
   "cell_type": "code",
   "execution_count": 42,
   "metadata": {
    "collapsed": true
   },
   "outputs": [],
   "source": [
    "# will add one more parameter threshhold to make the current 0.96 coefficient tuneable\n",
    "def criteron2(s1, s2):\n",
    "    \n",
    "    if s1['mem_dob_hashed'] != s2['mem_dob_hashed']:\n",
    "        return False\n",
    "    \n",
    "    #ln_score = jf.jaro_winkler(s1['member_last_name'], s2['member_last_name'])\n",
    "    #fn_score = jf.jaro_winkler(s1['member_first_name'], s2['member_first_name'])\n",
    "    \n",
    "    if jf.jaro_winkler(s1['member_last_name'], s2['member_last_name']) < 0.96:\n",
    "        return False\n",
    "    if jf.jaro_winkler(s1['member_first_name'], s2['member_first_name']) < 0.96:\n",
    "        return False\n",
    "    \n",
    "    if s1['zipcode'] != s2['zipcode']:\n",
    "        return False\n",
    "    return True "
   ]
  },
  {
   "cell_type": "code",
   "execution_count": 39,
   "metadata": {
    "collapsed": false
   },
   "outputs": [
    {
     "data": {
      "text/plain": [
       "pandas.core.series.Series"
      ]
     },
     "execution_count": 39,
     "metadata": {},
     "output_type": "execute_result"
    }
   ],
   "source": [
    "type(tops10_mrg01.iloc[4])"
   ]
  },
  {
   "cell_type": "code",
   "execution_count": 45,
   "metadata": {
    "collapsed": false
   },
   "outputs": [
    {
     "name": "stdout",
     "output_type": "stream",
     "text": [
      "<class 'str'>\n",
      "<class 'str'>\n",
      "<class 'str'>\n",
      "<class 'str'>\n",
      "<class 'str'>\n",
      "<class 'str'>\n",
      "<class 'str'>\n"
     ]
    }
   ],
   "source": [
    "for sr2 in cosmos_mrg01.head():\n",
    "    print (type(sr2))"
   ]
  },
  {
   "cell_type": "code",
   "execution_count": null,
   "metadata": {
    "collapsed": false
   },
   "outputs": [
    {
     "name": "stdout",
     "output_type": "stream",
     "text": [
      "<class 'pandas.core.series.Series'>\n"
     ]
    }
   ],
   "source": [
    "all_match = {}\n",
    "for i in range(100):\n",
    "    list_match = []\n",
    "    sr1 = tops10_mrg01.iloc[i]\n",
    "    print (type(sr1))\n",
    "    for j in range(len(cosmos_mrg01.index)):\n",
    "        curr_match = False\n",
    "        sr2 = cosmos_mrg01.iloc[j]\n",
    "        if criteron1(sr1, sr2):\n",
    "            curr_match = True\n",
    "            list_match.append(sr2)\n",
    "        elif criteron2(sr1, sr2):\n",
    "            curr_match = True\n",
    "            list_match.append(sr2)\n",
    "    all_match[sr1] = sr2     \n",
    "        \n",
    "        "
   ]
  },
  {
   "cell_type": "code",
   "execution_count": null,
   "metadata": {
    "collapsed": true
   },
   "outputs": [],
   "source": []
  },
  {
   "cell_type": "code",
   "execution_count": null,
   "metadata": {
    "collapsed": true
   },
   "outputs": [],
   "source": [
    " "
   ]
  },
  {
   "cell_type": "code",
   "execution_count": null,
   "metadata": {
    "collapsed": true
   },
   "outputs": [],
   "source": []
  },
  {
   "cell_type": "markdown",
   "metadata": {},
   "source": [
    "# To be continued......"
   ]
  },
  {
   "cell_type": "markdown",
   "metadata": {},
   "source": [
    "#  *********************************************************************"
   ]
  },
  {
   "cell_type": "markdown",
   "metadata": {},
   "source": [
    "## Appendix: The above application is based on the following premium experimentals:\n",
    "Pardon on the disporganized raw experiments, plz"
   ]
  },
  {
   "cell_type": "markdown",
   "metadata": {},
   "source": [
    "## Fuzzy string match - method one Python-difflib, and jellyfish:\n",
    "\n",
    "1. Load the member data into python pandas \n",
    "2. Build up the data structurte for matching algorithms\n",
    "3. Apply difflib to the tables/attribute, which is based on Retcliff/Obershelp Algorithms\n",
    "4. Investigate a second solution of jellyfish, which is based on Jaro/Wilkler Algorithms"
   ]
  },
  {
   "cell_type": "markdown",
   "metadata": {},
   "source": [
    "# Retcliff/Obershelp vs Jaro-Winkler\n",
    "## 1. Retcliff/Obershelp\n",
    "$Dr = 2*Km/(|S1| + |S2|)$, \n",
    "<br>\n",
    "$Km$: number of matching characters based on Anchor; |S1|, |S2| length of S1 and S2\n",
    "<br>\n",
    "Anchor: longest substring such that S1 and S2 have in common\n",
    "\n",
    "## 2. Jaro Distance (1989)\n",
    "$Dj = (1/3 ) * (m/|S1| + m/|S2| + (m - t)/m)$\n",
    "<br>$\n",
    "$m$ : number of matching symbols;\n",
    "<br>\n",
    "$t$ : number of transpositions\n",
    "\n"
   ]
  },
  {
   "cell_type": "markdown",
   "metadata": {},
   "source": [
    "## Now in this test we load the csv files with delimitor ';' instead of ','\n",
    "originally, the csv file was seporated with delimitor ',', which brings significant issue, since some attributes come with ',' in the string. So after reading back delimited by ',', some record got more features than it supposed to be:\n",
    "\n",
    "$ select count(1) from cosmos_mem where addr_line_1 like \"%,%\";\n",
    "\n",
    "OK\n",
    "18253\n",
    "\n",
    "So the table is extracted to csv file using ';' as the delimitor instead of ',':\n",
    "For examples:\n",
    "INSERT OVERWRITE LOCAL DIRECTORY '/mapr/datalake/uhclake/perf/Sqoop_RX/ymalcow/501_mem_match_proj1/tops_all2_csv' ROW FORMAT DELIMITED FIELDS TERMINATED BY '\\;' select * from tops_mem;\n",
    "\n",
    "INSERT OVERWRITE LOCAL DIRECTORY '/mapr/datalake/uhclake/perf/Sqoop_RX/ymalcow/101_clustering_proj01/prep01ML_all2_csv' ROW FORMAT DELIMITED FIELDS TERMINATED BY '\\;' select * from merged_cosmos_dr_claim_4ml_t01;\n",
    "\n"
   ]
  },
  {
   "cell_type": "code",
   "execution_count": null,
   "metadata": {
    "collapsed": true
   },
   "outputs": [],
   "source": [
    "import pandas as pd\n",
    "import os\n",
    "import csv\n",
    "import difflib\n",
    "import jellyfish\n",
    "import itertools\n",
    "\n",
    "from __future__ import division"
   ]
  },
  {
   "cell_type": "code",
   "execution_count": null,
   "metadata": {
    "collapsed": true
   },
   "outputs": [],
   "source": [
    "def jaccard_similarity(a, b):\n",
    "    x = set(a)\n",
    "    y = set(b)\n",
    "    return len(x & y) / len(x | y)"
   ]
  },
  {
   "cell_type": "code",
   "execution_count": null,
   "metadata": {
    "collapsed": true
   },
   "outputs": [],
   "source": [
    "# Define jaccard distance based on jaccard similarity\n",
    "def jaccard_distance(a, b): return 1 - jaccard_similarity(a, b)"
   ]
  },
  {
   "cell_type": "code",
   "execution_count": null,
   "metadata": {
    "collapsed": true
   },
   "outputs": [],
   "source": [
    "# With modules imported defined, we start to work on the member tables"
   ]
  },
  {
   "cell_type": "code",
   "execution_count": null,
   "metadata": {
    "collapsed": true
   },
   "outputs": [],
   "source": [
    "data_dir = '/mapr/datalake/uhclake/perf/Sqoop_RX/ymalcow/501_mem_match_proj1/'\n",
    "dir_tops = 'tops_all2_csv'\n",
    "dir_cosmos = 'cosmos_all2_csv'\n",
    "\n",
    "path_tops = os.path.join(data_dir, dir_tops)\n",
    "path_cosmos = os.path.join(data_dir, dir_cosmos)"
   ]
  },
  {
   "cell_type": "code",
   "execution_count": null,
   "metadata": {
    "collapsed": false
   },
   "outputs": [],
   "source": [
    "print (os.getcwd())"
   ]
  },
  {
   "cell_type": "code",
   "execution_count": null,
   "metadata": {
    "collapsed": false
   },
   "outputs": [],
   "source": [
    "topses = os.listdir(path_tops)\n",
    "cosmoses = os.listdir(path_cosmos)"
   ]
  },
  {
   "cell_type": "code",
   "execution_count": null,
   "metadata": {
    "collapsed": false
   },
   "outputs": [],
   "source": [
    "mem_attrs = ['member_individual_identifier','src_cdb_xref_id','lgcy_src_id','social_security_number_hashed' , 'member_last_name','member_first_name' ,'member_middle_name','member_middle_initial_text', 'member_name_suffix' , 'mem_dob_hashed', 'memeber_zip_code_of_residence','member_sex','addr_line_1','addr_line_2','city_name','state','zipcode','country']"
   ]
  },
  {
   "cell_type": "code",
   "execution_count": null,
   "metadata": {
    "collapsed": false
   },
   "outputs": [],
   "source": [
    "len(mem_attrs)"
   ]
  },
  {
   "cell_type": "code",
   "execution_count": null,
   "metadata": {
    "collapsed": false
   },
   "outputs": [],
   "source": [
    "print (\"No. of cosmos file vs. No. of tops files are {} : {}\".format(len(cosmoses), len(topses)))"
   ]
  },
  {
   "cell_type": "code",
   "execution_count": null,
   "metadata": {
    "collapsed": false
   },
   "outputs": [],
   "source": [
    "# Now let us traverswe through all the cosmos tables to see if thre is better mtches\n",
    "# First we need to load all the files for tops member, \n",
    "# Extract the column of adrress line 1 and concat to the dataframe\n",
    "\n",
    "addr1_tops = []\n",
    "cnt = 0\n",
    "cnt_in = 0\n",
    "\n",
    "for tops in topses:\n",
    "    cnt += 1\n",
    "    if tops[-3:] == 'crc':\n",
    "        continue\n",
    "    cnt_in += 1\n",
    "    curr_tops = pd.read_csv(os.path.join(path_tops, tops), sep = ';', names = mem_attrs, quoting=csv.QUOTE_NONE, encoding='utf-8', error_bad_lines=False)\n",
    "\n",
    "    # convert every character to lower case\n",
    "    curr_lower_tops = list(set(curr_tops.addr_line_1.apply(lambda x : str(x).lower() if pd.notnull(x) else '')))\n",
    "    print (\"{} out of {}. File name={}; No. of curr uniq addr is {}\".format(cnt_in, cnt, tops, len(curr_lower_tops)))\n",
    "    addr1_tops.extend(curr_lower_tops)"
   ]
  },
  {
   "cell_type": "code",
   "execution_count": null,
   "metadata": {
    "collapsed": false
   },
   "outputs": [],
   "source": [
    "# Use only one chunk for each type of claim to perform initial test\n",
    "samp_tops = pd.read_csv(os.path.join(path_tops, topses[1]), sep = ';', names = mem_attrs, error_bad_lines=False)\n",
    "samp_cosmos = pd.read_csv(os.path.join(path_cosmos, cosmoses[1]), sep = ';', names = mem_attrs, error_bad_lines=False)\n",
    "\n",
    "lower_chk01_cosmos = samp_cosmos.addr_line_1.apply(lambda x : str(x).lower() if pd.notnull(x) else '')\n",
    "lower_chk01_tops = samp_tops.addr_line_1.apply(lambda x : str(x).lower() if pd.notnull(x) else '')"
   ]
  },
  {
   "cell_type": "code",
   "execution_count": null,
   "metadata": {
    "collapsed": false
   },
   "outputs": [],
   "source": [
    "len(lower_chk01_cosmos)"
   ]
  },
  {
   "cell_type": "code",
   "execution_count": null,
   "metadata": {
    "collapsed": true
   },
   "outputs": [],
   "source": []
  },
  {
   "cell_type": "code",
   "execution_count": null,
   "metadata": {
    "collapsed": false
   },
   "outputs": [],
   "source": [
    "%%time\n",
    "\n",
    "# Calculate the best 10 ratios of similarity between the first three form cosmos vs all tops\n",
    "cnt = 0\n",
    "ratio_all = []\n",
    "\n",
    "for i in range(20000, 20002):\n",
    "         \n",
    "    curr_sim = difflib.get_close_matches(lower_chk01_cosmos[i], addr1_tops, 10)\n",
    "    print (\"{}. for '{}',there are {} close matches:\\n{}\".format(i, lower_chk01_cosmos[i], len(curr_sim), curr_sim))\n",
    "    ratio = []\n",
    "    sm = difflib.SequenceMatcher()\n",
    "    sm.set_seq1(lower_chk01_cosmos[i])\n",
    "    for s in curr_sim:\n",
    "        sm.set_seq2(s)\n",
    "        ratio.append(sm.ratio())\n",
    "    ratio_all.append(ratio)"
   ]
  },
  {
   "cell_type": "code",
   "execution_count": null,
   "metadata": {
    "collapsed": true
   },
   "outputs": [],
   "source": [
    "#There are some duplications observed from the outputs above, let us make the list unique\n",
    "addr1_tops = list(set(addr1_tops))"
   ]
  },
  {
   "cell_type": "code",
   "execution_count": null,
   "metadata": {
    "collapsed": false
   },
   "outputs": [],
   "source": [
    "%%time\n",
    "\n",
    "# Calculate the best 10 ratios of similarity between the first three form cosmos vs all tops\n",
    "cnt = 0\n",
    "ratio_all = []\n",
    "\n",
    "for i in range(20000, 20002):\n",
    "         \n",
    "    curr_sim = difflib.get_close_matches(lower_chk01_cosmos[i], addr1_tops, 10, 0.6)\n",
    "    print (\"The address line 1 for tops are unique now.\\n{}. for '{}',there are {} close matches:\\n{}\".format(i, lower_chk01_cosmos[i], len(curr_sim), curr_sim))\n",
    "    ratio = []\n",
    "    sm = difflib.SequenceMatcher()\n",
    "    sm.set_seq1(lower_chk01_cosmos[i])\n",
    "    for s in curr_sim:\n",
    "        sm.set_seq2(s)\n",
    "        ratio.append(sm.ratio())\n",
    "    ratio_all.append(ratio)"
   ]
  },
  {
   "cell_type": "code",
   "execution_count": null,
   "metadata": {
    "collapsed": false
   },
   "outputs": [],
   "source": [
    "ratio_all"
   ]
  },
  {
   "cell_type": "code",
   "execution_count": null,
   "metadata": {
    "collapsed": true
   },
   "outputs": [],
   "source": []
  },
  {
   "cell_type": "code",
   "execution_count": null,
   "metadata": {
    "collapsed": true
   },
   "outputs": [],
   "source": []
  },
  {
   "cell_type": "code",
   "execution_count": null,
   "metadata": {
    "collapsed": true
   },
   "outputs": [],
   "source": []
  },
  {
   "cell_type": "code",
   "execution_count": null,
   "metadata": {
    "collapsed": false
   },
   "outputs": [],
   "source": [
    "# Now let us use the results above and do some demo to compare different algorithms by this chance\n",
    "# First setup the demo data as a list of addresses:\n",
    "addr20001 = ['2403 battlefield parkway', '3749 battlefield parkway', '2403 campfield parkway', \\\n",
    "             '23 canterfield parkway', '801 battlefield pkwy', '21319 butterfield parkway', '14377 butterfield parkway', \\\n",
    "             '14358 butterfield parkway', '20403 fairfield parkway', '7912 battlefield park']\n",
    "\n",
    "similarities = [(n1,n2, jellyfish.levenshtein_distance(n1,n2), jellyfish.damerau_levenshtein_distance(n1,n2), \\\n",
    "                 jellyfish.jaro_distance(n1,n2), jellyfish.jaro_winkler(n1,n2),\\\n",
    "                 jaccard_similarity(n1,n2)) for n1 in addr20001 for n2 in addr20001]\n"
   ]
  },
  {
   "cell_type": "code",
   "execution_count": null,
   "metadata": {
    "collapsed": false
   },
   "outputs": [],
   "source": [
    "comp = pd.DataFrame(similarities)\n",
    "comp.columns = ['n1', 'n2', 'Levenshtein', 'Damerau_Levenshtein', 'Jaro', 'Jaro_Winker', 'Jaccard']\n",
    "comp"
   ]
  },
  {
   "cell_type": "markdown",
   "metadata": {},
   "source": [
    "In information theory and computer science, the Damerau–Levenshtein distance (named after Frederick J. Damerau and Vladimir I. Levenshtein)[citation needed] is a \"distance\" (string metric) between two strings, i.e., finite sequence of symbols, given by counting the minimum number of operations needed to transform one string into the other, where an operation is defined as an insertion, deletion, or substitution of a single character, or a transposition of two adjacent characters.\n",
    "Take for example the edit distance between CA and ABC. The Damerau–Levenshtein distance LD(CA,ABC) = 2 because CA -> AC -> ABC, but the optimal string alignment distance OSA(CA,ABC) = 3 because if the operation CA -> AC is used, it is not possible to use AC -> ABC because that would require the substring to be edited more than once, which is not allowed in OSA, and therefore the shortest sequence of operations is CA -> A -> AB -> ABC. Note that for the optimal string alignment distance, the triangle inequality does not hold: OSA(CA,AC) + OSA(AC,ABC) < OSA(CA,ABC), and so it is not a true metric."
   ]
  },
  {
   "cell_type": "markdown",
   "metadata": {},
   "source": [
    "80-96%\n",
    "\n",
    "first 3 of first name + first 3 of last name and first five of (addr)/zip"
   ]
  },
  {
   "cell_type": "markdown",
   "metadata": {},
   "source": [
    "# How to make the implementation feasible with dozens of millions of records?\n",
    "##     -Let us investigate the possible solution using blocking\n",
    "\n",
    "It is not feasible to do cross comparison by fuzzy searching each member record of one table in the otyher tops table, approximately 20 million X 20 million level computation! Blocking is an effective method to reduce the number of recod pais that need to be compared. Here I dtart from two options:\n",
    "1. Grouping by zip code\n",
    "    Acoording to wikipedia.org there are over 42,000 ZIP codes in US:\n",
    "    https://en.wikipedia.org/wiki/ZIP_Code\n",
    "2. using soundex function from the python library jellyfish:\n",
    "    Soundex is a code that is supposed to indicate strings that begin with similar sounds"
   ]
  },
  {
   "cell_type": "code",
   "execution_count": null,
   "metadata": {
    "collapsed": false
   },
   "outputs": [],
   "source": [
    "samp_tops.head()\n",
    "samp_cosmos.head()"
   ]
  },
  {
   "cell_type": "code",
   "execution_count": null,
   "metadata": {
    "collapsed": false
   },
   "outputs": [],
   "source": [
    "samp_tops.head()"
   ]
  },
  {
   "cell_type": "code",
   "execution_count": null,
   "metadata": {
    "collapsed": false
   },
   "outputs": [],
   "source": [
    "samp_cosmos.rename(columns = {'addr_line_1': 'addr_line_1C'}, inplace = True)"
   ]
  },
  {
   "cell_type": "code",
   "execution_count": null,
   "metadata": {
    "collapsed": false
   },
   "outputs": [],
   "source": [
    "# Demo on soundex using the sample chunk of cosmos members and tops members\n",
    "samp_cosmos['sndx'] = samp_cosmos.addr_line_1C.apply(jellyfish.soundex)\n",
    "# samp_tops['sndx'] = samp_tops.addr_line_1.apply(jellyfish.soundex)\n"
   ]
  },
  {
   "cell_type": "code",
   "execution_count": null,
   "metadata": {
    "collapsed": false
   },
   "outputs": [],
   "source": [
    "samp_tops['addr_line_1'] = samp_tops.addr_line_1.apply(lambda x : str(x) if pd.notnull(x) else '')\n",
    "samp_tops['sndx'] = samp_tops.addr_line_1.apply(jellyfish.soundex)"
   ]
  },
  {
   "cell_type": "code",
   "execution_count": null,
   "metadata": {
    "collapsed": false
   },
   "outputs": [],
   "source": [
    "sc_cnt = samp_cosmos['sndx'].value_counts()\n",
    "print (type(sc_cnt), sc_cnt.head())\n",
    "sc_cnt[sc_cnt == 10]"
   ]
  },
  {
   "cell_type": "code",
   "execution_count": null,
   "metadata": {
    "collapsed": false
   },
   "outputs": [],
   "source": [
    "samp_cosmos.columns"
   ]
  },
  {
   "cell_type": "code",
   "execution_count": null,
   "metadata": {
    "collapsed": false
   },
   "outputs": [],
   "source": [
    "samp_tops.columns"
   ]
  },
  {
   "cell_type": "code",
   "execution_count": null,
   "metadata": {
    "collapsed": false
   },
   "outputs": [],
   "source": [
    " samp_tops[samp_tops.sndx == '4550'].head()"
   ]
  },
  {
   "cell_type": "code",
   "execution_count": null,
   "metadata": {
    "collapsed": false
   },
   "outputs": [],
   "source": [
    "s1 = samp_tops[samp_tops.sndx == '4550'][['addr_line_1', 'sndx']]\n",
    "#s2 = samp_cosmos[samp_cosmos.sndx == '4550']['addr_line_1C', 'sndx']\n",
    "\n",
    "samp_tops[samp_tops.sndx == '4550'].merge(samp_cosmos[samp_cosmos.sndx == '4550'], on = 'sndx')[['addr_line_1C', 'addr_line_1', 'sndx']]"
   ]
  },
  {
   "cell_type": "code",
   "execution_count": null,
   "metadata": {
    "collapsed": false
   },
   "outputs": [],
   "source": [
    "print (\"Cosmos sample chunk got {} number of soundex out of total {} records; \\ n And the value counts for each soundex are:\\n{}\".format(samp_cosmos['sndx'].nunique(),samp_cosmos.shape[0],sc_cnt))"
   ]
  },
  {
   "cell_type": "code",
   "execution_count": null,
   "metadata": {
    "collapsed": false
   },
   "outputs": [],
   "source": [
    "samp_tops.head()"
   ]
  },
  {
   "cell_type": "code",
   "execution_count": null,
   "metadata": {
    "collapsed": false
   },
   "outputs": [],
   "source": [
    "samp_tops[samp_tops.sndx == '1235'].count()"
   ]
  },
  {
   "cell_type": "code",
   "execution_count": null,
   "metadata": {
    "collapsed": false
   },
   "outputs": [],
   "source": [
    "samp_cosmos[samp_cosmos.sndx == '1235']"
   ]
  },
  {
   "cell_type": "code",
   "execution_count": null,
   "metadata": {
    "collapsed": true
   },
   "outputs": [],
   "source": []
  },
  {
   "cell_type": "code",
   "execution_count": null,
   "metadata": {
    "collapsed": false
   },
   "outputs": [],
   "source": [
    "s1_tops = samp_tops[samp_tops.sndx == '1235']['addr_line_1C']"
   ]
  },
  {
   "cell_type": "code",
   "execution_count": null,
   "metadata": {
    "collapsed": false
   },
   "outputs": [],
   "source": [
    "samp_tops[samp_tops.sndx == '1235'].merge(samp_cosmos[samp_cosmos.sndx == '1235'], on = 'sndx')['addr_line_1C', 'addr_line_1']"
   ]
  },
  {
   "cell_type": "code",
   "execution_count": null,
   "metadata": {
    "collapsed": true
   },
   "outputs": [],
   "source": [
    "samp_tops[samp_tops.sndx == '1235'].merge(samp_cosmos[samp_cosmos.sndx == '1235'], on = 'sndx')['addr_line_1C', 'addr_line_1']"
   ]
  },
  {
   "cell_type": "code",
   "execution_count": null,
   "metadata": {
    "collapsed": false
   },
   "outputs": [],
   "source": [
    "samp_tops[samp_tops.sndx == 'P120']"
   ]
  },
  {
   "cell_type": "code",
   "execution_count": null,
   "metadata": {
    "collapsed": false
   },
   "outputs": [],
   "source": [
    "samp_cosmos[samp_cosmos.sndx == 'P120']"
   ]
  },
  {
   "cell_type": "code",
   "execution_count": null,
   "metadata": {
    "collapsed": false
   },
   "outputs": [],
   "source": [
    "samp_tops[samp_tops.sndx == 'p120'].merge(samp_cosmos[samp_cosmos.sndx == 'P120'], on = 'sndx')['addr_line_1C', 'addr_line_1']"
   ]
  },
  {
   "cell_type": "markdown",
   "metadata": {},
   "source": [
    "1. select the ssn with the max number of counts from cosmos_mem\n",
    "\n",
    "select c.ssn, c.counter from (select d.social_security_number_hashed as ssn, count(*) as counter from cosmos_mem d group by d.social_security_number_hashed) c join (select max(f.counter) as cntMax from (select mem.social_security_number_hashed, count(*) as counter from cosmos_mem mem group by mem.social_security_number_hashed)f)g where c.counter = g.cntMax;\n",
    "OK\n",
    "e3b0c44298fc1c149afbf4c8996fb92427ae41e4649b934ca495991b7852b855\t4905202\n",
    "\n",
    "Duplications found. Let us keep confirm with this ssn:\n",
    "\n",
    "select * from cosmos_mem where social_security_number_hashed == 'e3b0c44298fc1c149afbf4c8996fb92427ae41e4649b934ca495991b7852b855' limit 5;\n",
    "\n",
    "OK\n",
    "62495351\t426814555\tBHM0217190495722500\te3b0c44298fc1c149afbf4c8996fb92427ae41e4649b934ca495991b7852b855\tJOHNSON\tSAMMIE\tL\tL\t\ta2176455ad29d9382d9e61aaff6f7021f414c93d12806f9ce4bcb3fa89623bb5\t36869\tMALE\t218 16TH AVE S\t\tPHENIX CITY\tAL\t36869\t\n",
    "465055251\t611244034\tBHM0219890336028900\te3b0c44298fc1c149afbf4c8996fb92427ae41e4649b934ca495991b7852b855\tWOODS\tWILLIE\tJ\tJ\t\t9af28c4efccc06efb6f41fa29f0e4c79c36af7f762d39c05f6d3d9d8d664dfc3\t36108\tMALE\t3835 RIVERIA RD.\t\tMONTGOMERY\tAL\t36108\t\n",
    "95549897\t571128636\tBHM0219891289762000\te3b0c44298fc1c149afbf4c8996fb92427ae41e4649b934ca495991b7852b855\tWASHINGTON\tARLANDERS\tL\tL\ta311fe6b539bcfb76e526915845ab0413841c7d41b109cca7c7d36aed4d5eada\t36092\tMALE\t604 MARSHALL ST\t\tWETUMPKA\tAL\t36092\t\n",
    "481025873\t623134285\tBHM0221195769134600\te3b0c44298fc1c149afbf4c8996fb92427ae41e4649b934ca495991b7852b855\tBENARD\tROBERT\tE\tE\t\t525c6164ddefe07400c5ddf6974b2f17cf3b222173405bb3a0b30c59badfa0c4\t36083\tMALE\t655 REC CENTER RD\t\tTUSKEGEE\tAL\t36083\t\n",
    "61409303\t558502262\tBHM0223990110540300\te3b0c44298fc1c149afbf4c8996fb92427ae41e4649b934ca495991b7852b855\tENGLISH\tSTEPHEN\tS\tS\t\t4b100e8b355e21204c3ce99c7cea6d3eaf1d6e144cd30ddf676b9c4f48e997f7\t35214\tMALE\t1705 CHELSEA AVE\t\tBIRMINGHAM\tAL\t35214\t\n",
    "Time taken: 26.052 seconds, Fetched: 5 row(s)\n",
    "\n",
    "Yes, it is confirmed that, then\n",
    "1' How about tops? :\n",
    "Query result:\n",
    "OK\n",
    "f120bb5698d520c5691b6d603a00bfd662d13bf177a04571f9d10c0745dfa2a5\t8511228\n",
    "\n",
    "\n",
    "2. How mash hashed ssn are duplicated? :\n",
    "\n",
    "Cosmos:\n",
    "\n",
    "tops:\n",
    "select social_security_number_hashed as ssn, count(*) as counter from tops_mem group by social_security_number_hashed having counter > 1;\n",
    "OK\n",
    "...\n",
    "fffcf724fdb3de9ef29f3c1061048b952cbc4c4cca8a4ad2c4c82f675e9ca1a7\t2\n",
    "fffd0eb99dc558dd6215e7776dd1e48c811f1f202d0c93ef9200f322b97bf3ed\t2\n",
    "fffd7877d0b10106935ab61c4920b67bb88bb1736d64228ddbb66cd255e1708f\t2\n",
    "fffe535859992730c984ced6661f5a7fb3c9691407876ae779ea5bdb46120ed5\t2\n",
    "ffff9990155834c2f45412d970b96fe287fffbbf4f732fbb70634d613741d720\t2\n",
    "ffffad5176879d166e05ff89182726cba703d3246810f7cdc8fd4bb63b58c792\t2\n",
    "ffffb18d4b89956723cb70fde6d20c82f22b9189d93dc99cae8b526d131f02e4\t2\n",
    "ffffe4d2edbea493550b0ef874cb7fe2820ce17678d675aeb3021e001b9c84fd\t2\n",
    "ffffeecd55730a30b469835e546da7e204c3ff4095aad0298d4701247f2c3184\t2\n",
    "fffff55fffc3eb82e2252ef66b5cd8a1b3090bab422fb74e18b9d3f8f47440f5\t2\n",
    "Time taken: 55.799 seconds, Fetched: 10237568 row(s)"
   ]
  },
  {
   "cell_type": "code",
   "execution_count": null,
   "metadata": {
    "collapsed": true
   },
   "outputs": [],
   "source": []
  },
  {
   "cell_type": "code",
   "execution_count": null,
   "metadata": {
    "collapsed": true
   },
   "outputs": [],
   "source": []
  },
  {
   "cell_type": "code",
   "execution_count": null,
   "metadata": {
    "collapsed": true
   },
   "outputs": [],
   "source": []
  },
  {
   "cell_type": "code",
   "execution_count": null,
   "metadata": {
    "collapsed": true
   },
   "outputs": [],
   "source": [
    "samp_tops.merge(samp_cosmos, on = 'sndx')"
   ]
  },
  {
   "cell_type": "code",
   "execution_count": null,
   "metadata": {
    "collapsed": false
   },
   "outputs": [],
   "source": [
    "print (\"test kernel\")"
   ]
  },
  {
   "cell_type": "markdown",
   "metadata": {},
   "source": [
    "# Now for some complete member matchs\n",
    "## Single chunk based on the management table partition will be used for initial test\n",
    "\n",
    "Combo of criterions:\n",
    "1. Exact mathcing criterion\n",
    "   zip code; dob_hashed; ssn_hashed\n",
    "2. Fuzzy match criterion\n",
    "   Jaro_Winkle (Difflib: Retcliff/Obershelp?) member_first_name and member_last_name  "
   ]
  },
  {
   "cell_type": "code",
   "execution_count": null,
   "metadata": {
    "collapsed": false
   },
   "outputs": [],
   "source": [
    "samp_tops.head()"
   ]
  },
  {
   "cell_type": "code",
   "execution_count": null,
   "metadata": {
    "collapsed": false
   },
   "outputs": [],
   "source": [
    "samp_cosmos.head()"
   ]
  },
  {
   "cell_type": "code",
   "execution_count": null,
   "metadata": {
    "collapsed": false
   },
   "outputs": [],
   "source": [
    "samp_cosmos['snum_c'] = samp_cosmos.addr_line_1C.str.split(' ', 1).apply(lambda x:x[0])\n",
    "samp_tops['snum_t'] = samp_tops.addr_line_1.str.split(' ', 1).apply(lambda x:x[0])"
   ]
  },
  {
   "cell_type": "code",
   "execution_count": null,
   "metadata": {
    "collapsed": false
   },
   "outputs": [],
   "source": [
    "slt_cosmos = samp_cosmos[['social_security_number_hashed', 'mem_dob_hashed', 'member_last_name', 'member_first_name', 'zipcode', 'snum_c']]\n",
    "slt_tops = samp_tops[['social_security_number_hashed', 'mem_dob_hashed', 'member_last_name', 'member_first_name', 'zipcode', 'snum_t']]"
   ]
  },
  {
   "cell_type": "code",
   "execution_count": null,
   "metadata": {
    "collapsed": false
   },
   "outputs": [],
   "source": [
    "slt_cosmos.head()"
   ]
  },
  {
   "cell_type": "code",
   "execution_count": null,
   "metadata": {
    "collapsed": false
   },
   "outputs": [],
   "source": [
    "slt_tops.head()"
   ]
  },
  {
   "cell_type": "code",
   "execution_count": null,
   "metadata": {
    "collapsed": false
   },
   "outputs": [],
   "source": [
    "slt_mrg = pd.merge(slt_cosmos, slt_tops, left_on = ['zipcode', \n",
    "'social_security_number_hashed', 'mem_dob_hashed', 'snum_c'], right_on = ['zipcode', \n",
    "'social_security_number_hashed', 'mem_dob_hashed', 'snum_t'])"
   ]
  },
  {
   "cell_type": "code",
   "execution_count": null,
   "metadata": {
    "collapsed": false
   },
   "outputs": [],
   "source": [
    "slt_mrg.head()"
   ]
  },
  {
   "cell_type": "markdown",
   "metadata": {},
   "source": [
    "## Now it is time to move to the full tables and apply Jaro-Winkle, since the matching between the chunks does not generate interesting pairs.\n",
    "How many records in cosmos and tops member tables respectly?\n",
    " select count(1) from cosmos_mem;\n",
    " OK\n",
    "27126473\n",
    "\n",
    "select count(1) from tops_mem;\n",
    "OK\n",
    "82572107\n",
    "\n",
    "So let us start to search the first chunk of tops from full cosmos, since we need to see faster results at this initial stage"
   ]
  },
  {
   "cell_type": "code",
   "execution_count": null,
   "metadata": {
    "collapsed": true
   },
   "outputs": [],
   "source": []
  },
  {
   "cell_type": "code",
   "execution_count": null,
   "metadata": {
    "collapsed": true
   },
   "outputs": [],
   "source": [
    "\n"
   ]
  },
  {
   "cell_type": "code",
   "execution_count": null,
   "metadata": {
    "collapsed": false
   },
   "outputs": [],
   "source": [
    "# Use only one chunk for each type of claim to perform initial test\n",
    "samp_tops = pd.read_csv(os.path.join(path_tops, topses[1]), sep = ';', names = mem_attrs, error_bad_lines=False)\n",
    "samp_cosmos = pd.read_csv(os.path.join(path_cosmos, cosmoses[1]), sep = ';', names = mem_attrs, error_bad_lines=False)"
   ]
  },
  {
   "cell_type": "code",
   "execution_count": null,
   "metadata": {
    "collapsed": false
   },
   "outputs": [],
   "source": [
    "samp_tops.member_first_name.count()"
   ]
  },
  {
   "cell_type": "code",
   "execution_count": null,
   "metadata": {
    "collapsed": false
   },
   "outputs": [],
   "source": [
    "samp_tops.head()"
   ]
  },
  {
   "cell_type": "code",
   "execution_count": null,
   "metadata": {
    "collapsed": true
   },
   "outputs": [],
   "source": [
    "lower_chk01_cosmos = samp_cosmos.addr_line_1.apply(lambda x : str(x).lower() if pd.notnull(x) else '')\n",
    "lower_chk01_tops = samp_tops.addr_line_1.apply(lambda x : str(x).lower() if pd.notnull(x) else '')"
   ]
  },
  {
   "cell_type": "code",
   "execution_count": null,
   "metadata": {
    "collapsed": true
   },
   "outputs": [],
   "source": [
    "import difflib"
   ]
  },
  {
   "cell_type": "code",
   "execution_count": null,
   "metadata": {
    "collapsed": false
   },
   "outputs": [],
   "source": [
    "# First one that starts to work!!!\n",
    "print(difflib.get_close_matches('262 plantation cir lot 21', lower_chk01_cosmos))"
   ]
  },
  {
   "cell_type": "code",
   "execution_count": null,
   "metadata": {
    "collapsed": false
   },
   "outputs": [],
   "source": [
    "print(difflib.get_close_matches('262 plantation cir lot 21', lower_chk01_tops))"
   ]
  },
  {
   "cell_type": "code",
   "execution_count": null,
   "metadata": {
    "collapsed": false
   },
   "outputs": [],
   "source": [
    "cnt = 0\n",
    "ratio_all = []\n",
    "\n",
    "for address1 in lower_chk01_cosmos:\n",
    "    cnt += 1\n",
    "    print (\"the currnt count is {}\".format(cnt))\n",
    "    if cnt > 3:\n",
    "        break\n",
    "    \n",
    "    curr_sim = difflib.get_close_matches(address1, lower_chk01_tops, 5)\n",
    "    print (\"{}. for '{}',there are {} close matches:\\n{}\".format(cnt, address1, len(curr_sim), curr_sim))\n",
    "    ratio = []\n",
    "    sm = difflib.SequenceMatcher()\n",
    "    sm.set_seq1(address1)\n",
    "    for s in curr_sim:\n",
    "        sm.set_seq2(s)\n",
    "        ratio.append(sm.ratio())\n",
    "    ratio_all.append(ratio)"
   ]
  },
  {
   "cell_type": "code",
   "execution_count": null,
   "metadata": {
    "collapsed": false
   },
   "outputs": [],
   "source": [
    "print (\"No. of cosmos file vs. No. of tops files are {} : {}\".format(len(cosmoses), len(topses)))"
   ]
  },
  {
   "cell_type": "code",
   "execution_count": null,
   "metadata": {
    "collapsed": false
   },
   "outputs": [],
   "source": [
    "topses"
   ]
  },
  {
   "cell_type": "code",
   "execution_count": null,
   "metadata": {
    "collapsed": false
   },
   "outputs": [],
   "source": [
    "# Now let us traverswe through all the cosmos tables to see if thre is better mtches\n",
    "# First we need to load all the files for tops member, \n",
    "#       extract the column of adrress line 1 and concat to the dataframe\n",
    "\n",
    "addr1_all = []\n",
    "cnt = 0\n",
    "cnt_in = 0\n",
    "\n",
    "for tops in topses:\n",
    "    cnt += 1\n",
    "    if tops[-3:] == 'crc':\n",
    "        continue\n",
    "    cnt_in += 1\n",
    "    curr_tops = pd.read_csv(os.path.join(path_tops, tops), sep = ';', names = mem_attrs, quoting=csv.QUOTE_NONE, encoding='utf-8', error_bad_lines=False)\n",
    "\n",
    "    # convert every character to lower case\n",
    "    curr_lower_tops = list(set(curr_tops.addr_line_1.apply(lambda x : str(x).lower() if pd.notnull(x) else '')))\n",
    "    print (\"{} out of {}. File name={}; No. of curr uniq addr is {}\".format(cnt_in, cnt, tops, len(curr_lower_tops)))\n",
    "    addr1_all.extend(curr_lower_tops)"
   ]
  },
  {
   "cell_type": "code",
   "execution_count": null,
   "metadata": {
    "collapsed": true
   },
   "outputs": [],
   "source": []
  },
  {
   "cell_type": "code",
   "execution_count": null,
   "metadata": {
    "collapsed": true
   },
   "outputs": [],
   "source": []
  },
  {
   "cell_type": "code",
   "execution_count": null,
   "metadata": {
    "collapsed": false
   },
   "outputs": [],
   "source": [
    "topses[0][-3:]"
   ]
  },
  {
   "cell_type": "code",
   "execution_count": null,
   "metadata": {
    "collapsed": true
   },
   "outputs": [],
   "source": []
  },
  {
   "cell_type": "code",
   "execution_count": null,
   "metadata": {
    "collapsed": false
   },
   "outputs": [],
   "source": [
    "# Now let us traverswe through all the cosmos tables to see if thre is better mtches\n",
    "# First we need to load all the files for tops member, \n",
    "#       extract the column of adrress line 1 and concat to the dataframe\n",
    "\n",
    "addr1_all = []\n",
    "cnt = 0\n",
    "cnt_in = 0\n",
    "\n",
    "for tops in topses:\n",
    "    cnt += 1\n",
    "    if tops[-3:] == 'crc':\n",
    "        continue\n",
    "    cnt_in += 1\n",
    "    curr_tops = pd.read_csv(os.path.join(path_tops, tops), sep = ',', names = mem_attrs, quoting=csv.QUOTE_NONE, encoding='utf-8', error_bad_lines=False)\n",
    "\n",
    "    # convert every character to lower case\n",
    "    curr_lower_tops = set(curr_tops.addr_line_1.apply(lambda x : str(x).lower() if pd.notnull(x) else ''))\n",
    "    print (\"{} out of {}. File name={}; No. of curr uniq addr is {}\".format(cnt_in, cnt, tops, len(curr_lower_tops)))\n",
    "    addr1_all.extend(curr_lower_tops)"
   ]
  },
  {
   "cell_type": "code",
   "execution_count": null,
   "metadata": {
    "collapsed": false
   },
   "outputs": [],
   "source": [
    "# Now let us traverswe through all the cosmos tables to see if thre is better mtches\n",
    "# First we need to load all the files for tops member, \n",
    "#       extract the column of adrress line 1 and concat to the dataframe\n",
    "\n",
    "addr1_all = []\n",
    "cnt = 0\n",
    "cnt_i = 0\n",
    "\n",
    "for tops in topses:\n",
    "    cnt += 1\n",
    "    if tops[-3:] == 'crc':\n",
    "        continue\n",
    "    cnt_in += 1\n",
    "    curr_tops = pd.read_csv(os.path.join(path_tops, tops), sep = ',', names = mem_attrs, quoting=csv.QUOTE_NONE, encoding='utf-8', error_bad_lines=False)\n",
    "\n",
    "    # convert every character to lower case\n",
    "    curr_lower_tops = set(curr_tops.addr_line_1.apply(lambda x : str(x).lower() if pd.notnull(x) else ''))\n",
    "    print (\"{} out of {}. File name={}; No. of curr uniq addr is {}\".format(cnt_in, cnt, tops, len(curr_lower_tops)))\n",
    "    addr1_all.extend(curr_lower_tops)"
   ]
  },
  {
   "cell_type": "code",
   "execution_count": null,
   "metadata": {
    "collapsed": false
   },
   "outputs": [],
   "source": [
    "# Now let us traverswe through all the cosmos tables to see if thre is better mtches\n",
    "# First we need to load all the files for tops member, \n",
    "#       extract the column of adrress line 1 and concat to the dataframe\n",
    "import csv\n",
    "\n",
    "addr1_all = []\n",
    "cnt = 0\n",
    "cnt_in = 0\n",
    "\n",
    "for tops in topses:\n",
    "    cnt += 1\n",
    "    if tops[-3:] == 'crc':\n",
    "        continue\n",
    "    cnt_in += 1\n",
    "    curr_tops = pd.read_csv(os.path.join(path_tops, tops), sep = ',', names = mem_attrs, quoting=csv.QUOTE_NONE, encoding='utf-8', error_bad_lines=False)\n",
    "\n",
    "    # convert every character to lower case\n",
    "    curr_lower_tops = set(curr_tops.addr_line_1.apply(lambda x : str(x).lower() if pd.notnull(x) else ''))\n",
    "    print (\"{} out of {}. File name={}; No. of curr uniq addr is {}\".format(cnt_in, cnt, tops, len(curr_lower_tops)))\n",
    "    addr1_all.extend(curr_lower_tops)"
   ]
  },
  {
   "cell_type": "code",
   "execution_count": null,
   "metadata": {
    "collapsed": false
   },
   "outputs": [],
   "source": [
    "len(addr1_all)"
   ]
  },
  {
   "cell_type": "code",
   "execution_count": null,
   "metadata": {
    "collapsed": false
   },
   "outputs": [],
   "source": [
    "# Calculate the best 10 ratios of similarity between the first three form cosmos vs all tops\n",
    "cnt = 0\n",
    "ratio_all = []\n",
    "\n",
    "for address1 in lower_chk01_cosmos:\n",
    "    cnt += 1\n",
    "    print (\"the currnt count is {}\".format(cnt))\n",
    "    if cnt > 3:\n",
    "        break\n",
    "    \n",
    "     \n",
    "    curr_sim = difflib.get_close_matches(address1, addr1_all, 10)\n",
    "    print (\"{}. for '{}',there are {} close matches:\\n{}\".format(cnt, address1, len(curr_sim), curr_sim))\n",
    "    ratio = []\n",
    "    sm = difflib.SequenceMatcher()\n",
    "    sm.set_seq1(address1)\n",
    "    for s in curr_sim:\n",
    "        sm.set_seq2(s)\n",
    "        ratio.append(sm.ratio())\n",
    "    ratio_all.append(ratio)"
   ]
  },
  {
   "cell_type": "code",
   "execution_count": null,
   "metadata": {
    "collapsed": false
   },
   "outputs": [],
   "source": [
    "%%time\n",
    "\n",
    "# Calculate the best 10 ratios of similarity between the first three form cosmos vs all tops\n",
    "cnt = 0\n",
    "ratio_all = []\n",
    "\n",
    "for address1 in lower_chk01_cosmos:\n",
    "    cnt += 1\n",
    "    print (\"the currnt count is {}\".format(cnt))\n",
    "    #if cnt <= 3:\n",
    "    #    continue\n",
    "    if cnt > 2:\n",
    "        break\n",
    "         \n",
    "    curr_sim = difflib.get_close_matches(address1, addr1_all, 10)\n",
    "    print (\"{}. for '{}',there are {} close matches:\\n{}\".format(cnt, address1, len(curr_sim), curr_sim))\n",
    "    ratio = []\n",
    "    sm = difflib.SequenceMatcher()\n",
    "    sm.set_seq1(address1)\n",
    "    for s in curr_sim:\n",
    "        sm.set_seq2(s)\n",
    "        ratio.append(sm.ratio())\n",
    "    ratio_all.append(ratio)"
   ]
  },
  {
   "cell_type": "markdown",
   "metadata": {},
   "source": [
    "https://stackoverflow.com/questions/2363731/append-new-row-to-old-csv-file-python"
   ]
  },
  {
   "cell_type": "code",
   "execution_count": null,
   "metadata": {
    "collapsed": true
   },
   "outputs": [],
   "source": [
    "# test the append mode to csv file\n",
    "with open('beneficiary.csv', 'a') as newFile:\n",
    "    newFileWriter = csv.writer(newFile)\n",
    "\n",
    "\n"
   ]
  },
  {
   "cell_type": "code",
   "execution_count": null,
   "metadata": {
    "collapsed": true
   },
   "outputs": [],
   "source": []
  },
  {
   "cell_type": "code",
   "execution_count": null,
   "metadata": {
    "collapsed": true
   },
   "outputs": [],
   "source": []
  },
  {
   "cell_type": "code",
   "execution_count": null,
   "metadata": {
    "collapsed": true
   },
   "outputs": [],
   "source": []
  },
  {
   "cell_type": "code",
   "execution_count": null,
   "metadata": {
    "collapsed": false
   },
   "outputs": [],
   "source": [
    "len(addr1_all)"
   ]
  },
  {
   "cell_type": "code",
   "execution_count": null,
   "metadata": {
    "collapsed": true
   },
   "outputs": [],
   "source": []
  },
  {
   "cell_type": "code",
   "execution_count": null,
   "metadata": {
    "collapsed": true
   },
   "outputs": [],
   "source": []
  },
  {
   "cell_type": "code",
   "execution_count": null,
   "metadata": {
    "collapsed": true
   },
   "outputs": [],
   "source": []
  },
  {
   "cell_type": "code",
   "execution_count": null,
   "metadata": {
    "collapsed": true
   },
   "outputs": [],
   "source": [
    "\n",
    "cnt = 0\n",
    "ratio_all = []\n",
    "\n",
    "for address1 in lower_chk01_cosmos:\n",
    "    cnt += 1\n",
    "    print (\"the currnt count is {}\".format(cnt))\n",
    "    if cnt > 3:\n",
    "        break\n",
    "    \n",
    "    for \n",
    "    curr_sim = difflib.get_close_matches(address1, lower_chk01_tops, 1)\n",
    "    print (\"{}. for '{}',there are {} close matches:\\n{}\".format(cnt, address1, len(curr_sim), curr_sim))\n",
    "    ratio = []\n",
    "    sm = difflib.SequenceMatcher()\n",
    "    sm.set_seq1(address1)\n",
    "    for s in curr_sim:\n",
    "        sm.set_seq2(s)\n",
    "        ratio.append(sm.ratio())\n",
    "    ratio_all.append(ratio)"
   ]
  },
  {
   "cell_type": "code",
   "execution_count": null,
   "metadata": {
    "collapsed": false
   },
   "outputs": [],
   "source": [
    "import psutil\n",
    "psutil.virtual_memory()"
   ]
  },
  {
   "cell_type": "code",
   "execution_count": null,
   "metadata": {
    "collapsed": true
   },
   "outputs": [],
   "source": []
  },
  {
   "cell_type": "code",
   "execution_count": null,
   "metadata": {
    "collapsed": false
   },
   "outputs": [],
   "source": [
    "import tensorflow"
   ]
  },
  {
   "cell_type": "code",
   "execution_count": null,
   "metadata": {
    "collapsed": true
   },
   "outputs": [],
   "source": []
  },
  {
   "cell_type": "code",
   "execution_count": null,
   "metadata": {
    "collapsed": true
   },
   "outputs": [],
   "source": []
  },
  {
   "cell_type": "code",
   "execution_count": null,
   "metadata": {
    "collapsed": false
   },
   "outputs": [],
   "source": [
    "len(ratio_all)"
   ]
  },
  {
   "cell_type": "code",
   "execution_count": null,
   "metadata": {
    "collapsed": false
   },
   "outputs": [],
   "source": [
    "ratio_all[2]"
   ]
  },
  {
   "cell_type": "code",
   "execution_count": null,
   "metadata": {
    "collapsed": true
   },
   "outputs": [],
   "source": [
    "# Let us reverse tops with cosmos\n",
    "\n",
    "cnt = 0\n",
    " \n",
    "for address1 in lower_chk01_tops:\n",
    "    cnt += 1\n",
    "    print (\"the currnt count is {}\".format(cnt))\n",
    "    if cnt > 3:\n",
    "        break\n",
    "    ratio_all = []\n",
    "    curr_sim = difflib.get_close_matches(address1, lower_chk01_cosmos)\n",
    "    ratio = []\n",
    "    sm = difflib.SequenceMatcher()\n",
    "    sm.set_seq1(address1)\n",
    "    for s in curr_sim:\n",
    "        sm.set_seq2(s)\n",
    "        ratio.append(sm.ratio())\n",
    "    ratio_all.append(ratio)"
   ]
  },
  {
   "cell_type": "code",
   "execution_count": null,
   "metadata": {
    "collapsed": true
   },
   "outputs": [],
   "source": []
  },
  {
   "cell_type": "code",
   "execution_count": null,
   "metadata": {
    "collapsed": true
   },
   "outputs": [],
   "source": []
  },
  {
   "cell_type": "code",
   "execution_count": null,
   "metadata": {
    "collapsed": true
   },
   "outputs": [],
   "source": []
  },
  {
   "cell_type": "code",
   "execution_count": null,
   "metadata": {
    "collapsed": true
   },
   "outputs": [],
   "source": []
  },
  {
   "cell_type": "code",
   "execution_count": null,
   "metadata": {
    "collapsed": true
   },
   "outputs": [],
   "source": []
  },
  {
   "cell_type": "code",
   "execution_count": null,
   "metadata": {
    "collapsed": true
   },
   "outputs": [],
   "source": []
  },
  {
   "cell_type": "code",
   "execution_count": null,
   "metadata": {
    "collapsed": false
   },
   "outputs": [],
   "source": [
    "lower_chk01_cosmos.head()"
   ]
  },
  {
   "cell_type": "code",
   "execution_count": null,
   "metadata": {
    "collapsed": true
   },
   "outputs": [],
   "source": []
  },
  {
   "cell_type": "code",
   "execution_count": null,
   "metadata": {
    "collapsed": false
   },
   "outputs": [],
   "source": [
    "samp_tops.member_last_name.value_counts(dropna=False).head(10)"
   ]
  },
  {
   "cell_type": "code",
   "execution_count": null,
   "metadata": {
    "collapsed": false
   },
   "outputs": [],
   "source": [
    "samp_tops.member_first_name.value_counts(dropna=False).head(10)"
   ]
  },
  {
   "cell_type": "code",
   "execution_count": null,
   "metadata": {
    "collapsed": true
   },
   "outputs": [],
   "source": [
    "fn_counts = samp_tops.member_first_name.value_counts(dropna=False)\n",
    "addr1_counts = samp_tops.addr_line_1.value_counts(dropna=False)\n",
    "\n",
    "fn_counts_c = samp_cosmos.member_first_name.value_counts(dropna=False)\n",
    "addr1_counts_c = samp_cosmos.addr_line_1.value_counts(dropna=False)"
   ]
  },
  {
   "cell_type": "code",
   "execution_count": null,
   "metadata": {
    "collapsed": true
   },
   "outputs": [],
   "source": []
  },
  {
   "cell_type": "code",
   "execution_count": null,
   "metadata": {
    "collapsed": true
   },
   "outputs": [],
   "source": []
  },
  {
   "cell_type": "code",
   "execution_count": null,
   "metadata": {
    "collapsed": true
   },
   "outputs": [],
   "source": []
  },
  {
   "cell_type": "code",
   "execution_count": null,
   "metadata": {
    "collapsed": true
   },
   "outputs": [],
   "source": []
  },
  {
   "cell_type": "code",
   "execution_count": null,
   "metadata": {
    "collapsed": true
   },
   "outputs": [],
   "source": []
  },
  {
   "cell_type": "code",
   "execution_count": null,
   "metadata": {
    "collapsed": true
   },
   "outputs": [],
   "source": []
  },
  {
   "cell_type": "code",
   "execution_count": null,
   "metadata": {
    "collapsed": true
   },
   "outputs": [],
   "source": []
  },
  {
   "cell_type": "code",
   "execution_count": null,
   "metadata": {
    "collapsed": true
   },
   "outputs": [],
   "source": []
  },
  {
   "cell_type": "code",
   "execution_count": null,
   "metadata": {
    "collapsed": true
   },
   "outputs": [],
   "source": []
  },
  {
   "cell_type": "code",
   "execution_count": null,
   "metadata": {
    "collapsed": true
   },
   "outputs": [],
   "source": []
  },
  {
   "cell_type": "code",
   "execution_count": null,
   "metadata": {
    "collapsed": true
   },
   "outputs": [],
   "source": []
  },
  {
   "cell_type": "code",
   "execution_count": null,
   "metadata": {
    "collapsed": false
   },
   "outputs": [],
   "source": [
    "print (\"tops has {} different first names, with totally {} 'Mike's. \".format(fn_counts.count(), fn_counts['MIKE']))\n",
    "print (\"tops has {} different address 1 out of {} claims \".format(addr1_counts.count(), samp_tops.member_individual_identifier.count()))\n",
    "\n",
    "print (\"cosmos has {} different first names, with totally {} 'Mike's. \".format(fn_counts_c.count(), fn_counts_c['MIKE']))\n",
    "print (\"cosmos has {} different address 1 out of {} claims \".format(addr1_counts_c.count(), samp_cosmos.member_individual_identifier.count()))"
   ]
  },
  {
   "cell_type": "code",
   "execution_count": null,
   "metadata": {
    "collapsed": true
   },
   "outputs": [],
   "source": [
    "addr1_01_tops = list(samp_tops['addr_line_1'])\n",
    "addr1_01_cosmos = list(samp_cosmos['addr_line_1'])"
   ]
  },
  {
   "cell_type": "code",
   "execution_count": null,
   "metadata": {
    "collapsed": true
   },
   "outputs": [],
   "source": [
    "addr1_set1_tops = set(addr1_01_tops)\n",
    "addr1_set1_cosmos = set(addr1_01_cosmos)"
   ]
  },
  {
   "cell_type": "code",
   "execution_count": null,
   "metadata": {
    "collapsed": false
   },
   "outputs": [],
   "source": [
    "print (\"the length of the tops list={} and set ={}\".format(len(addr1_01_tops), len(addr1_set1_tops)))"
   ]
  },
  {
   "cell_type": "code",
   "execution_count": null,
   "metadata": {
    "collapsed": true
   },
   "outputs": [],
   "source": [
    "# let us also set up the dataframes by pandas:\n",
    "df_dedup01_tops = samp_tops.addr_line_1.apply(lambda x:x.lower().translate({None:\"'.,\"}) if pd.notnull(x) else '')\n",
    "df_dedup01_cosmos = samp_cosmos.addr_line_1.apply(lambda x:x.lower().translate({None:\"'.,\"}) if pd.notnull(x) else '')"
   ]
  },
  {
   "cell_type": "code",
   "execution_count": null,
   "metadata": {
    "collapsed": true
   },
   "outputs": [],
   "source": []
  },
  {
   "cell_type": "code",
   "execution_count": null,
   "metadata": {
    "collapsed": true
   },
   "outputs": [],
   "source": []
  },
  {
   "cell_type": "code",
   "execution_count": null,
   "metadata": {
    "collapsed": false
   },
   "outputs": [],
   "source": [
    "addr1_01_tops\n",
    "MONTE CARLO WAY"
   ]
  },
  {
   "cell_type": "code",
   "execution_count": null,
   "metadata": {
    "collapsed": true
   },
   "outputs": [],
   "source": []
  },
  {
   "cell_type": "code",
   "execution_count": null,
   "metadata": {
    "collapsed": true
   },
   "outputs": [],
   "source": []
  },
  {
   "cell_type": "code",
   "execution_count": null,
   "metadata": {
    "collapsed": true
   },
   "outputs": [],
   "source": [
    "%matplotlib inline\n",
    "import matplotlib.pyplot as plt\n",
    "\n",
    "import hashlib\n",
    "\n",
    "import string\n",
    "import random"
   ]
  },
  {
   "cell_type": "code",
   "execution_count": null,
   "metadata": {
    "collapsed": true
   },
   "outputs": [],
   "source": []
  },
  {
   "cell_type": "code",
   "execution_count": null,
   "metadata": {
    "collapsed": true
   },
   "outputs": [],
   "source": [
    "# N-gram function courtesy of Peter Norvig\n",
    "def ngrams(seq, n):\n",
    "    \"List all the (overlapping) ngrams in a sequence.\"\n",
    "    return [seq[i:i+n] for i in range(1+len(seq)-n)]\n",
    "\n",
    "def permute(w, p):\n",
    "    return ''.join(string.ascii_lowercase[p[ord(c) - ord('a')]] for c in w)\n",
    "\n",
    "def jaccard_similarity(a, b):\n",
    "    x = set(a)\n",
    "    y = set(b)\n",
    "    return len(x & y) / len(x | y)\n",
    "\n",
    "def m(w, s, p):\n",
    "    return sorted(permute(w, p))[:s]\n",
    "\n",
    "def estimator(d1, d2, s, p):\n",
    "    ma = set(m(d1, s, p))\n",
    "    mb = set(m(d2, s, p))\n",
    "\n",
    "    mab = set(sorted(list(ma | mb))[:s])\n",
    "    return len(mab & ma & mb)/len(mab)"
   ]
  },
  {
   "cell_type": "code",
   "execution_count": null,
   "metadata": {
    "collapsed": true
   },
   "outputs": [],
   "source": [
    "random.seed(123456)\n",
    "\n",
    "def rand_hash(p):\n",
    "    a = random.randint(1,p-1)\n",
    "    b = random.randint(1,p-1)\n",
    "    def h(x):\n",
    "        return ((a * x + b) % p) \n",
    "    return h\n",
    "\n",
    "def min_hash_sig(s):\n",
    "    return [min(h(ord(c) - ord('a')) for c in s) for h in hash_fam]"
   ]
  },
  {
   "cell_type": "code",
   "execution_count": null,
   "metadata": {
    "collapsed": true
   },
   "outputs": [],
   "source": []
  },
  {
   "cell_type": "code",
   "execution_count": null,
   "metadata": {
    "collapsed": true
   },
   "outputs": [],
   "source": []
  },
  {
   "cell_type": "code",
   "execution_count": null,
   "metadata": {
    "collapsed": true
   },
   "outputs": [],
   "source": []
  },
  {
   "cell_type": "code",
   "execution_count": null,
   "metadata": {
    "collapsed": true
   },
   "outputs": [],
   "source": []
  },
  {
   "cell_type": "code",
   "execution_count": null,
   "metadata": {
    "collapsed": true
   },
   "outputs": [],
   "source": []
  },
  {
   "cell_type": "code",
   "execution_count": null,
   "metadata": {
    "collapsed": false
   },
   "outputs": [],
   "source": [
    "# read member information from the directory\n",
    "tops_frame = pd.DataFrame()\n",
    "list_tops = []\n",
    "for filename in topses:\n",
    "    if filename[-1] == '0':\n",
    "        curr_tops = pd.read_csv(os.path.join(path_tops, filename), sep = ',', names = mem_attrs, error_bad_lines=False)\n",
    "        list_tops.append(curr_tops)\n",
    "tops_frame = pd.concat(list_tops)"
   ]
  },
  {
   "cell_type": "markdown",
   "metadata": {},
   "source": [
    "## Analysis for the batch processing\n",
    "According to the above warning, there may be two posibilities:\n",
    "1. Different data type issue; then we can try to set dtype = False\n",
    "2. Memory issue: we should computer similarity chunk by chunk "
   ]
  },
  {
   "cell_type": "code",
   "execution_count": null,
   "metadata": {
    "collapsed": true
   },
   "outputs": [],
   "source": [
    "cnt_t = 0\n",
    "cnt_m = 0\n",
    "\n",
    "stop_t = 1\n",
    "stop_m = 1\n",
    "\n",
    "for file_tops in topses:\n",
    "    if file_tops[-1] == '0':\n",
    "        curr_tops = pd.read_csv(os.path.join(path_tops, file_tops), sep = ',', names = mem_attrs, error_bad_lines=False)\n",
    "        for file_cosmos in cosmoses:\n",
    "            if file_cosmos[-1] == '0':\n",
    "                cnt_cosmos += 1\n",
    "                curr_cosmos = pd.read_csv(os.path.join(path_cosmos, file_cosmos), sep = ',', names = mem_attrs, error_bad_lines=False)\n",
    "                \n",
    "                if cnt_cosmos >= stop_cosmos:\n",
    "                    break;\n",
    "            if cnt_tops >= stop_tops:\n",
    "                break;"
   ]
  },
  {
   "cell_type": "code",
   "execution_count": null,
   "metadata": {
    "collapsed": false
   },
   "outputs": [],
   "source": [
    "samp_tops = pd.read_csv(os.path.join(path_tops, topses[1]), sep = ',', names = mem_attrs, error_bad_lines=False)\n",
    "samp_cosmos = pd.read_csv(os.path.join(path_cosmos, cosmoses[1]), sep = ',', names = mem_attrs, error_bad_lines=False)"
   ]
  },
  {
   "cell_type": "code",
   "execution_count": null,
   "metadata": {
    "collapsed": false
   },
   "outputs": [],
   "source": [
    "samp_tops "
   ]
  },
  {
   "cell_type": "code",
   "execution_count": null,
   "metadata": {
    "collapsed": false
   },
   "outputs": [],
   "source": [
    "samp_cosmos"
   ]
  },
  {
   "cell_type": "code",
   "execution_count": null,
   "metadata": {
    "collapsed": false
   },
   "outputs": [],
   "source": [
    "list001_tops = list(samp_tops['addr_line_1'])\n",
    "list001_cosmos = list(samp_cosmos['addr_line_1'])"
   ]
  },
  {
   "cell_type": "code",
   "execution_count": null,
   "metadata": {
    "collapsed": true
   },
   "outputs": [],
   "source": []
  },
  {
   "cell_type": "code",
   "execution_count": null,
   "metadata": {
    "collapsed": true
   },
   "outputs": [],
   "source": []
  },
  {
   "cell_type": "code",
   "execution_count": null,
   "metadata": {
    "collapsed": true
   },
   "outputs": [],
   "source": []
  },
  {
   "cell_type": "code",
   "execution_count": null,
   "metadata": {
    "collapsed": true
   },
   "outputs": [],
   "source": []
  },
  {
   "cell_type": "code",
   "execution_count": null,
   "metadata": {
    "collapsed": false
   },
   "outputs": [],
   "source": [
    "topses"
   ]
  },
  {
   "cell_type": "code",
   "execution_count": null,
   "metadata": {
    "collapsed": true
   },
   "outputs": [],
   "source": []
  },
  {
   "cell_type": "code",
   "execution_count": null,
   "metadata": {
    "collapsed": true
   },
   "outputs": [],
   "source": []
  },
  {
   "cell_type": "code",
   "execution_count": null,
   "metadata": {
    "collapsed": true
   },
   "outputs": [],
   "source": []
  },
  {
   "cell_type": "code",
   "execution_count": null,
   "metadata": {
    "collapsed": true
   },
   "outputs": [],
   "source": []
  },
  {
   "cell_type": "code",
   "execution_count": null,
   "metadata": {
    "collapsed": true
   },
   "outputs": [],
   "source": []
  },
  {
   "cell_type": "code",
   "execution_count": null,
   "metadata": {
    "collapsed": false
   },
   "outputs": [],
   "source": [
    "top001 = pd.read_csv(os.path.join(path_tops, topses[1]), sep = ',', names = mem_attrs, error_bad_lines=False)"
   ]
  },
  {
   "cell_type": "code",
   "execution_count": null,
   "metadata": {
    "collapsed": false
   },
   "outputs": [],
   "source": [
    "top001.head()"
   ]
  },
  {
   "cell_type": "code",
   "execution_count": null,
   "metadata": {
    "collapsed": false
   },
   "outputs": [],
   "source": [
    "os.listdir('/mapr/datalake/uhclake/perf/ESLOADER/ymalcow')"
   ]
  },
  {
   "cell_type": "code",
   "execution_count": null,
   "metadata": {
    "collapsed": false
   },
   "outputs": [],
   "source": [
    "top001.count()"
   ]
  },
  {
   "cell_type": "code",
   "execution_count": null,
   "metadata": {
    "collapsed": false
   },
   "outputs": [],
   "source": [
    "os.listdir('/mapr/datalake/uhclake/perf/Sqoop_RX/ymalcow/501_mem_match_proj1')"
   ]
  },
  {
   "cell_type": "code",
   "execution_count": null,
   "metadata": {
    "collapsed": false
   },
   "outputs": [],
   "source": [
    "os.listdir('/mapr/datalake/uhclake/perf/Sqoop_RX/ymalcow/501_mem_match_proj1/tops_all_csv')"
   ]
  },
  {
   "cell_type": "code",
   "execution_count": null,
   "metadata": {
    "collapsed": false
   },
   "outputs": [],
   "source": [
    "os.listdir('/mapr/datalake/uhclake/perf/ESLOADER')"
   ]
  },
  {
   "cell_type": "code",
   "execution_count": null,
   "metadata": {
    "collapsed": true
   },
   "outputs": [],
   "source": []
  },
  {
   "cell_type": "code",
   "execution_count": null,
   "metadata": {
    "collapsed": true
   },
   "outputs": [],
   "source": []
  },
  {
   "cell_type": "code",
   "execution_count": null,
   "metadata": {
    "collapsed": false
   },
   "outputs": [],
   "source": [
    "print (os.listdir('/mapr'))"
   ]
  },
  {
   "cell_type": "code",
   "execution_count": null,
   "metadata": {
    "collapsed": true
   },
   "outputs": [],
   "source": []
  },
  {
   "cell_type": "code",
   "execution_count": null,
   "metadata": {
    "collapsed": false
   },
   "outputs": [],
   "source": [
    "from pyspark import SparkContext;\n",
    "from pyspark import SparkConf\n",
    "conf = (SparkConf().setMaster(\"yarn-client\").setAppName(\"test\")\n",
    "        .set(\"spark.executor.memory\", \"10g\")\n",
    "        .set(\"spark.executor.instances\", \"11\")\n",
    "        .set(\"spark.driver.memory\", \"5g\")\n",
    "        .set(\"spark.shuffle.service.enabled\",\"true\")\n",
    "        .set(\"spark.dynamicAllocation.enabled\",\"true\")\n",
    "        .set(\"spark.dynamicAllocation.minExecutors\",\"1\")\n",
    "        .set(\"spark.yarn.queue\", \"fabpwond_q1\")\n",
    "        )"
   ]
  },
  {
   "cell_type": "code",
   "execution_count": null,
   "metadata": {
    "collapsed": true
   },
   "outputs": [],
   "source": [
    "sparksql"
   ]
  },
  {
   "cell_type": "code",
   "execution_count": null,
   "metadata": {
    "collapsed": false
   },
   "outputs": [],
   "source": [
    "cnt2018 = spark.sql(\"select count(*) from h2s.cosmos_professional_claim where mth in ('2018-01','2018-01','2018-01')\");\n",
    "cnt2018.show(1);"
   ]
  },
  {
   "cell_type": "code",
   "execution_count": null,
   "metadata": {
    "collapsed": true
   },
   "outputs": [],
   "source": [
    "cnt2018 = spark.sql(\"select count(*) from h2s.cosmos_professional_claim where mth in ('2018-01','2018-01','2018-01')\");\n",
    "cnt2018.show(1);"
   ]
  }
 ],
 "metadata": {
  "anaconda-cloud": {},
  "kernelspec": {
   "display_name": "PySpark3",
   "language": "python",
   "name": "pyspark3"
  },
  "language_info": {
   "codemirror_mode": {
    "name": "ipython",
    "version": 3
   },
   "file_extension": ".py",
   "mimetype": "text/x-python",
   "name": "python",
   "nbconvert_exporter": "python",
   "pygments_lexer": "ipython3",
   "version": "3.5.2"
  }
 },
 "nbformat": 4,
 "nbformat_minor": 1
}
